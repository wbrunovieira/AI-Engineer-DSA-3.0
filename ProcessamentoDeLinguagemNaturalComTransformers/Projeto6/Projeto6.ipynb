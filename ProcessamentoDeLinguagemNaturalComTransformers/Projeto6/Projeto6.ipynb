{
 "cells": [
  {
   "cell_type": "markdown",
   "metadata": {
    "id": "R83O9AqUsMZ3"
   },
   "source": [
    "<!-- Projeto Desenvolvido na Data Science Academy - www.datascienceacademy.com.br -->\n",
    "\n",
    "# <font color='blue'>Data Science Academy</font>\n",
    "\n",
    "# <font color='blue'>Processamento de Linguagem Natural com Transformers</font>\n",
    "\n",
    "## <font color='blue'>Projeto 6</font>\n",
    "\n",
    "## <font color='blue'>Sistema de Busca em Documentos com LLM e VectorDB</font>"
   ]
  },
  {
   "cell_type": "markdown",
   "metadata": {
    "id": "rZXbOBDHJmr5"
   },
   "source": [
    "## Instalando e Carregando Pacotes"
   ]
  },
  {
   "cell_type": "code",
   "execution_count": 1,
   "metadata": {
    "colab": {
     "base_uri": "https://localhost:8080/"
    },
    "id": "O0o7kWnrCtj0",
    "outputId": "03dd771a-ebe0-42c5-84c4-a8c02e62e475"
   },
   "outputs": [
    {
     "name": "stdout",
     "output_type": "stream",
     "text": [
      "Versão da Linguagem Python Usada Neste Jupyter Notebook: 3.11.6\n"
     ]
    }
   ],
   "source": [
    "# Versão da Linguagem Python\n",
    "from platform import python_version\n",
    "print('Versão da Linguagem Python Usada Neste Jupyter Notebook:', python_version())"
   ]
  },
  {
   "cell_type": "code",
   "execution_count": 2,
   "metadata": {
    "id": "iMPeq0UyCtm9"
   },
   "outputs": [
    {
     "name": "stdout",
     "output_type": "stream",
     "text": [
      "\n",
      "\u001b[1m[\u001b[0m\u001b[34;49mnotice\u001b[0m\u001b[1;39;49m]\u001b[0m\u001b[39;49m A new release of pip is available: \u001b[0m\u001b[31;49m23.3.1\u001b[0m\u001b[39;49m -> \u001b[0m\u001b[32;49m24.0\u001b[0m\n",
      "\u001b[1m[\u001b[0m\u001b[34;49mnotice\u001b[0m\u001b[1;39;49m]\u001b[0m\u001b[39;49m To update, run: \u001b[0m\u001b[32;49mpip install --upgrade pip\u001b[0m\n",
      "Note: you may need to restart the kernel to use updated packages.\n"
     ]
    }
   ],
   "source": [
    "# Para atualizar um pacote, execute o comando abaixo no terminal ou prompt de comando:\n",
    "# pip install -U nome_pacote\n",
    "\n",
    "# Para instalar a versão exata de um pacote, execute o comando abaixo no terminal ou prompt de comando:\n",
    "# !pip install nome_pacote==versão_desejada\n",
    "\n",
    "# Depois de instalar ou atualizar o pacote, reinicie o jupyter notebook.\n",
    "\n",
    "# Instala o pacote watermark.\n",
    "# Esse pacote é usado para gravar as versões de outros pacotes usados neste jupyter notebook.\n",
    "%pip install -q -U watermark"
   ]
  },
  {
   "cell_type": "code",
   "execution_count": 3,
   "metadata": {
    "id": "1dUW9YCHktfg"
   },
   "outputs": [],
   "source": [
    "!pip install -q -U langchain openai"
   ]
  },
  {
   "cell_type": "code",
   "execution_count": null,
   "metadata": {
    "id": "_hctNnAMCr8w"
   },
   "outputs": [],
   "source": [
    "!pip install -q pinecone-client"
   ]
  },
  {
   "cell_type": "code",
   "execution_count": null,
   "metadata": {
    "id": "OV8vYQCFCr8w"
   },
   "outputs": [],
   "source": [
    "!pip install -q unstructured"
   ]
  },
  {
   "cell_type": "code",
   "execution_count": null,
   "metadata": {
    "id": "ZSULMjs3Cr8w"
   },
   "outputs": [],
   "source": [
    "!pip install -q unstructured_inference"
   ]
  },
  {
   "cell_type": "code",
   "execution_count": null,
   "metadata": {
    "id": "bSkNfcUFCr8w"
   },
   "outputs": [],
   "source": [
    "!pip install -q pypdf"
   ]
  },
  {
   "cell_type": "code",
   "execution_count": null,
   "metadata": {
    "id": "ytQTm7PACr8w"
   },
   "outputs": [],
   "source": [
    "!pip install -q PyPDF2"
   ]
  },
  {
   "cell_type": "code",
   "execution_count": null,
   "metadata": {
    "id": "0RtYRNEqx1bj"
   },
   "outputs": [],
   "source": [
    "!pip install -q pdf2image"
   ]
  },
  {
   "cell_type": "code",
   "execution_count": null,
   "metadata": {
    "id": "R7zHkQCaCr8x"
   },
   "outputs": [],
   "source": [
    "!pip install -q pikepdf"
   ]
  },
  {
   "cell_type": "code",
   "execution_count": null,
   "metadata": {
    "id": "uWfWqGNGCr8x"
   },
   "outputs": [],
   "source": [
    "!pip install -q tiktoken"
   ]
  },
  {
   "cell_type": "code",
   "execution_count": null,
   "metadata": {
    "colab": {
     "base_uri": "https://localhost:8080/"
    },
    "id": "hpzzC00qCr8x",
    "outputId": "43d17997-68d3-4e51-f084-e7aa27e7056e"
   },
   "outputs": [],
   "source": [
    "# Ambiente Linux (como o Google Colab) requer o pacote abaixo\n",
    "# !apt-get install poppler-utils"
   ]
  },
  {
   "cell_type": "code",
   "execution_count": null,
   "metadata": {
    "id": "Ii6qhpgXlzc7"
   },
   "outputs": [
    {
     "name": "stderr",
     "output_type": "stream",
     "text": [
      "/Users/dmpm/anaconda3/lib/python3.11/site-packages/pinecone/index.py:4: TqdmExperimentalWarning: Using `tqdm.autonotebook.tqdm` in notebook mode. Use `tqdm.tqdm` instead to force console mode (e.g. in jupyter console)\n",
      "  from tqdm.autonotebook import tqdm\n"
     ]
    }
   ],
   "source": [
    "# Imports\n",
    "import os\n",
    "import openai\n",
    "import langchain\n",
    "import pinecone\n",
    "from langchain.document_loaders import DirectoryLoader\n",
    "from langchain.text_splitter import RecursiveCharacterTextSplitter\n",
    "from langchain.embeddings.openai import OpenAIEmbeddings\n",
    "from langchain.vectorstores import Pinecone"
   ]
  },
  {
   "cell_type": "code",
   "execution_count": null,
   "metadata": {
    "colab": {
     "base_uri": "https://localhost:8080/"
    },
    "id": "obU7pBsLC0BQ",
    "outputId": "fda54b32-b189-4e39-e379-98803b7501f6"
   },
   "outputs": [
    {
     "name": "stdout",
     "output_type": "stream",
     "text": [
      "Author: Data Science Academy\n",
      "\n",
      "pinecone : 2.2.4\n",
      "langchain: 0.0.353\n",
      "openai   : 1.6.1\n",
      "\n"
     ]
    }
   ],
   "source": [
    "# Versões dos pacotes usados neste jupyter notebook\n",
    "%reload_ext watermark\n",
    "%watermark -a \"Data Science Academy\" --iversions"
   ]
  },
  {
   "cell_type": "markdown",
   "metadata": {
    "id": "rb9-Dx0zCr8x"
   },
   "source": [
    "## Extraindo Texto de Documentos"
   ]
  },
  {
   "cell_type": "code",
   "execution_count": null,
   "metadata": {
    "id": "rI_gF1CWCr8x"
   },
   "outputs": [],
   "source": [
    "# Pasta de dados (arquivos PDF)\n",
    "pasta_dados = r\"dados\""
   ]
  },
  {
   "cell_type": "code",
   "execution_count": null,
   "metadata": {
    "id": "3QbXPs1ECr8x"
   },
   "outputs": [],
   "source": [
    "# Função\n",
    "def carrega_arquivos(directory):\n",
    "    \n",
    "    loader = DirectoryLoader(directory)\n",
    "    \n",
    "    documents = loader.load()\n",
    "\n",
    "    return documents"
   ]
  },
  {
   "cell_type": "code",
   "execution_count": null,
   "metadata": {
    "id": "rL80WytsCr8x"
   },
   "outputs": [],
   "source": [
    "# Executa a função\n",
    "dsa_documentos = carrega_arquivos(pasta_dados)"
   ]
  },
  {
   "cell_type": "code",
   "execution_count": null,
   "metadata": {
    "colab": {
     "base_uri": "https://localhost:8080/"
    },
    "id": "kQU1VzNFCr8x",
    "outputId": "2ecc412c-faf1-4f3c-dbe1-4114a6b9068e"
   },
   "outputs": [
    {
     "name": "stdout",
     "output_type": "stream",
     "text": [
      "2\n"
     ]
    }
   ],
   "source": [
    "print(len(dsa_documentos))"
   ]
  },
  {
   "cell_type": "code",
   "execution_count": null,
   "metadata": {
    "colab": {
     "base_uri": "https://localhost:8080/"
    },
    "id": "ulZg8R-yDuMJ",
    "outputId": "1fee0a50-871e-4910-9e31-1d3047289cfe"
   },
   "outputs": [
    {
     "name": "stdout",
     "output_type": "stream",
     "text": [
      "[Document(page_content='Inteligência Artificial Dispara Como Tecnologia Mais Relevante Para 2024\\n\\nUma pesquisa feita com líderes globais de tecnologia dos EUA, Brasil, Reino Unido, China e Ìndia pelo IEEE (Instituto dos Engenheiros Eletrônicos e Eletricistas), organização mundial técnico- profissional dedicada ao avanço da tecnologia em benefício da humanidade, mostra que para 65% dos entrevistados, a IA generativa vai continuar a dominar o cenário tecnológico a partir de 2024.\\n\\nO estudo pediu ainda para 350 CIOs e executivos de TI definirem três áreas principais na tecnologia no próximo ano e as respostas foram:\\n\\n(65%) Inteligência Artificial (IA), incluindo IA preditiva e generativa, machine learning (ML) e processamento de linguagem natural (PLN);\\n\\n(28%) Realidade estendida (XR), incluindo metaverso, realidade aumentada (AR), realidade virtual (VR) e realidade mista (MR); e\\n\\n(24%) computação em nuvem\\n\\nOutras tecnologias importantes citadas para 2024 foram 5G (22%) e veículos elétricos (20%).\\n\\nOs participantes da pesquisa também foram perguntados qual porcentagem de empregos em toda economia global em 2024 será aumentada por software baseado IA e a maioria foi otimista. De 26% a 50% dos empregos foram citados por 41% dos respondentes. Mais de um quarto (28%) citou 1-25% dos empregos, outros 26% citaram de 51-75% dos empregos, e 5% citaram 76-100% dos empregos.\\n\\nTelecomunicações (20%), Manufatura (18%), Energia (17%), Entretenimento e Serviços Bancários e Financeiros (ambos com 16%) serão os setores mais impactados pela tecnologia em 2024.\\n\\nO levantamento também mostra que as áreas como Tecnologia Nuclear (28%), 5G (22%), Robótica (21%), Realidade Estendida (20%) e Internet Industrial das Coisas (IoT) (19%) terão atenção das companhias. O levantamento apurou ainda que para 44% dos brasileiros entrevistados, 6G deve se tornar padrão nos próximos 3 a 5 anos.\\n\\nA pesquisa “O Impacto da Tecnologia a partir de 2024: um Estudo Global IEEE” entrevistou 350 CIOs, CTOs, diretores de TI e outros líderes de tecnologia nos Estados Unidos, China, Reino Unido, Índia e Brasil de organizações com mais de 1.000 funcionários através em vários setores da indústria incluindo serviços bancários e financeiros, bens de consumo, educação, eletrônicos, engenharia, energia, governos, saúde, seguros, varejo, tecnologia e telecomunicações. As pesquisas foram conduzidas entre 19 e 23 de Setembro de 2023.\\n\\n“Sorte” de quem está se preparando para o novo mundo que está bem diante de nós.\\n\\nFonte: Artigo Publicado no Portal Convergência Digital\\n\\nInicie sua capacitação hoje mesmo: Cursos e Formações da Data Science Academy\\n\\nEquipe DSA', metadata={'source': 'dados/ArtigoDSA2.pdf'}), Document(page_content='A Demanda Por Habilidades de IA, Machine Learning e Engenharia de Dados Continua Crescendo\\n\\nA lacuna de habilidades digitais persiste, com um número crescente de trabalhadores despreparados para as contínuas transformações digitais de empresas em todo o mundo e em todos os setores de negócios. É grande a falta de profissionais com a capacitação adequada.\\n\\nE agora a escassez é particularmente aguda em Inteligência Artificial, que decolou recentemente com a popularidade do ChatGPT da OpenAI. Uma pesquisa recente da empresa de análise SAS (link nas referências ao final do artigo) descobriu que 63% dos tomadores de decisão disseram que sua maior escassez de habilidades era em Inteligência Artificial (IA) e Machine Learning (ML).\\n\\nO lançamento do ChatGPT, juntamente com notícias sobre projetos semelhantes em andamento do Google, Meta e outros, colocou o Processamento de Linguagem Natural (PLN), projetado para ajudar as máquinas a entender o significado de textos, na vanguarda da pesquisa em IA. A celebridade do ChatGPT aumentou o interesse em PLN e Deep Learning e esse interesse provavelmente crescerá à medida que novas ferramentas de IA generativa aparecerem para uso em uma variedade de aplicativos de negócios.\\n\\nO crescente fascínio pelo potencial das ferramentas de IA e ML é evidente nas descobertas do recente relatório Technology Trends for 2023 da O’Reilly (link ao final do artigo), que examina os tópicos de tecnologia mais procurados consumidos pelos 2,8 milhões de usuários na plataforma de aprendizado on-line da O’Reilly. Ao analisar quais ferramentas os usuários estão aprendendo todos os dias, o relatório identifica tendências no cenário de tecnologia e negócios que podem moldar o próximo ano.\\n\\nÉ importante acompanhar essas tendências, especialmente à medida que mais organizações se voltam para os esforços de qualificação e requalificação para garantir que suas forças de trabalho possam ajudá-las a acompanhar as tendências – na pesquisa SAS, 75% dos tomadores de decisão disseram que o treinamento e a qualificação da equipe são o principal método para fechar a lacuna de habilidades. À medida que o uso de ferramentas low-code cresce, o treinamento será cada vez mais importante de ser implementado.\\n\\nEm estudos posteriores conduzidos pela O’Reilly, descobriu-se que a maior dificuldade para os profissionais que trabalham com novas ferramentas é o treinamento (34%), seguido pela facilidade de uso (12%). Embora essas ferramentas sejam cada vez mais baseadas em IA, elas não são necessariamente simples. As habilidades necessárias para usá-las incluem pensamento analítico, teste e depuração, além do do conhecimento do processo.\\n\\nProcessamento de Linguagem Natural no Centro das Atenções\\n\\nUm sinal claro do impacto do ChatGPT está no interesse que os usuários da O’Reilly mostraram em PLN, que teve o maior crescimento ano a ano em 42%, e em aprendizado profundo (Deep Learning), que seguiu em 23%. O PLN tem muitos usos, desde chatbots automatizados até ferramentas de geração e escrita de código, portanto, o interesse não é surpreendente.\\n\\nOs profissionais também têm procurado cada vez mais conteúdo relacionado a Transformers, o modelo de IA que ajudou a alimentar o PLN, refletindo ainda mais o impacto do ChatGPT. O interesse em PLN e aprendizado profundo só aumentará à medida que o potencial dessas ofertas crescer e novos projetos aparecerem.\\n\\nAs tecnologias tradicionais para construir chatbots são uma “vítima” do crescente interesse em PLN e Deep Learning; elas mostraram um declínio de 5,8% ano a ano no uso. Esse resultado pode inicialmente parecer contra-intuitivo, mas faz sentido à luz do impacto divisor de águas do lançamento do ChatGPT, que fez tudo o que o precedeu parecer desatualizado quando falamos de chatbots.\\n\\nO futuro do ChatGPT dependerá de como ele e seus concorrentes são comercializados, à medida que se torna um serviço pago e à medida que a Microsoft e o Google avançam em suas próprias ferramentas de pesquisa baseadas em bate-papo.\\n\\nAs Ferramentas de IA e ML Estão Chamando a Atenção\\n\\nOs profissionais também demonstraram interesse contínuo no Scikit-learn, uma ferramenta amplamente usada em Linguagem Python e biblioteca bastante popular. Seu uso aumentou 4,7% em relação ao ano anterior.\\n\\nO uso geral do PyTorch e do TensorFlow é aproximadamente equivalente ao do Scikit-learn (com o PyTorch um pouco à frente), mas esses dois podem estar indo em direções diferentes. O PyTorch agora tem impulso, aumentando em 20%, enquanto o TensorFlow diminuiu em 4,8%. Enquanto isso, o Keras, uma biblioteca front-end que usa o TensorFlow, caiu 40%. No entanto, o verdadeiro vencedor serão as APIs de programação pública para ChatGPT, Bard e outros modelos de linguagem. Essas APIs já estão alimentando uma nova geração de aplicativos orientados por IA. Ensinamos como usar essas APIs no curso de Processamento de Linguagem Natural com Transformers.\\n\\nOutro desenvolvimento notável é a diminuição do interesse em MLOps, cujo uso caiu 4%. O MLOps se concentra em simplificar o processo de levar modelos de ML para produção e acompanhar, mantendo e monitorando-os. Isso parece preencher um papel importante de integração de aplicativos de IA e ML em implantações para outros aplicativos de TI.\\n\\nNo entanto, o MLOps ainda é imaturo neste ponto, precisando de controle de versão, teste e ferramentas de implantação. As equipes de DevOps precisam ser capazes de testar, codificar, liberar e monitorar software com mais eficiência, mas como esses problemas estão apenas começando a ser resolvidos, espera-se que o processo seja gradual.\\n\\nA Engenharia de Dados Mostra Seu Valor\\n\\nO crescente interesse em IA não obscurece o fato de que a Ciência de Dados, que inclui uma ampla área de tópicos, incluindo IA, ainda é muito importante na mente dos profissionais de tecnologia. A engenharia de dados, que lida com armazenamento e entrega de dados em escala, foi de longe o tópico dominante, crescendo 35% ano a ano.\\n\\nA engenharia de dados inclui tarefas como mover dados para a nuvem, construir pipelines para aquisição de dados e obter dados para softwares de aplicativos e resolver os problemas causados por dados isolados em diferentes organizações. Tudo isso permite que as empresas otimizem os dados para a usabilidade – uma iniciativa importante em muitas organizações – por isso, o aumento do interesse não é surpreendente.\\n\\nNa verdade, a IA não acontece sem engenharia de dados. A engenharia de dados necessária para criar algo como o GPT-4 é incrível, mas mesmo projetos muito menores exigem uma engenharia de dados significativa para reunir os dados de uma organização e torná-los úteis para o treinamento de modelos de IA.\\n\\nHabilidades de Nuvem em Alta Demanda\\n\\nA computação em nuvem continua a crescer, com as organizações priorizando a contratação de especialistas em nuvem. De acordo com dados de empregos de 2021 do Indeed, a parcela de empregos de computação em nuvem por milhão aumentou 42% de 2018 a 2021. Ter algum nível de experiência em nuvem parece ser um requisito básico para quem trabalha na área de dados.\\n\\nA AWS continua sendo a nuvem mais popular, seguida pelo Microsoft Azure e Google Cloud — juntos, eles representam 97% do uso de conteúdo em Cloud Computing. O que é intrigante é que todos os três provedores tiveram quedas leves (possivelmente insignificantes) no uso, com AWS caindo 3,8%, Azure 7,5% e Google Cloud 2,1%. As certificações em nuvem seguiram um padrão semelhante, com a AWS perdendo mais, seguida por Azure e Google Cloud, e cada uma registrando um declínio ano após ano.\\n\\nEmbora o uso de conteúdo relacionado a provedores de nuvem específicos tenha caído, o interesse em outros tópicos de computação em nuvem aumentou. Os mais populares incluíram migração para a nuvem (crescimento de 45%), modelos de serviço de nuvem (crescimento de 41%) e nuvem híbrida (crescimento de 28%). Esses resultados podem ser um sinal da crescente maturidade das organizações em Cloud Computing. Uma vez passados os estágios iniciais de adoção, as organizações provavelmente se concentram menos em nuvens individuais e mais em questões de alto nível, como a migração em grande escala para a nuvem. Apesar da conversa sobre “repatriação da nuvem”, está claro que o interesse pela nuvem ainda está crescendo.\\n\\nPreparando Empresas Para o Sucesso a Longo Prazo\\n\\nOs dados extraídos da plataforma O’Reilly dão um sinal claro da popularidade crescente ou decrescente das ferramentas de tecnologia. Existem sinais de tendências importantes – algumas completamente novas, algumas continuações de tendências que começaram anos atrás.\\n\\nObservar essas tendências pode dar uma vantagem aos líderes de negócios, ajudando-os a se preparar para o sucesso no próximo ano e além, à medida que trabalham para requalificar e aprimorar os funcionários nas áreas de maior impacto para suas empresas.\\n\\nPara os profissionais, observar essas tendências e buscar capacitação é a fórmula para manter a empregabilidade em alta.\\n\\nAcesse nosso catálogo de cursos e inicie seu treinamento agora mesmo: Cursos e Formações da DSA.\\n\\nhttps://www.datascienceacademy.com.br/todoscursosdsa\\n\\nEquipe DSA', metadata={'source': 'dados/ArtigoDSA1.pdf'})]\n"
     ]
    }
   ],
   "source": [
    "print(dsa_documentos)"
   ]
  },
  {
   "cell_type": "markdown",
   "metadata": {
    "id": "AxpM9BH9Cr8x"
   },
   "source": [
    "## Pré-Processamento dos Dados de Texto"
   ]
  },
  {
   "cell_type": "code",
   "execution_count": null,
   "metadata": {
    "id": "-AyUtbKfCr8x"
   },
   "outputs": [],
   "source": [
    "# Função\n",
    "def split_docs(documents, chunk_size = 1000, chunk_overlap = 20):\n",
    "\n",
    "    text_splitter = RecursiveCharacterTextSplitter(chunk_size = chunk_size,\n",
    "                                                   chunk_overlap = chunk_overlap)\n",
    "\n",
    "    docs = text_splitter.split_documents(documents)\n",
    "\n",
    "    return docs"
   ]
  },
  {
   "cell_type": "code",
   "execution_count": null,
   "metadata": {
    "id": "UQOeJQVSCr8y"
   },
   "outputs": [],
   "source": [
    "dsa_docs = split_docs(dsa_documentos)"
   ]
  },
  {
   "cell_type": "code",
   "execution_count": null,
   "metadata": {
    "colab": {
     "base_uri": "https://localhost:8080/"
    },
    "id": "re-Vj875Cr8y",
    "outputId": "5fb44e81-78ee-41eb-b3a0-5852e32fe0fb"
   },
   "outputs": [
    {
     "name": "stdout",
     "output_type": "stream",
     "text": [
      "14\n"
     ]
    }
   ],
   "source": [
    "print(len(dsa_docs))"
   ]
  },
  {
   "cell_type": "code",
   "execution_count": null,
   "metadata": {
    "colab": {
     "base_uri": "https://localhost:8080/"
    },
    "id": "t_sJEmD6Cr8y",
    "outputId": "d9f87ea0-1451-44f6-ba3e-441f0e7a7e2a"
   },
   "outputs": [
    {
     "name": "stdout",
     "output_type": "stream",
     "text": [
      "Os participantes da pesquisa também foram perguntados qual porcentagem de empregos em toda economia global em 2024 será aumentada por software baseado IA e a maioria foi otimista. De 26% a 50% dos empregos foram citados por 41% dos respondentes. Mais de um quarto (28%) citou 1-25% dos empregos, outros 26% citaram de 51-75% dos empregos, e 5% citaram 76-100% dos empregos.\n",
      "\n",
      "Telecomunicações (20%), Manufatura (18%), Energia (17%), Entretenimento e Serviços Bancários e Financeiros (ambos com 16%) serão os setores mais impactados pela tecnologia em 2024.\n",
      "\n",
      "O levantamento também mostra que as áreas como Tecnologia Nuclear (28%), 5G (22%), Robótica (21%), Realidade Estendida (20%) e Internet Industrial das Coisas (IoT) (19%) terão atenção das companhias. O levantamento apurou ainda que para 44% dos brasileiros entrevistados, 6G deve se tornar padrão nos próximos 3 a 5 anos.\n"
     ]
    }
   ],
   "source": [
    "print(dsa_docs[1].page_content)"
   ]
  },
  {
   "cell_type": "markdown",
   "metadata": {
    "id": "5zbFCbyvCr8y"
   },
   "source": [
    "## Gerando as Embeddings\n",
    "\n",
    "Crie sua API na OpenAI e coloque no arquivo .env na mesma pasta onde está este Jupyter Notebook.\n",
    "\n",
    "https://platform.openai.com/\n",
    "\n",
    "https://platform.openai.com/api-keys\n",
    "\n",
    "https://platform.openai.com/docs/quickstart?context=python"
   ]
  },
  {
   "cell_type": "code",
   "execution_count": null,
   "metadata": {
    "id": "h-9pb35UD7fu"
   },
   "outputs": [],
   "source": [
    "!pip install -q python-dotenv"
   ]
  },
  {
   "cell_type": "code",
   "execution_count": null,
   "metadata": {
    "colab": {
     "base_uri": "https://localhost:8080/"
    },
    "id": "x8zNKAg4Cr8y",
    "outputId": "f90a17cf-c715-43e9-c013-f1716184fb36"
   },
   "outputs": [
    {
     "data": {
      "text/plain": [
       "True"
      ]
     },
     "execution_count": 25,
     "metadata": {},
     "output_type": "execute_result"
    }
   ],
   "source": [
    "# Carregando as variáveis de ambiente definidas no arquivo .env\n",
    "from dotenv import load_dotenv\n",
    "load_dotenv()"
   ]
  },
  {
   "cell_type": "code",
   "execution_count": null,
   "metadata": {
    "id": "EWwExvWtCr8y"
   },
   "outputs": [],
   "source": [
    "embeddings = OpenAIEmbeddings(api_key = os.environ['OPENAI_API_KEY'])"
   ]
  },
  {
   "cell_type": "code",
   "execution_count": null,
   "metadata": {
    "id": "VXQw1TM8Cr8y"
   },
   "outputs": [],
   "source": [
    "query_result = embeddings.embed_query(\"Aprendendo sobre LLMs com a DSA\")"
   ]
  },
  {
   "cell_type": "code",
   "execution_count": null,
   "metadata": {
    "colab": {
     "base_uri": "https://localhost:8080/"
    },
    "id": "7aPFF9QKCr8y",
    "outputId": "12fb0cf0-0784-4652-d974-81af076bc2df"
   },
   "outputs": [
    {
     "data": {
      "text/plain": [
       "1536"
      ]
     },
     "execution_count": 28,
     "metadata": {},
     "output_type": "execute_result"
    }
   ],
   "source": [
    "len(query_result)"
   ]
  },
  {
   "cell_type": "code",
   "execution_count": null,
   "metadata": {},
   "outputs": [
    {
     "data": {
      "text/plain": [
       "[-0.005041217572552165,\n",
       " 0.027037697669790205,\n",
       " -0.0038109818608999153,\n",
       " -0.04395859439051072,\n",
       " -0.025841825433796817,\n",
       " 0.021938060093142125,\n",
       " -0.01503774286435609,\n",
       " 0.007498252881121428,\n",
       " -0.01708584512917345,\n",
       " -0.013237062280895537,\n",
       " 0.0156562966020868,\n",
       " 0.001833326350997773,\n",
       " -0.0045326288195750115,\n",
       " -0.0026443198597851346,\n",
       " -0.0020085834529023927,\n",
       " 0.009381407203147151,\n",
       " 0.019298894871121144,\n",
       " -0.005835028994264121,\n",
       " 0.033511900349825555,\n",
       " -0.007312686852934475,\n",
       " -0.0036700890495614323,\n",
       " -0.01462537370586895,\n",
       " 0.012707854976861766,\n",
       " -0.023367608620228773,\n",
       " 0.000304122551243345,\n",
       " -0.012591016831315137,\n",
       " 0.0075051260419145005,\n",
       " -0.015601315041032623,\n",
       " -0.013848743789155774,\n",
       " 0.005113382501250325,\n",
       " 0.04420601700319012,\n",
       " -0.008178662737683291,\n",
       " -0.01228173949678848,\n",
       " -0.014694101588509274,\n",
       " -0.003999984469483404,\n",
       " -0.027862435986764487,\n",
       " 0.018130515278300046,\n",
       " -0.007388287896367871,\n",
       " 0.02141572594990143,\n",
       " -0.012082428078337983,\n",
       " 0.001075597277219572,\n",
       " 0.0028848686131795168,\n",
       " 0.007161484766067683,\n",
       " -0.020261090816021274,\n",
       " -0.0028075492795478526,\n",
       " 0.01788309266562064,\n",
       " -0.018762814406294303,\n",
       " -0.009917487667973993,\n",
       " -0.02927823819226499,\n",
       " 0.0028556590767928594,\n",
       " 0.016013684199519762,\n",
       " 0.018790305186821392,\n",
       " -0.022295447690575086,\n",
       " -0.011835006396981177,\n",
       " -0.015161454170695794,\n",
       " 0.00970442992793735,\n",
       " 0.011353908424531114,\n",
       " 0.010164909349330798,\n",
       " 0.025374472851610298,\n",
       " -0.02479715528467022,\n",
       " 0.009663192825824117,\n",
       " -0.023161423109662602,\n",
       " -0.028151093838911925,\n",
       " 0.00838484731692686,\n",
       " 0.0017087563652202367,\n",
       " 0.011738786802491165,\n",
       " 0.001695869770809851,\n",
       " 0.027477557608804434,\n",
       " 0.019133946462668208,\n",
       " 0.006587603779524142,\n",
       " 0.014460425297416013,\n",
       " -0.005474205747757223,\n",
       " -0.009711303088730423,\n",
       " -0.0013676922918401716,\n",
       " 0.038405352415907465,\n",
       " -0.017566942170300914,\n",
       " -0.02019236293338095,\n",
       " -0.018914016493161094,\n",
       " 0.010274874334084355,\n",
       " -0.01829546182410778,\n",
       " -0.00024140801490884112,\n",
       " 0.0014999942342639393,\n",
       " -0.021237031219862344,\n",
       " -0.005721627429114027,\n",
       " 0.008797217406736602,\n",
       " 0.0037010166433157077,\n",
       " -0.010501677464384542,\n",
       " 0.01708584512917345,\n",
       " -0.025594402821117412,\n",
       " -0.007642582272856448,\n",
       " 0.0021219850180524864,\n",
       " 0.0057491186753024165,\n",
       " 0.010268002104613884,\n",
       " 0.005563552647115463,\n",
       " -0.017676909017699673,\n",
       " -0.0016245642200414755,\n",
       " -0.001872845046497414,\n",
       " -0.0006937258488988273,\n",
       " 0.0003187272903328425,\n",
       " -0.016934643042306657,\n",
       " -0.014460425297416013,\n",
       " 0.013670050921761894,\n",
       " -0.007292068301877858,\n",
       " -0.018776560727880448,\n",
       " -0.03219231680749246,\n",
       " -0.03810294824217388,\n",
       " 0.012295485818374625,\n",
       " 0.0341716902583469,\n",
       " -0.0070171553743326644,\n",
       " -0.00914773091205389,\n",
       " -0.022611596323249616,\n",
       " 0.027917419410463867,\n",
       " 0.0010060099002341394,\n",
       " -0.029085799003284965,\n",
       " -0.017594434813473205,\n",
       " -0.026597835868130776,\n",
       " -0.008254263781116686,\n",
       " -0.010501677464384542,\n",
       " 0.03285210671601381,\n",
       " 0.000676114247481517,\n",
       " 0.042556536643951155,\n",
       " 0.004962180414383533,\n",
       " 0.04428849120741659,\n",
       " 0.010350475377517751,\n",
       " 0.004288643252953443,\n",
       " -0.0021013664669958694,\n",
       " -0.020233600035494185,\n",
       " -0.007051519315652826,\n",
       " -0.034913954371094715,\n",
       " -0.008006842099759881,\n",
       " 0.019353878294820524,\n",
       " 0.027216390537184085,\n",
       " -0.016274851271140114,\n",
       " -0.02476966450414313,\n",
       " -0.02611673882700331,\n",
       " 0.024274821141429523,\n",
       " 0.003365966352798931,\n",
       " 0.014982760371979311,\n",
       " -0.031202630082065246,\n",
       " 0.010914047554194284,\n",
       " 0.0015077261909101707,\n",
       " 0.022762798410116407,\n",
       " -0.0013788607124676142,\n",
       " -0.02177311168468919,\n",
       " -0.00852917717432318,\n",
       " 0.0033762756283272394,\n",
       " 0.020481020785528388,\n",
       " 0.0034896774263079833,\n",
       " -0.007292068301877858,\n",
       " -0.017979313191433255,\n",
       " 0.0012207856976384002,\n",
       " -0.02555316571900418,\n",
       " -0.022267955047402796,\n",
       " -0.000778347508419493,\n",
       " -0.003646034150938929,\n",
       " 0.004477645861536933,\n",
       " 0.023807468559243,\n",
       " 0.0494293621608875,\n",
       " -0.0016108185969472809,\n",
       " -0.006422655836732506,\n",
       " -0.012343595149958331,\n",
       " 0.0022628778293909695,\n",
       " -0.0019243911913083066,\n",
       " 0.00958071955292025,\n",
       " 0.008749107143830296,\n",
       " 0.03109266509731169,\n",
       " 0.002250850496495043,\n",
       " 0.004329880355066677,\n",
       " 0.002331606177692593,\n",
       " -0.0026769657437376785,\n",
       " -0.006738805866390934,\n",
       " 0.021346996204615904,\n",
       " -0.02813734937997098,\n",
       " 0.006752551256654479,\n",
       " -5.2834847907678026e-05,\n",
       " 0.022570359221136378,\n",
       " 0.007429524532819805,\n",
       " -0.00695873630155935,\n",
       " -0.02280403551222964,\n",
       " -0.024865883167310542,\n",
       " 0.012927785877691481,\n",
       " -0.0041546231367467325,\n",
       " 0.014446679907152468,\n",
       " 0.020302327918134508,\n",
       " -0.02570436780587097,\n",
       " 0.023821214880829146,\n",
       " 0.007924367895533413,\n",
       " 0.022391666353742498,\n",
       " -0.02133325174567496,\n",
       " 0.01480406657326283,\n",
       " 0.02309269522702228,\n",
       " 0.012213011614148157,\n",
       " -0.039175109171827566,\n",
       " -0.018185496839354224,\n",
       " -0.6399975598208296,\n",
       " -0.0073195595480662476,\n",
       " 0.009903742277710448,\n",
       " -0.01720955643551315,\n",
       " 0.0032663104107430317,\n",
       " -0.011044631090004458,\n",
       " -0.008089316303986351,\n",
       " 0.005948430559414214,\n",
       " -0.0045773020364234815,\n",
       " -0.03279712515495963,\n",
       " -0.004646030384725105,\n",
       " -0.0069346811701061955,\n",
       " 0.008068697752929734,\n",
       " -0.019752501131721518,\n",
       " 0.0025876188443794378,\n",
       " -0.01954631748380055,\n",
       " 0.022212973486348618,\n",
       " -0.0028316041781703562,\n",
       " 0.021374488847788194,\n",
       " 0.024824646065197308,\n",
       " -0.014054929299721946,\n",
       " 0.012852183902935485,\n",
       " 0.0021288577131842587,\n",
       " 0.010907174393401211,\n",
       " -0.00035502442454138085,\n",
       " -0.0006928667620073558,\n",
       " 0.022611596323249616,\n",
       " -0.0006722482691584013,\n",
       " -0.009278314447864065,\n",
       " -0.012859057063728557,\n",
       " -0.026652819291830155,\n",
       " -0.0032164825561304075,\n",
       " -0.014694101588509274,\n",
       " 0.007154611605274611,\n",
       " 0.040219777458308965,\n",
       " -0.015340147038089674,\n",
       " -0.005721627429114027,\n",
       " 0.003903765107824042,\n",
       " -0.005903757342565744,\n",
       " 0.027367592624050877,\n",
       " -0.016659729649100164,\n",
       " -0.004292079833349979,\n",
       " 0.04310636343036415,\n",
       " 0.02558065836217647,\n",
       " 0.004436409225084999,\n",
       " 0.0014175203792834463,\n",
       " 0.043656190216777135,\n",
       " 0.0065498032578074445,\n",
       " -0.015106471678319014,\n",
       " -0.01855662889572813,\n",
       " 0.0001830963789286648,\n",
       " 0.0034931137738738694,\n",
       " -0.018749068084708158,\n",
       " -0.022955237599096432,\n",
       " 0.00894154633281032,\n",
       " 0.010604770219667627,\n",
       " 0.022996474701209666,\n",
       " 0.005752555255698953,\n",
       " 0.018570375217314274,\n",
       " -0.008288627722436848,\n",
       " 0.0009072129868620494,\n",
       " -0.004010293745011713,\n",
       " -0.01733326587920765,\n",
       " 0.002774903395595309,\n",
       " -0.015257673765185806,\n",
       " -0.0012207856976384002,\n",
       " -0.022048025077895682,\n",
       " 0.010322984596990662,\n",
       " 0.008103061694249895,\n",
       " -0.027092679230844383,\n",
       " 0.013003386921124876,\n",
       " 0.03004799494818509,\n",
       " 0.004316134499141832,\n",
       " 0.0002465626235691641,\n",
       " -0.0057044454584539465,\n",
       " 0.0057491186753024165,\n",
       " 0.027738724680424782,\n",
       " 0.002108239394958292,\n",
       " 0.01046731352306438,\n",
       " 0.008522304013530107,\n",
       " -0.013347028196971695,\n",
       " -0.021058338352468464,\n",
       " -0.006560112067674453,\n",
       " -0.010384840250160513,\n",
       " 0.034721517044759884,\n",
       " 0.001159789305983008,\n",
       " -0.014529154111378938,\n",
       " -0.043628697573604845,\n",
       " -0.010164909349330798,\n",
       " 0.02837102567106424,\n",
       " 0.023491318063923274,\n",
       " 0.020261090816021274,\n",
       " -0.022034280618954738,\n",
       " -0.02702395134820406,\n",
       " 0.022900256038042254,\n",
       " 0.03829538556850871,\n",
       " 0.0014115065964201577,\n",
       " 0.016755950174912777,\n",
       " -0.005168364993627103,\n",
       " -0.01749821428766059,\n",
       " 0.011573838394038229,\n",
       " 0.007628836882592903,\n",
       " -0.009883123726653831,\n",
       " -0.014996505762242856,\n",
       " 0.044096050155791364,\n",
       " -0.004305825223613524,\n",
       " -0.018419173130447483,\n",
       " 0.022391666353742498,\n",
       " 0.025718114127457115,\n",
       " -0.01923016698848082,\n",
       " -0.015931209995293294,\n",
       " -0.0007710451243228287,\n",
       " -0.014336714922398911,\n",
       " -0.008632268998283664,\n",
       " -0.010048071203784169,\n",
       " -0.033099529328693214,\n",
       " 0.016522273883819518,\n",
       " -0.008336737985343155,\n",
       " 0.028535972216871975,\n",
       " -0.006797224939164249,\n",
       " 0.01664598332751402,\n",
       " 0.00803433381160957,\n",
       " 0.021608165138881454,\n",
       " -0.007037773459727981,\n",
       " -0.018542884436787185,\n",
       " -0.0006413205589888007,\n",
       " -0.018364191569393305,\n",
       " 0.002683838438869451,\n",
       " -0.008336737985343155,\n",
       " 0.005158055718098795,\n",
       " -0.016013684199519762,\n",
       " 0.002068720583043326,\n",
       " 0.024467260330409548,\n",
       " -0.01817175238041328,\n",
       " 0.0248521387083696,\n",
       " -0.018735323625767214,\n",
       " 0.023560047809208798,\n",
       " -0.014542899501642483,\n",
       " -0.011951844542527809,\n",
       " -0.0009518863783335073,\n",
       " -0.019326385651648233,\n",
       " -0.019958686642287688,\n",
       " 0.007360796650179482,\n",
       " -0.023532555166036508,\n",
       " -0.03969744331506826,\n",
       " -0.0359861153007484,\n",
       " -0.021676893021521777,\n",
       " 0.008742234914359824,\n",
       " -0.011360781585324187,\n",
       " -0.0030377889902445765,\n",
       " -0.004518882963650167,\n",
       " -0.009855632014804142,\n",
       " -0.02684525848081018,\n",
       " 0.026721547174470478,\n",
       " -0.006288635720525795,\n",
       " 0.005024035601892084,\n",
       " -0.006237089342884253,\n",
       " 0.0077662931135348496,\n",
       " -0.0250995594584038,\n",
       " -0.010371093928574368,\n",
       " -0.019202676207953732,\n",
       " 0.0002658924569770801,\n",
       " -0.021237031219862344,\n",
       " 0.003865964586107344,\n",
       " -0.012584144601844665,\n",
       " -0.014116784021569196,\n",
       " 0.028975834018531405,\n",
       " 0.015670042923672946,\n",
       " -0.006158052184715621,\n",
       " -0.017072098807587303,\n",
       " -0.019395115396933758,\n",
       " -0.0059587398349425225,\n",
       " 0.022226717945289562,\n",
       " -0.002659783540246947,\n",
       " 0.025415709953723532,\n",
       " 0.020769680500321026,\n",
       " 0.020494767107114533,\n",
       " 0.01216490135124185,\n",
       " -0.007965604997646647,\n",
       " 0.00797247815843972,\n",
       " 0.012529161178145284,\n",
       " 0.0027989582942178123,\n",
       " 0.0029965521209619926,\n",
       " 5.954659157656118e-05,\n",
       " 0.021113321776167843,\n",
       " 0.01763567191558644,\n",
       " 0.006137433633659004,\n",
       " -0.010749100077063948,\n",
       " 0.005731936704642336,\n",
       " -0.004048094266728411,\n",
       " -0.005285203139173733,\n",
       " 0.023436336502869096,\n",
       " 0.015725026347372325,\n",
       " 0.004762868530271735,\n",
       " 0.009037765927300333,\n",
       " 0.02207551585842277,\n",
       " -0.00832299166375701,\n",
       " -0.0028779959180477445,\n",
       " 0.015202690341486427,\n",
       " 0.01098964859762768,\n",
       " 0.00024226711635222828,\n",
       " -0.007182102851463,\n",
       " 0.02663907297024401,\n",
       " -0.008680379261189971,\n",
       " 0.008914055552283232,\n",
       " -0.04241908087867051,\n",
       " 0.008749107143830296,\n",
       " -0.027367592624050877,\n",
       " 0.017594434813473205,\n",
       " 0.03670089049561432,\n",
       " -0.00038122706949639414,\n",
       " -0.027518794710917668,\n",
       " 0.0062130346770924,\n",
       " -0.010240510392764194,\n",
       " -0.003087617077687851,\n",
       " 0.0225153776600822,\n",
       " -0.028893359814304936,\n",
       " -0.0024003345259942166,\n",
       " -0.008659760710133354,\n",
       " 0.018666595743126888,\n",
       " -0.018460410232560717,\n",
       " 0.019656282468554106,\n",
       " 0.019711264029608284,\n",
       " -0.017621925594000293,\n",
       " -0.009120240131526802,\n",
       " 0.004085894788445109,\n",
       " 0.01738824930290703,\n",
       " 0.002070438873241594,\n",
       " 0.003800672585371607,\n",
       " -0.007312686852934475,\n",
       " -0.03329196665502804,\n",
       " 0.0032645923533754138,\n",
       " 0.0019381369308178263,\n",
       " 0.012061809527281366,\n",
       " 0.01002058042325708,\n",
       " 0.0030790260923578105,\n",
       " 0.004580738616820018,\n",
       " -0.011491365121134361,\n",
       " 0.039147616528655275,\n",
       " -0.005164928413230567,\n",
       " -0.00077662933463655,\n",
       " 0.011944971381734736,\n",
       " 0.006646022386636158,\n",
       " 0.00012532167953161602,\n",
       " 0.02324389731388907,\n",
       " 0.0020326383515248962,\n",
       " 0.030735277499878727,\n",
       " 0.007079010561841215,\n",
       " -0.009663192825824117,\n",
       " 0.01380750668704254,\n",
       " -0.03134008584734589,\n",
       " 0.015821245010539737,\n",
       " 0.000887453639112229,\n",
       " 0.009477626797637164,\n",
       " 0.007292068301877858,\n",
       " -0.019367622753761467,\n",
       " 0.014432934516888924,\n",
       " 0.04797232285327377,\n",
       " -0.013560085005685736,\n",
       " -0.0047937958911953606,\n",
       " 0.001852226611856122,\n",
       " 0.05193107348027304,\n",
       " 0.0005962176531754384,\n",
       " -0.021401979628315283,\n",
       " 0.007848766852100017,\n",
       " -0.013676923151232366,\n",
       " -0.019862466116475075,\n",
       " -0.006711314620202545,\n",
       " 0.0010463877408329145,\n",
       " -0.015147707849109647,\n",
       " -0.005030908297023857,\n",
       " -0.013656304600175749,\n",
       " 0.007264577055689469,\n",
       " -0.023779977778715912,\n",
       " 0.01708584512917345,\n",
       " -0.00442609994955669,\n",
       " 0.016714713072799543,\n",
       " -0.004886579370950137,\n",
       " 0.010797209408647654,\n",
       " 0.0025979281199077463,\n",
       " -0.0034896774263079833,\n",
       " -0.031642490021079474,\n",
       " 0.022144245603708295,\n",
       " 0.01967002692749505,\n",
       " -0.029388203177018547,\n",
       " -0.006707878039806009,\n",
       " -0.016371071796952727,\n",
       " 0.00354637820888303,\n",
       " -0.009993088711407389,\n",
       " -0.019285148549535,\n",
       " 0.011759405353547782,\n",
       " -0.009133985521790346,\n",
       " 0.0037181988468064386,\n",
       " -0.0073195595480662476,\n",
       " -0.007175230156331228,\n",
       " -0.004085894788445109,\n",
       " 0.0320823499600937,\n",
       " -0.00403091229606833,\n",
       " -0.04692765456679237,\n",
       " -0.0033127021506204205,\n",
       " 0.004900324761213682,\n",
       " -0.02974559077445151,\n",
       " -0.019560061942741493,\n",
       " -0.03782803298632219,\n",
       " 0.0274363205066912,\n",
       " 0.03057032909142579,\n",
       " -0.012975895209275187,\n",
       " 0.0018178624377053103,\n",
       " 0.020206107392321895,\n",
       " -0.008027460650816498,\n",
       " -0.00887969067964047,\n",
       " -0.0076769466798379095,\n",
       " -0.02037105580077483,\n",
       " 0.004828160298176822,\n",
       " 0.003486240845911447,\n",
       " 0.006663204822957539,\n",
       " -9.960228186699219e-05,\n",
       " 0.0010223328422104114,\n",
       " 0.024989594473650244,\n",
       " 0.008171789576890218,\n",
       " -0.019202676207953732,\n",
       " -0.0076357095777246755,\n",
       " -0.003910638035786464,\n",
       " -0.014171766513945975,\n",
       " 0.011807514685131488,\n",
       " 0.016508527562233373,\n",
       " -0.02479715528467022,\n",
       " -0.0002089768590234185,\n",
       " -0.021099575454581698,\n",
       " 0.006079014560885689,\n",
       " -0.027628759695671225,\n",
       " -0.0016262823938244186,\n",
       " 0.02394492618716885,\n",
       " 0.013182079788518757,\n",
       " -0.00482128713738375,\n",
       " 0.002810985859944389,\n",
       " 0.01858412153890042,\n",
       " 0.00943638969552393,\n",
       " 0.031230120862592334,\n",
       " 0.03513388434060183,\n",
       " 0.018474156554146862,\n",
       " -0.015340147038089674,\n",
       " -0.006209598096695863,\n",
       " -0.012439814744448344,\n",
       " -0.008467321521153329,\n",
       " -0.011999953874111515,\n",
       " 0.01763567191558644,\n",
       " 0.012941531267955025,\n",
       " 0.008453576130889784,\n",
       " -0.006460456358449204,\n",
       " 0.015931209995293294,\n",
       " 0.020590985770281945,\n",
       " -0.0025154541485119283,\n",
       " -0.027546285491444757,\n",
       " 0.0039828024988233235,\n",
       " 0.010797209408647654,\n",
       " 0.03279712515495963,\n",
       " 0.030515347530371613,\n",
       " -0.006199288821167555,\n",
       " 0.018405426808861338,\n",
       " -0.02177311168468919,\n",
       " 0.0027422575116427656,\n",
       " 0.02474217372361604,\n",
       " -0.0004009864463500459,\n",
       " 0.014474171619002158,\n",
       " -6.722482982622324e-05,\n",
       " 0.004092767949238182,\n",
       " 0.0019243911913083066,\n",
       " 0.017250793537626385,\n",
       " -0.018515393656260096,\n",
       " -0.011477618799548216,\n",
       " 0.02318891389018969,\n",
       " -0.009319551549977299,\n",
       " -0.018790305186821392,\n",
       " 0.01591746553635235,\n",
       " -0.0027147662654543763,\n",
       " -0.0033075475128562662,\n",
       " 0.009718175318200895,\n",
       " 0.005044654152948701,\n",
       " 0.010487932074120998,\n",
       " 0.04263901084817763,\n",
       " 0.00021069506191019282,\n",
       " -0.01388998089126901,\n",
       " -0.01910645568214112,\n",
       " -0.013257680831952154,\n",
       " -0.016329834694839493,\n",
       " 0.023491318063923274,\n",
       " -0.014996505762242856,\n",
       " -0.005604789283567397,\n",
       " 0.004883142790553601,\n",
       " -0.0346665317584153,\n",
       " -0.009030892766507261,\n",
       " -0.023903689085055618,\n",
       " -0.0041752416878033495,\n",
       " -0.02875590404902429,\n",
       " -0.006068705285357381,\n",
       " -0.025896806994850995,\n",
       " 0.003245692092517065,\n",
       " 0.02394492618716885,\n",
       " 0.01193122599147119,\n",
       " 0.03452907599313466,\n",
       " 0.013786889067308523,\n",
       " -0.009278314447864065,\n",
       " 0.011188960947400777,\n",
       " -0.01715457301181377,\n",
       " 0.010439822742537292,\n",
       " 0.006869389402201108,\n",
       " -0.013106478745085361,\n",
       " -0.009168349463110508,\n",
       " 0.01676969463385372,\n",
       " 0.014295477820285677,\n",
       " -0.004652903079856877,\n",
       " -0.025979281199077463,\n",
       " 0.021855585888915657,\n",
       " -0.0031529088455929384,\n",
       " 0.014515407789792791,\n",
       " 0.012054936366488293,\n",
       " -0.0030188887293862276,\n",
       " -0.012054936366488293,\n",
       " 0.018089278176186812,\n",
       " 0.04016479589725479,\n",
       " 0.023133932329135513,\n",
       " 0.010185527900387415,\n",
       " -0.01037796708936744,\n",
       " 0.020013668203341866,\n",
       " -0.03279712515495963,\n",
       " -0.015353893359675819,\n",
       " 0.013024004540858893,\n",
       " -0.002735384583680343,\n",
       " 0.0006112519357106716,\n",
       " -0.021759367225748245,\n",
       " 0.020013668203341866,\n",
       " -0.0032972382373279573,\n",
       " 0.026762784276583712,\n",
       " 0.02611673882700331,\n",
       " -0.01046731352306438,\n",
       " 0.021786858006275334,\n",
       " -0.01858412153890042,\n",
       " -0.0016486191186639786,\n",
       " 0.024398532447769225,\n",
       " 0.005903757342565744,\n",
       " 0.012845311673465013,\n",
       " -0.006116815082602387,\n",
       " -0.022955237599096432,\n",
       " 0.014914032489338988,\n",
       " -0.011793769294867943,\n",
       " 0.022474140557968966,\n",
       " 0.01703086170547407,\n",
       " -0.013415756079612018,\n",
       " -0.001636591669352727,\n",
       " -0.024109872732976587,\n",
       " -0.02441227690671017,\n",
       " -0.0023075512790700897,\n",
       " -0.0016469009448810356,\n",
       " -0.00823364523006007,\n",
       " 0.029030815579585582,\n",
       " -0.02365626647237621,\n",
       " -0.007883130793420179,\n",
       " -0.024508497432522782,\n",
       " 0.0025395090471344315,\n",
       " -0.025195779984216418,\n",
       " 0.013030877701651965,\n",
       " -0.009271442218393593,\n",
       " 0.017676909017699673,\n",
       " 0.02021985371390804,\n",
       " 0.008735361753566751,\n",
       " 0.0032164825561304075,\n",
       " -0.028535972216871975,\n",
       " 0.014054929299721946,\n",
       " -0.028948343238004316,\n",
       " -0.028233568043138393,\n",
       " -0.005013726326363776,\n",
       " -0.0055085701547386845,\n",
       " 0.033072036685520924,\n",
       " -0.01990370321858831,\n",
       " 0.0029037688740378657,\n",
       " 0.0037834906147115256,\n",
       " -0.011326416712681425,\n",
       " -0.005474205747757223,\n",
       " -0.027601268915144136,\n",
       " 0.0030137340916220733,\n",
       " -0.025841825433796817,\n",
       " 0.015848735791066826,\n",
       " 0.009298932998920682,\n",
       " 0.036535942087161384,\n",
       " -0.008405465867983478,\n",
       " 0.0032010186428379447,\n",
       " 0.014103038631305652,\n",
       " -0.0015635678283860833,\n",
       " -0.01207555491754491,\n",
       " 0.028975834018531405,\n",
       " 0.007058392010784598,\n",
       " -0.020027414524928015,\n",
       " 0.014570391213492172,\n",
       " 0.026515361663904308,\n",
       " -0.0065360574018826,\n",
       " 0.024288567463015668,\n",
       " 0.0038556553105790355,\n",
       " 0.01892776281474724,\n",
       " 0.006089323836413998,\n",
       " -0.005790355777415651,\n",
       " -0.007436397693612877,\n",
       " -0.004762868530271735,\n",
       " -0.015986193418992673,\n",
       " -0.008377975087456389,\n",
       " -0.02405489117192241,\n",
       " 0.012941531267955025,\n",
       " 0.013656304600175749,\n",
       " -0.04541563369812446,\n",
       " -0.0022010224090517685,\n",
       " 0.024673443978330517,\n",
       " -0.0009716457842909903,\n",
       " 0.006395164590544117,\n",
       " -0.015532586227069699,\n",
       " 0.035326325392227055,\n",
       " -0.014295477820285677,\n",
       " 0.019958686642287688,\n",
       " 0.01760817927241415,\n",
       " 0.011807514685131488,\n",
       " -0.018776560727880448,\n",
       " 0.008934673172017248,\n",
       " -0.03279712515495963,\n",
       " 0.008487940072209946,\n",
       " 0.05888637320143585,\n",
       " 0.0020103015102700106,\n",
       " 0.005213038210475573,\n",
       " 0.028054875175744513,\n",
       " 0.009773158741900274,\n",
       " 0.009676939147410262,\n",
       " -0.0139174726031187,\n",
       " 0.0014432934516888925,\n",
       " -0.0038109818608999153,\n",
       " -0.005274893863645424,\n",
       " -0.031532523173680715,\n",
       " -0.004484519022330005,\n",
       " -0.03818541872110995,\n",
       " -0.02081091760243426,\n",
       " -0.013587576717535426,\n",
       " 0.018061785533014522,\n",
       " -0.002319578611966016,\n",
       " -0.0020824662061375205,\n",
       " 0.021127066235108787,\n",
       " -0.0009158040303997525,\n",
       " -0.006852207431541028,\n",
       " -0.005501696993945612,\n",
       " -0.0071065018080296045,\n",
       " 0.037195731995682726,\n",
       " -0.011539474452718067,\n",
       " 0.006570421343202761,\n",
       " 0.030762768280405816,\n",
       " -0.019010237018973707,\n",
       " -0.01729203063973962,\n",
       " 0.031532523173680715,\n",
       " 0.009010275146773244,\n",
       " -0.0267902750571108,\n",
       " 0.01835044524780716,\n",
       " 0.037553121455760896,\n",
       " -0.02405489117192241,\n",
       " -0.0267902750571108,\n",
       " 0.002893459598509557,\n",
       " -0.00952573706054347,\n",
       " -0.002405489163758371,\n",
       " -0.004690703601573576,\n",
       " 0.007113374968822677,\n",
       " -0.0025360726995685453,\n",
       " 0.021525690934654985,\n",
       " -0.004563556180498637,\n",
       " 0.0019072092206482258,\n",
       " -0.02435729534565599,\n",
       " 0.019738756672780574,\n",
       " -0.008006842099759881,\n",
       " 0.01775938135928094,\n",
       " -0.028645939064270733,\n",
       " 0.005759427950830725,\n",
       " -0.0014389979590238723,\n",
       " 0.00012618078097500322,\n",
       " 0.0022628778293909695,\n",
       " 0.026281685372811045,\n",
       " -0.01700337092494698,\n",
       " 0.009835013463747525,\n",
       " 0.001912363741997055,\n",
       " -0.01246043329550496,\n",
       " -0.01984872165753413,\n",
       " 0.011683804310114386,\n",
       " -0.014171766513945975,\n",
       " 0.04643281306672396,\n",
       " -0.005213038210475573,\n",
       " 0.013683796312025438,\n",
       " 0.012130537409921689,\n",
       " 0.021154558878281077,\n",
       " 0.005319567080493894,\n",
       " 0.007133993054217994,\n",
       " -0.007999968938966808,\n",
       " 0.020590985770281945,\n",
       " -0.010116800017747092,\n",
       " -0.005116819081646861,\n",
       " -0.01002058042325708,\n",
       " -0.004553246904970328,\n",
       " -0.009621956655033483,\n",
       " 0.013525721064365575,\n",
       " 0.006336745517770802,\n",
       " 0.008240518390853142,\n",
       " -0.007312686852934475,\n",
       " -0.01770439979822676,\n",
       " -0.000586767522746264,\n",
       " 0.017140828552872828,\n",
       " 0.005938121749547206,\n",
       " -0.004714758733026729,\n",
       " -0.022419157134269587,\n",
       " -0.01418551283553212,\n",
       " -0.02608924618383102,\n",
       " -0.01659100176645984,\n",
       " 0.02971809813127922,\n",
       " 0.028865869033777847,\n",
       " -0.025621895464289703,\n",
       " -0.02423358403931629,\n",
       " -0.01175253219275471,\n",
       " 0.01439169741477569,\n",
       " -0.00034170831578909065,\n",
       " -0.001853944785639065,\n",
       " 0.011800642455661016,\n",
       " 0.005694136182925638,\n",
       " -0.0075738539245548235,\n",
       " 0.0015644269734852174,\n",
       " -0.010893429003137667,\n",
       " 0.008123680245306512,\n",
       " 0.004714758733026729,\n",
       " 0.007250831199764623,\n",
       " 0.006896880648389498,\n",
       " -0.01934013197323438,\n",
       " 0.016398562577479816,\n",
       " -0.009835013463747525,\n",
       " -0.011566966164567757,\n",
       " -0.031285104286291714,\n",
       " 0.009560101001863632,\n",
       " -0.021553181715182074,\n",
       " -0.014982760371979311,\n",
       " -0.005484515023285531,\n",
       " 0.019450096957987936,\n",
       " -0.0019690646409874267,\n",
       " 0.005697572763322174,\n",
       " -0.006731932705597862,\n",
       " -0.009780030971370746,\n",
       " 0.012412323032598654,\n",
       " -0.009745667030050585,\n",
       " -0.020975864148241995,\n",
       " 0.013347028196971695,\n",
       " -0.02006865162704125,\n",
       " -0.0034707771654496344,\n",
       " -0.01462537370586895,\n",
       " -0.02960813314652566,\n",
       " -0.014322969532135367,\n",
       " -0.025896806994850995,\n",
       " -0.00732643224319802,\n",
       " 0.010975903207364135,\n",
       " 0.0020979301194299833,\n",
       " -0.007841894622629545,\n",
       " -0.004254279311633281,\n",
       " -0.024453514008823403,\n",
       " 0.006281763025394023,\n",
       " -0.027243881317711174,\n",
       " -0.012041190976224749,\n",
       " 0.010646007321780863,\n",
       " 0.00013369793679453545,\n",
       " 0.02567687702534388,\n",
       " 0.013415756079612018,\n",
       " 0.004422663369160154,\n",
       " 0.007841894622629545,\n",
       " -0.03708576887357437,\n",
       " -0.021388233306729138,\n",
       " -0.02547069337742291,\n",
       " -3.874018620302341e-05,\n",
       " -0.017745636900339996,\n",
       " 0.0017972440030640181,\n",
       " -0.016302342051667203,\n",
       " 0.011601330105887918,\n",
       " 0.00498279896544015,\n",
       " -0.021841841429974713,\n",
       " -0.022872765257515165,\n",
       " 0.0037869269622774118,\n",
       " -0.03670089049561432,\n",
       " 0.008226773000589598,\n",
       " -0.012061809527281366,\n",
       " -0.013230190051425065,\n",
       " 0.010941538334721373,\n",
       " 0.03502392121849347,\n",
       " -0.007958732768176175,\n",
       " 0.002407207221125989,\n",
       " -0.004501700992990086,\n",
       " -0.005879702676773891,\n",
       " -0.00764945496798822,\n",
       " 0.016054921301632996,\n",
       " -0.006570421343202761,\n",
       " -0.00794498644659003,\n",
       " 0.012082428078337983,\n",
       " 0.004281770557821671,\n",
       " -0.0249758500147093,\n",
       " 0.0191614391058405,\n",
       " 0.0036494704985048153,\n",
       " 0.009917487667973993,\n",
       " 0.005996540356659221,\n",
       " -0.005068709284401855,\n",
       " -0.011333289873474497,\n",
       " -0.01037796708936744,\n",
       " 0.015408875852052598,\n",
       " -0.009511990738957326,\n",
       " -0.0002667515438685516,\n",
       " -0.0023762796273717134,\n",
       " -0.01040545880121713,\n",
       " -0.03062531251512517,\n",
       " 0.009422644305260386,\n",
       " 0.01506523457620578,\n",
       " -0.019395115396933758,\n",
       " -0.019573808264327638,\n",
       " -0.014982760371979311,\n",
       " 0.01265974564527806,\n",
       " -0.009566973231334104,\n",
       " -0.002987961135631952,\n",
       " -0.014996505762242856,\n",
       " 0.007711310621158071,\n",
       " 0.025511930479536146,\n",
       " 0.0009699275523003847,\n",
       " 0.027821198884651253,\n",
       " -0.024549734534636016,\n",
       " -0.007457016244669494,\n",
       " 0.03109266509731169,\n",
       " 0.0049346891681951435,\n",
       " 0.006398600705279353,\n",
       " 0.0032766196862713402,\n",
       " 0.002214768032145963,\n",
       " -0.012969022048482114,\n",
       " -0.00020693649127638452,\n",
       " -0.0041305684709548795,\n",
       " -0.005515442849870457,\n",
       " 0.014405442805039234,\n",
       " -0.028975834018531405,\n",
       " -0.027848689665178342,\n",
       " 0.015546332548655844,\n",
       " 0.016219869710085936,\n",
       " -0.030185450713465737,\n",
       " -0.005876266096377355,\n",
       " -0.03977991751929473,\n",
       " 0.020439783683415154,\n",
       " 0.011223324888720939,\n",
       " -0.023724994355016533,\n",
       " 0.0014295478285946978,\n",
       " -0.028480990655817797,\n",
       " -0.0009914051320408107,\n",
       " 0.007965604997646647,\n",
       " -0.009429517466053458,\n",
       " 0.03323698509397386,\n",
       " -0.011615075496151463,\n",
       " -0.03109266509731169,\n",
       " 0.029195763988038522,\n",
       " -0.006694132183881164,\n",
       " 0.023546301487622653,\n",
       " -0.003687271020221513,\n",
       " 0.021965550873669214,\n",
       " 0.0037594357160890225,\n",
       " -0.0032319464694228702,\n",
       " 0.22850771888035412,\n",
       " -0.02288650971645611,\n",
       " -0.0041511870220114966,\n",
       " 0.03573869268806899,\n",
       " 0.009450136017110075,\n",
       " 0.017690653476640616,\n",
       " 0.03134008584734589,\n",
       " 0.001237967784713806,\n",
       " -0.013017132311388421,\n",
       " 0.009243950506543903,\n",
       " -0.000328606993311584,\n",
       " -0.022171736384235384,\n",
       " -0.011573838394038229,\n",
       " -0.00861852360802012,\n",
       " 0.0045154463832536304,\n",
       " -0.001751711524701089,\n",
       " -0.019037727799500796,\n",
       " -0.025869316214323906,\n",
       " 0.001636591669352727,\n",
       " -0.05226096657188851,\n",
       " 0.006415783141600734,\n",
       " 0.024467260330409548,\n",
       " -0.014749084080886052,\n",
       " -0.01931264119270729,\n",
       " -0.012020572425168132,\n",
       " 0.012405450803128182,\n",
       " -0.00518898354468372,\n",
       " 0.002817858555076161,\n",
       " 0.03392426764566749,\n",
       " 0.003185554729545482,\n",
       " -0.0027027386997277997,\n",
       " 0.0019450097423649236,\n",
       " -0.0026013647003042826,\n",
       " -0.003920947311314773,\n",
       " -0.010969030046571062,\n",
       " -0.008845326738320308,\n",
       " 0.02790367308887772,\n",
       " -0.029965520743958623,\n",
       " 0.022584105542722523,\n",
       " 0.033759319237214556,\n",
       " 0.014955268660129622,\n",
       " -0.0050858912550619355,\n",
       " -0.004010293745011713,\n",
       " -0.010013707262464007,\n",
       " -0.016536018342760462,\n",
       " 0.01819924316094037,\n",
       " ...]"
      ]
     },
     "execution_count": 29,
     "metadata": {},
     "output_type": "execute_result"
    }
   ],
   "source": [
    "query_result"
   ]
  },
  {
   "cell_type": "markdown",
   "metadata": {
    "id": "3YVw6TDzCr8y"
   },
   "source": [
    "## Inicializando o Banco de Dados Vetorial\n",
    "\n",
    "Cria sua conta gratuita no Pinecone, valide a conta, crie um índice chamado dsa-index e crie a chave da API. A chave da API deve ser colocada no arquivo .env na mesma pasta onde está este Jupyter Notebook.\n",
    "\n",
    "https://www.pinecone.io/\n",
    "\n",
    "https://app.pinecone.io/"
   ]
  },
  {
   "cell_type": "code",
   "execution_count": null,
   "metadata": {
    "id": "JXkdv80-Cr8y"
   },
   "outputs": [],
   "source": [
    "# Inicializando o Pinecone\n",
    "pinecone.init(api_key = os.environ['PINECONE_API_KEY'], environment = 'gcp-starter')"
   ]
  },
  {
   "cell_type": "code",
   "execution_count": null,
   "metadata": {
    "id": "Bh7NhcNQCr8y"
   },
   "outputs": [],
   "source": [
    "# Nome do índice\n",
    "index_name = \"dsa-index\""
   ]
  },
  {
   "cell_type": "code",
   "execution_count": null,
   "metadata": {
    "id": "S4GLwDVdCr8y"
   },
   "outputs": [],
   "source": [
    "# Convertendo os dados de texto em vetores e armazenando no índice\n",
    "index = Pinecone.from_documents(dsa_docs, embeddings, index_name = index_name)"
   ]
  },
  {
   "cell_type": "markdown",
   "metadata": {
    "id": "p5pZ-ThcKBFK"
   },
   "source": [
    "## Construindo o Sistema de Busca Semântica em Documentos"
   ]
  },
  {
   "cell_type": "code",
   "execution_count": null,
   "metadata": {
    "id": "nkgkCNd0Cr8y"
   },
   "outputs": [],
   "source": [
    "# Função\n",
    "def busca_docs_similares(query, k = 1, score = True):\n",
    "\n",
    "    if score:\n",
    "        similar_docs = index.similarity_search_with_score(query, k = k)\n",
    "    else:\n",
    "        similar_docs = index.similarity_search(query, k = k)\n",
    "\n",
    "    return similar_docs"
   ]
  },
  {
   "cell_type": "markdown",
   "metadata": {
    "id": "HXXdymyuKSzB"
   },
   "source": [
    "## Testando o Sistema"
   ]
  },
  {
   "cell_type": "code",
   "execution_count": null,
   "metadata": {
    "id": "hjIqRoF2Cr8z"
   },
   "outputs": [],
   "source": [
    "query1 = \"Processamento de Linguagem Natural no Centro das Atenções\""
   ]
  },
  {
   "cell_type": "code",
   "execution_count": null,
   "metadata": {
    "id": "Vb0DI1gBCr8z"
   },
   "outputs": [],
   "source": [
    "similar_docs_1 = busca_docs_similares(query1)"
   ]
  },
  {
   "cell_type": "code",
   "execution_count": null,
   "metadata": {
    "colab": {
     "base_uri": "https://localhost:8080/"
    },
    "id": "jRDn_c7JCr8z",
    "outputId": "4f59694e-dd44-4c39-f8bf-2713f1fc460f"
   },
   "outputs": [
    {
     "data": {
      "text/plain": [
       "[(Document(page_content='Processamento de Linguagem Natural no Centro das Atenções\\n\\nUm sinal claro do impacto do ChatGPT está no interesse que os usuários da O’Reilly mostraram em PLN, que teve o maior crescimento ano a ano em 42%, e em aprendizado profundo (Deep Learning), que seguiu em 23%. O PLN tem muitos usos, desde chatbots automatizados até ferramentas de geração e escrita de código, portanto, o interesse não é surpreendente.\\n\\nOs profissionais também têm procurado cada vez mais conteúdo relacionado a Transformers, o modelo de IA que ajudou a alimentar o PLN, refletindo ainda mais o impacto do ChatGPT. O interesse em PLN e aprendizado profundo só aumentará à medida que o potencial dessas ofertas crescer e novos projetos aparecerem.', metadata={'source': 'dados/ArtigoDSA1.pdf'}),\n",
       "  0.886582792)]"
      ]
     },
     "execution_count": 36,
     "metadata": {},
     "output_type": "execute_result"
    }
   ],
   "source": [
    "similar_docs_1"
   ]
  },
  {
   "cell_type": "code",
   "execution_count": null,
   "metadata": {
    "id": "bhS9QFZVCr8z"
   },
   "outputs": [],
   "source": [
    "query2 = \"Entretenimento e Serviços Bancários e Financeiros\""
   ]
  },
  {
   "cell_type": "code",
   "execution_count": null,
   "metadata": {
    "id": "hwpJIptXCr84"
   },
   "outputs": [],
   "source": [
    "similar_docs_2 = busca_docs_similares(query2)"
   ]
  },
  {
   "cell_type": "code",
   "execution_count": null,
   "metadata": {
    "colab": {
     "base_uri": "https://localhost:8080/"
    },
    "id": "0GCUrBDBCr84",
    "outputId": "05164de6-1208-44df-ce77-95746d0c4d77"
   },
   "outputs": [
    {
     "data": {
      "text/plain": [
       "[(Document(page_content='Os participantes da pesquisa também foram perguntados qual porcentagem de empregos em toda economia global em 2024 será aumentada por software baseado IA e a maioria foi otimista. De 26% a 50% dos empregos foram citados por 41% dos respondentes. Mais de um quarto (28%) citou 1-25% dos empregos, outros 26% citaram de 51-75% dos empregos, e 5% citaram 76-100% dos empregos.\\n\\nTelecomunicações (20%), Manufatura (18%), Energia (17%), Entretenimento e Serviços Bancários e Financeiros (ambos com 16%) serão os setores mais impactados pela tecnologia em 2024.\\n\\nO levantamento também mostra que as áreas como Tecnologia Nuclear (28%), 5G (22%), Robótica (21%), Realidade Estendida (20%) e Internet Industrial das Coisas (IoT) (19%) terão atenção das companhias. O levantamento apurou ainda que para 44% dos brasileiros entrevistados, 6G deve se tornar padrão nos próximos 3 a 5 anos.', metadata={'source': 'dados/ArtigoDSA2.pdf'}),\n",
       "  0.804885566)]"
      ]
     },
     "execution_count": 39,
     "metadata": {},
     "output_type": "execute_result"
    }
   ],
   "source": [
    "similar_docs_2"
   ]
  },
  {
   "cell_type": "markdown",
   "metadata": {
    "id": "GA-M7yx0x1bq"
   },
   "source": [
    "# Fim"
   ]
  }
 ],
 "metadata": {
  "accelerator": "GPU",
  "colab": {
   "gpuType": "A100",
   "machine_shape": "hm",
   "provenance": []
  },
  "kernelspec": {
   "display_name": "Python 3 (ipykernel)",
   "language": "python",
   "name": "python3"
  },
  "language_info": {
   "codemirror_mode": {
    "name": "ipython",
    "version": 3
   },
   "file_extension": ".py",
   "mimetype": "text/x-python",
   "name": "python",
   "nbconvert_exporter": "python",
   "pygments_lexer": "ipython3",
   "version": "3.11.6"
  }
 },
 "nbformat": 4,
 "nbformat_minor": 1
}
