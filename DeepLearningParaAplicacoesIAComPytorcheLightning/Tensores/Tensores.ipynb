{
 "cells": [
  {
   "cell_type": "markdown",
   "metadata": {},
   "source": [
    "# <font color='blue'>Data Science Academy</font>\n",
    "# <font color='blue'>Deep Learning Para Aplicações de IA com PyTorch e Lightning</font>\n",
    "\n",
    "## <font color='blue'>Trabalhando com Tensores</font>"
   ]
  },
  {
   "cell_type": "markdown",
   "metadata": {},
   "source": [
    "> Visite a documentação oficial: https://pytorch.org/docs/stable/index.html"
   ]
  },
  {
   "cell_type": "markdown",
   "metadata": {},
   "source": [
    "![](imagens/TensoresPyTorch.png)"
   ]
  },
  {
   "cell_type": "markdown",
   "metadata": {},
   "source": [
    "## Instalando e Carregando os Pacotes"
   ]
  },
  {
   "cell_type": "code",
   "execution_count": 1,
   "metadata": {},
   "outputs": [
    {
     "name": "stdout",
     "output_type": "stream",
     "text": [
      "Versão da Linguagem Python Usada Neste Jupyter Notebook: 3.9.13\n"
     ]
    }
   ],
   "source": [
    "# Versão da Linguagem Python\n",
    "from platform import python_version\n",
    "print('Versão da Linguagem Python Usada Neste Jupyter Notebook:', python_version())"
   ]
  },
  {
   "cell_type": "code",
   "execution_count": 2,
   "metadata": {},
   "outputs": [],
   "source": [
    "# Para atualizar um pacote, execute o comando abaixo no terminal ou prompt de comando:\n",
    "# pip install -U nome_pacote\n",
    "\n",
    "# Para instalar a versão exata de um pacote, execute o comando abaixo no terminal ou prompt de comando:\n",
    "# !pip install nome_pacote==versão_desejada\n",
    "\n",
    "# Depois de instalar ou atualizar o pacote, reinicie o jupyter notebook.\n",
    "\n",
    "# Instala o pacote watermark. \n",
    "# Esse pacote é usado para gravar as versões de outros pacotes usados neste jupyter notebook.\n",
    "!pip install -q -U watermark"
   ]
  },
  {
   "cell_type": "code",
   "execution_count": 3,
   "metadata": {},
   "outputs": [],
   "source": [
    "!pip install -q torch==1.13.0"
   ]
  },
  {
   "cell_type": "code",
   "execution_count": 4,
   "metadata": {},
   "outputs": [],
   "source": [
    "!pip install -q pytorch-lightning==1.8.3"
   ]
  },
  {
   "cell_type": "code",
   "execution_count": 5,
   "metadata": {},
   "outputs": [],
   "source": [
    "# Imports \n",
    "import numpy as np\n",
    "import torch\n",
    "import gc\n",
    "import types\n",
    "import pkg_resources\n",
    "import pytorch_lightning as pl\n",
    "import matplotlib.pyplot as plt\n",
    "%matplotlib inline"
   ]
  },
  {
   "cell_type": "code",
   "execution_count": 6,
   "metadata": {},
   "outputs": [
    {
     "name": "stdout",
     "output_type": "stream",
     "text": [
      "Author: Data Science Academy\n",
      "\n",
      "numpy            : 1.21.5\n",
      "torch            : 1.13.0\n",
      "matplotlib       : 3.5.2\n",
      "pytorch_lightning: 1.8.3\n",
      "\n"
     ]
    }
   ],
   "source": [
    "# Versões dos pacotes usados neste jupyter notebook\n",
    "%reload_ext watermark\n",
    "%watermark -a \"Data Science Academy\" --iversions"
   ]
  },
  {
   "cell_type": "markdown",
   "metadata": {},
   "source": [
    "## Verificando o Ambiente de Desenvolvimento"
   ]
  },
  {
   "cell_type": "code",
   "execution_count": 7,
   "metadata": {},
   "outputs": [
    {
     "name": "stdout",
     "output_type": "stream",
     "text": [
      "--------------------------------------Visão Geral do Ambiente---------------------------------------\n",
      "\n",
      "Pasta de Dados:  dados\n",
      "Versões dos Pacotes Requeridos:  [('matplotlib', '3.5.2'), ('numpy', '1.21.5'), ('torch', '1.13.0')]\n",
      "Dispositivo Que Será Usado Para Treinar o Modelo:  cpu\n",
      "CUDA Está Disponível?  False\n",
      "Versão do PyTorch:  1.13.0\n",
      "Versão do Lightning:  1.8.3\n",
      "\n",
      "------------------Se NVIDIA-SMI não for encontrado, então CUDA não está disponível------------------\n",
      "\n",
      "/bin/bash: nvidia-smi: command not found\n",
      "\n",
      "Limpando a Memória da GPU (se disponível):  None\n",
      "\n",
      "------------------------------------------Fim da Checagem-------------------------------------------\n"
     ]
    }
   ],
   "source": [
    "# Relatório completo\n",
    "\n",
    "# Verificando o dispositivo\n",
    "processing_device = \"cuda\" if torch.cuda.is_available() else \"cpu\"\n",
    "\n",
    "# Verificando se GPU pode ser usada (isso depende da plataforma CUDA estar instalada)\n",
    "torch_aval = torch.cuda.is_available()\n",
    "\n",
    "# Labels para o relatório de verificação\n",
    "lable_1 = 'Visão Geral do Ambiente'\n",
    "lable_2 = 'Se NVIDIA-SMI não for encontrado, então CUDA não está disponível'\n",
    "lable_3 = 'Fim da Checagem'\n",
    "\n",
    "# Função para verificar o que está importado nesta sessão\n",
    "def get_imports():\n",
    "\n",
    "    for name, val in globals().items():\n",
    "        if isinstance(val, types.ModuleType):\n",
    "            name = val.__name__.split(\".\")[0]\n",
    "\n",
    "        elif isinstance(val, type):            \n",
    "            name = val.__module__.split(\".\")[0]\n",
    "\n",
    "        poorly_named_packages = {\"PIL\": \"Pillow\", \"sklearn\": \"scikit-learn\"}\n",
    "\n",
    "        if name in poorly_named_packages.keys():\n",
    "            name = poorly_named_packages[name]\n",
    "\n",
    "        yield name\n",
    "\n",
    "# Imports nesta sessão\n",
    "imports = list(set(get_imports()))\n",
    "\n",
    "# Loop para verificar os requerimentos\n",
    "requirements = []\n",
    "for m in pkg_resources.working_set:\n",
    "    if m.project_name in imports and m.project_name!=\"pip\":\n",
    "        requirements.append((m.project_name, m.version))\n",
    "        \n",
    "# Pasta com os dados (quando necessário)\n",
    "pasta_dados = r'dados'\n",
    "\n",
    "print(f'{lable_1:-^100}')\n",
    "print()\n",
    "print(f\"Pasta de Dados: \", pasta_dados)\n",
    "print(f\"Versões dos Pacotes Requeridos: \", requirements)\n",
    "print(f\"Dispositivo Que Será Usado Para Treinar o Modelo: \", processing_device)\n",
    "print(f\"CUDA Está Disponível? \", torch_aval)\n",
    "print(\"Versão do PyTorch: \", torch.__version__)\n",
    "print(\"Versão do Lightning: \", pl.__version__)\n",
    "print()\n",
    "print(f'{lable_2:-^100}\\n')\n",
    "!nvidia-smi\n",
    "gc.collect()\n",
    "print()\n",
    "print(f\"Limpando a Memória da GPU (se disponível): \", torch.cuda.empty_cache())\n",
    "print(f'\\n{lable_3:-^100}')"
   ]
  },
  {
   "cell_type": "markdown",
   "metadata": {},
   "source": [
    "## O Que São Tensores?\n",
    "\n",
    "Em matemática, um tensor é um objeto geométrico arbitrariamente complexo que mapeia de maneira (multi) linear vetores geométricos, escalares e outros tensores para um tensor resultante.\n",
    "\n",
    "Mas em Deep Learning o conceito é um pouco diferente e você pode pensar no tensor como um recipiente que contém números. Um tensor é uma estrutura de dados que pode ter qualquer número de dimensões."
   ]
  },
  {
   "cell_type": "markdown",
   "metadata": {},
   "source": [
    "![](imagens/tensor.png)"
   ]
  },
  {
   "cell_type": "markdown",
   "metadata": {},
   "source": [
    "## Tensores PyTorch x Arrays NumPy"
   ]
  },
  {
   "cell_type": "markdown",
   "metadata": {},
   "source": [
    "Você pode criar tensores a partir de listas ou matrizes numpy e vice-versa."
   ]
  },
  {
   "cell_type": "code",
   "execution_count": 8,
   "metadata": {},
   "outputs": [
    {
     "name": "stdout",
     "output_type": "stream",
     "text": [
      "tensor([[1., 2., 3.],\n",
      "        [4., 5., 6.]])\n"
     ]
    }
   ],
   "source": [
    "# Cria um tensor 2x3 a partir de uma lista Python\n",
    "lista_python = [[1, 2, 3], [4, 5, 6]]\n",
    "t1 = torch.Tensor(lista_python)\n",
    "print(t1)"
   ]
  },
  {
   "cell_type": "code",
   "execution_count": 9,
   "metadata": {},
   "outputs": [
    {
     "data": {
      "text/plain": [
       "list"
      ]
     },
     "execution_count": 9,
     "metadata": {},
     "output_type": "execute_result"
    }
   ],
   "source": [
    "type(lista_python)"
   ]
  },
  {
   "cell_type": "code",
   "execution_count": 10,
   "metadata": {},
   "outputs": [
    {
     "data": {
      "text/plain": [
       "torch.Tensor"
      ]
     },
     "execution_count": 10,
     "metadata": {},
     "output_type": "execute_result"
    }
   ],
   "source": [
    "type(t1)"
   ]
  },
  {
   "cell_type": "code",
   "execution_count": 11,
   "metadata": {},
   "outputs": [
    {
     "name": "stdout",
     "output_type": "stream",
     "text": [
      "tensor([[9., 6., 1.],\n",
      "        [5., 3., 2.]])\n"
     ]
    }
   ],
   "source": [
    "# Cria um tensor 2x3 a partir de um array Numpy \n",
    "array_numpy = np.array([[9, 6, 1], [5, 3, 2]])\n",
    "t2 = torch.Tensor(array_numpy)\n",
    "print(t2)"
   ]
  },
  {
   "cell_type": "code",
   "execution_count": 12,
   "metadata": {},
   "outputs": [
    {
     "data": {
      "text/plain": [
       "numpy.ndarray"
      ]
     },
     "execution_count": 12,
     "metadata": {},
     "output_type": "execute_result"
    }
   ],
   "source": [
    "type(array_numpy)"
   ]
  },
  {
   "cell_type": "code",
   "execution_count": 13,
   "metadata": {},
   "outputs": [
    {
     "data": {
      "text/plain": [
       "torch.Tensor"
      ]
     },
     "execution_count": 13,
     "metadata": {},
     "output_type": "execute_result"
    }
   ],
   "source": [
    "type(t2)"
   ]
  },
  {
   "cell_type": "code",
   "execution_count": 14,
   "metadata": {},
   "outputs": [
    {
     "name": "stdout",
     "output_type": "stream",
     "text": [
      "tensor --> lista python: \n",
      "[[1.0, 2.0, 3.0], [4.0, 5.0, 6.0]]\n",
      "\n",
      "tensor --> array numpy: \n",
      "[[9. 6. 1.]\n",
      " [5. 3. 2.]]\n"
     ]
    }
   ],
   "source": [
    "# Convertendo de volta para lista / array\n",
    "print(f\"tensor --> lista python: \\n{t1.tolist()}\")\n",
    "print(f\"\\ntensor --> array numpy: \\n{t2.numpy()}\")"
   ]
  },
  {
   "cell_type": "markdown",
   "metadata": {},
   "source": [
    "## Tipos de Tensores no PyTorch"
   ]
  },
  {
   "cell_type": "code",
   "execution_count": 15,
   "metadata": {},
   "outputs": [
    {
     "name": "stdout",
     "output_type": "stream",
     "text": [
      "tensor([[[0.6258, 0.7560, 0.8632],\n",
      "         [0.9664, 0.2158, 0.0301]],\n",
      "\n",
      "        [[0.5747, 0.6996, 0.0938],\n",
      "         [0.0890, 0.2722, 0.6871]]])\n"
     ]
    }
   ],
   "source": [
    "# Cria um tensor 2 x 2 x 3 com valores randômicos\n",
    "a = torch.rand(2, 2, 3)\n",
    "print(a)"
   ]
  },
  {
   "cell_type": "code",
   "execution_count": 16,
   "metadata": {},
   "outputs": [
    {
     "name": "stdout",
     "output_type": "stream",
     "text": [
      "tensor([[[0., 0., 0.],\n",
      "         [0., 0., 0.]],\n",
      "\n",
      "        [[0., 0., 0.],\n",
      "         [0., 0., 0.]]])\n"
     ]
    }
   ],
   "source": [
    "# Criando um tensor preenchido com zeros\n",
    "b = torch.zeros(2, 2, 3)\n",
    "print(b)"
   ]
  },
  {
   "cell_type": "code",
   "execution_count": 17,
   "metadata": {},
   "outputs": [
    {
     "name": "stdout",
     "output_type": "stream",
     "text": [
      "tensor([[[0., 0., 0.],\n",
      "         [0., 0., 0.]],\n",
      "\n",
      "        [[0., 0., 0.],\n",
      "         [0., 0., 0.]]])\n"
     ]
    }
   ],
   "source": [
    "# Criando um tensor semelhante a outro\n",
    "c = torch.zeros_like(a)\n",
    "print(c)"
   ]
  },
  {
   "cell_type": "code",
   "execution_count": 18,
   "metadata": {
    "scrolled": true
   },
   "outputs": [
    {
     "name": "stdout",
     "output_type": "stream",
     "text": [
      "tensor([[[1., 1., 1.],\n",
      "         [1., 1., 1.]],\n",
      "\n",
      "        [[1., 1., 1.],\n",
      "         [1., 1., 1.]]])\n"
     ]
    }
   ],
   "source": [
    "# Criando um tensor de 1's semelhante (like) ao tensor de zeros (mesmas dimensões)\n",
    "d = torch.ones_like(a)\n",
    "print(d)"
   ]
  },
  {
   "cell_type": "markdown",
   "metadata": {},
   "source": [
    "https://pytorch.org/docs/stable/tensors.html"
   ]
  },
  {
   "cell_type": "code",
   "execution_count": 19,
   "metadata": {},
   "outputs": [
    {
     "data": {
      "text/plain": [
       "dtype('int64')"
      ]
     },
     "execution_count": 19,
     "metadata": {},
     "output_type": "execute_result"
    }
   ],
   "source": [
    "# Criando um array NumPy\n",
    "a = np.array([[9, 6, 1], [5, 3, 2]])\n",
    "a.dtype"
   ]
  },
  {
   "cell_type": "code",
   "execution_count": 20,
   "metadata": {},
   "outputs": [
    {
     "name": "stdout",
     "output_type": "stream",
     "text": [
      " b: torch.FloatTensor\n",
      " c: torch.FloatTensor\n",
      " d: torch.LongTensor\n"
     ]
    }
   ],
   "source": [
    "# Criando tensores de diferentes tipos \n",
    "b = torch.Tensor(a)\n",
    "c = torch.FloatTensor(a)\n",
    "d = torch.LongTensor(a)\n",
    "print(f\" b: {b.type()}\\n c: {c.type()}\\n d: {d.type()}\")"
   ]
  },
  {
   "cell_type": "code",
   "execution_count": 21,
   "metadata": {},
   "outputs": [
    {
     "name": "stdout",
     "output_type": "stream",
     "text": [
      "<class 'list'>\n",
      "True  <class 'bool'>\n",
      "False  <class 'bool'>\n",
      "False  <class 'bool'>\n",
      "True  <class 'bool'>\n"
     ]
    }
   ],
   "source": [
    "# Criando uma lista Python com valores booleanos\n",
    "e = [True, False, False, True]\n",
    "print(type(e))\n",
    "for item in e: \n",
    "    print ('{}  {}'.format(item, type(item)))"
   ]
  },
  {
   "cell_type": "code",
   "execution_count": 22,
   "metadata": {},
   "outputs": [
    {
     "name": "stdout",
     "output_type": "stream",
     "text": [
      "tensor([1., 0., 0., 1.])\n",
      "torch.FloatTensor\n"
     ]
    }
   ],
   "source": [
    "# Criando tensor a partir da lista de booleanos\n",
    "f = torch.Tensor(e)\n",
    "print(f)\n",
    "print(f.type())"
   ]
  },
  {
   "cell_type": "code",
   "execution_count": 23,
   "metadata": {},
   "outputs": [
    {
     "name": "stdout",
     "output_type": "stream",
     "text": [
      "tensor([False, False, False, False, False, False, False, False, False, False])\n",
      "torch.BoolTensor\n"
     ]
    }
   ],
   "source": [
    "# Criando um tensor com valores booleanos\n",
    "g = torch.zeros(10, dtype = torch.bool)\n",
    "print(g)\n",
    "print(g.type())"
   ]
  },
  {
   "cell_type": "code",
   "execution_count": 24,
   "metadata": {},
   "outputs": [
    {
     "name": "stdout",
     "output_type": "stream",
     "text": [
      "Mudando torch.FloatTensor para torch.LongTensor:\n",
      "\n",
      "torch.FloatTensor\n",
      "tensor([[9, 6, 1],\n",
      "        [5, 3, 2]])\n",
      "torch.LongTensor\n"
     ]
    }
   ],
   "source": [
    "# Alterando o tipo do tensor:\n",
    "print(\"Mudando torch.FloatTensor para torch.LongTensor:\\n\")\n",
    "print(c.type())\n",
    "c = c.long()\n",
    "print(c)\n",
    "print(c.type())"
   ]
  },
  {
   "cell_type": "markdown",
   "metadata": {},
   "source": [
    "## Size e Shape de Tensores"
   ]
  },
  {
   "cell_type": "code",
   "execution_count": 25,
   "metadata": {},
   "outputs": [
    {
     "name": "stdout",
     "output_type": "stream",
     "text": [
      "[[9 6 1]\n",
      " [5 3 2]]\n"
     ]
    }
   ],
   "source": [
    "# Criando um array NumPy\n",
    "array_numpy = np.array([[9, 6, 1], [5, 3, 2]])\n",
    "print(array_numpy)"
   ]
  },
  {
   "cell_type": "code",
   "execution_count": 26,
   "metadata": {},
   "outputs": [
    {
     "data": {
      "text/plain": [
       "(2, 3)"
      ]
     },
     "execution_count": 26,
     "metadata": {},
     "output_type": "execute_result"
    }
   ],
   "source": [
    "array_numpy.shape"
   ]
  },
  {
   "cell_type": "code",
   "execution_count": 27,
   "metadata": {},
   "outputs": [
    {
     "data": {
      "text/plain": [
       "6"
      ]
     },
     "execution_count": 27,
     "metadata": {},
     "output_type": "execute_result"
    }
   ],
   "source": [
    "array_numpy.size"
   ]
  },
  {
   "cell_type": "code",
   "execution_count": 28,
   "metadata": {},
   "outputs": [
    {
     "name": "stdout",
     "output_type": "stream",
     "text": [
      "   Coluna_A  Coluna_B  Coluna_C\n",
      "0         9         6         1\n",
      "1         5         3         2\n"
     ]
    }
   ],
   "source": [
    "# Criando um dataframe do Pandas\n",
    "import pandas\n",
    "from pandas import DataFrame\n",
    "df = DataFrame(array_numpy, columns = ['Coluna_A','Coluna_B','Coluna_C'])\n",
    "print(df)"
   ]
  },
  {
   "cell_type": "code",
   "execution_count": 29,
   "metadata": {},
   "outputs": [
    {
     "data": {
      "text/plain": [
       "(2, 3)"
      ]
     },
     "execution_count": 29,
     "metadata": {},
     "output_type": "execute_result"
    }
   ],
   "source": [
    "df.shape"
   ]
  },
  {
   "cell_type": "code",
   "execution_count": 30,
   "metadata": {},
   "outputs": [
    {
     "data": {
      "text/plain": [
       "6"
      ]
     },
     "execution_count": 30,
     "metadata": {},
     "output_type": "execute_result"
    }
   ],
   "source": [
    "df.size"
   ]
  },
  {
   "cell_type": "code",
   "execution_count": 31,
   "metadata": {},
   "outputs": [
    {
     "name": "stdout",
     "output_type": "stream",
     "text": [
      "tensor([[[5, 9, 1, 8],\n",
      "         [5, 7, 7, 7],\n",
      "         [3, 4, 1, 7]],\n",
      "\n",
      "        [[2, 0, 6, 3],\n",
      "         [2, 3, 0, 0],\n",
      "         [9, 5, 4, 2]]])\n"
     ]
    }
   ],
   "source": [
    "# Cria um tensor com valores randômicos\n",
    "torch.manual_seed(777)\n",
    "x = torch.randint(0, 10, size = (2, 3, 4))\n",
    "print(x)"
   ]
  },
  {
   "cell_type": "code",
   "execution_count": 32,
   "metadata": {},
   "outputs": [
    {
     "data": {
      "text/plain": [
       "<function Tensor.size>"
      ]
     },
     "execution_count": 32,
     "metadata": {},
     "output_type": "execute_result"
    }
   ],
   "source": [
    "# Size - Método do objeto tensor!!!\n",
    "x.size"
   ]
  },
  {
   "cell_type": "code",
   "execution_count": 33,
   "metadata": {},
   "outputs": [
    {
     "data": {
      "text/plain": [
       "torch.Size([2, 3, 4])"
      ]
     },
     "execution_count": 33,
     "metadata": {},
     "output_type": "execute_result"
    }
   ],
   "source": [
    "# Size - Método do objeto tensor\n",
    "x.size()"
   ]
  },
  {
   "cell_type": "code",
   "execution_count": 34,
   "metadata": {},
   "outputs": [
    {
     "data": {
      "text/plain": [
       "torch.Size([2, 3, 4])"
      ]
     },
     "execution_count": 34,
     "metadata": {},
     "output_type": "execute_result"
    }
   ],
   "source": [
    "# Shape - Atributo do objeto tensor\n",
    "x.shape"
   ]
  },
  {
   "cell_type": "code",
   "execution_count": 35,
   "metadata": {},
   "outputs": [
    {
     "data": {
      "text/plain": [
       "24"
      ]
     },
     "execution_count": 35,
     "metadata": {},
     "output_type": "execute_result"
    }
   ],
   "source": [
    "# Número total de elementos no Tensor\n",
    "torch.numel(x)"
   ]
  },
  {
   "cell_type": "code",
   "execution_count": 36,
   "metadata": {},
   "outputs": [
    {
     "name": "stdout",
     "output_type": "stream",
     "text": [
      "Altera de 'torch.Size([2, 3, 4])' para 'torch.Size([2, 2, 6])'\n",
      "\n",
      "tensor([[[5, 9, 1, 8, 5, 7],\n",
      "         [7, 7, 3, 4, 1, 7]],\n",
      "\n",
      "        [[2, 0, 6, 3, 2, 3],\n",
      "         [0, 0, 9, 5, 4, 2]]])\n"
     ]
    }
   ],
   "source": [
    "# Alterando o size do tensor (mas sem mudar o tensor original)\n",
    "print(f\"Altera de '{x.size()}' para '{x.view(2, 2, 6).size()}'\\n\")\n",
    "print(x.view(2, 2, 6))"
   ]
  },
  {
   "cell_type": "code",
   "execution_count": 37,
   "metadata": {},
   "outputs": [],
   "source": [
    "# Também podemos usao método view() para criar um tensor\n",
    "t = torch.arange(60).view(3, 4, 5)"
   ]
  },
  {
   "cell_type": "code",
   "execution_count": 38,
   "metadata": {},
   "outputs": [
    {
     "name": "stdout",
     "output_type": "stream",
     "text": [
      "tensor([[[ 0,  1,  2,  3,  4],\n",
      "         [ 5,  6,  7,  8,  9],\n",
      "         [10, 11, 12, 13, 14],\n",
      "         [15, 16, 17, 18, 19]],\n",
      "\n",
      "        [[20, 21, 22, 23, 24],\n",
      "         [25, 26, 27, 28, 29],\n",
      "         [30, 31, 32, 33, 34],\n",
      "         [35, 36, 37, 38, 39]],\n",
      "\n",
      "        [[40, 41, 42, 43, 44],\n",
      "         [45, 46, 47, 48, 49],\n",
      "         [50, 51, 52, 53, 54],\n",
      "         [55, 56, 57, 58, 59]]])\n"
     ]
    }
   ],
   "source": [
    "print(t)"
   ]
  },
  {
   "cell_type": "code",
   "execution_count": 39,
   "metadata": {},
   "outputs": [
    {
     "data": {
      "text/plain": [
       "True"
      ]
     },
     "execution_count": 39,
     "metadata": {},
     "output_type": "execute_result"
    }
   ],
   "source": [
    "t.shape == t.size() "
   ]
  },
  {
   "cell_type": "code",
   "execution_count": 40,
   "metadata": {},
   "outputs": [
    {
     "data": {
      "text/plain": [
       "torch.Size([3, 4, 5])"
      ]
     },
     "execution_count": 40,
     "metadata": {},
     "output_type": "execute_result"
    }
   ],
   "source": [
    "t.shape"
   ]
  },
  {
   "cell_type": "code",
   "execution_count": 41,
   "metadata": {},
   "outputs": [
    {
     "data": {
      "text/plain": [
       "torch.Size([3, 4, 5])"
      ]
     },
     "execution_count": 41,
     "metadata": {},
     "output_type": "execute_result"
    }
   ],
   "source": [
    "t.size()"
   ]
  },
  {
   "cell_type": "code",
   "execution_count": 42,
   "metadata": {},
   "outputs": [
    {
     "data": {
      "text/plain": [
       "60"
      ]
     },
     "execution_count": 42,
     "metadata": {},
     "output_type": "execute_result"
    }
   ],
   "source": [
    "# Número total de elementos no Tensor\n",
    "torch.numel(t)"
   ]
  },
  {
   "cell_type": "markdown",
   "metadata": {},
   "source": [
    "## Slicing de Tensores Bidimensionais"
   ]
  },
  {
   "cell_type": "code",
   "execution_count": 43,
   "metadata": {},
   "outputs": [],
   "source": [
    "# Cria um tensor com valores randômicos\n",
    "torch.manual_seed(222)\n",
    "x = torch.randint(0, 10, size = (2, 3))"
   ]
  },
  {
   "cell_type": "code",
   "execution_count": 44,
   "metadata": {},
   "outputs": [
    {
     "name": "stdout",
     "output_type": "stream",
     "text": [
      "tensor([[6, 3, 9],\n",
      "        [2, 2, 4]])\n"
     ]
    }
   ],
   "source": [
    "print(x)"
   ]
  },
  {
   "cell_type": "code",
   "execution_count": 45,
   "metadata": {},
   "outputs": [
    {
     "name": "stdout",
     "output_type": "stream",
     "text": [
      "tensor(4)\n"
     ]
    }
   ],
   "source": [
    "# Slicing do tensor - Qual valor será retornado?\n",
    "print(x[1, 2])"
   ]
  },
  {
   "cell_type": "code",
   "execution_count": 46,
   "metadata": {},
   "outputs": [
    {
     "name": "stdout",
     "output_type": "stream",
     "text": [
      "tensor(3)\n"
     ]
    }
   ],
   "source": [
    "# Slicing do tensor - Qual valor será retornado?\n",
    "print(x[0, 1])"
   ]
  },
  {
   "cell_type": "markdown",
   "metadata": {},
   "source": [
    "## Slicing de Tensores Tridimensionais"
   ]
  },
  {
   "cell_type": "code",
   "execution_count": 47,
   "metadata": {},
   "outputs": [],
   "source": [
    "# Cria um tensor com valores randômicos\n",
    "torch.manual_seed(777)\n",
    "x = torch.randint(0, 10, size = (2, 3, 4))"
   ]
  },
  {
   "cell_type": "code",
   "execution_count": 48,
   "metadata": {},
   "outputs": [
    {
     "data": {
      "text/plain": [
       "3"
      ]
     },
     "execution_count": 48,
     "metadata": {},
     "output_type": "execute_result"
    }
   ],
   "source": [
    "x.dim()"
   ]
  },
  {
   "cell_type": "code",
   "execution_count": 49,
   "metadata": {},
   "outputs": [
    {
     "name": "stdout",
     "output_type": "stream",
     "text": [
      "tensor([[[5, 9, 1, 8],\n",
      "         [5, 7, 7, 7],\n",
      "         [3, 4, 1, 7]],\n",
      "\n",
      "        [[2, 0, 6, 3],\n",
      "         [2, 3, 0, 0],\n",
      "         [9, 5, 4, 2]]])\n"
     ]
    }
   ],
   "source": [
    "print(x)"
   ]
  },
  {
   "cell_type": "code",
   "execution_count": 50,
   "metadata": {
    "scrolled": false
   },
   "outputs": [
    {
     "name": "stdout",
     "output_type": "stream",
     "text": [
      "tensor(3)\n"
     ]
    }
   ],
   "source": [
    "# Slicing do tensor - Qual valor será retornado?\n",
    "print(x[1, 1, 1])"
   ]
  },
  {
   "cell_type": "code",
   "execution_count": 51,
   "metadata": {},
   "outputs": [
    {
     "name": "stdout",
     "output_type": "stream",
     "text": [
      "tensor(4)\n"
     ]
    }
   ],
   "source": [
    "# Slicing do tensor - Qual valor será retornado?\n",
    "print(x[0, 2, 1])"
   ]
  },
  {
   "cell_type": "markdown",
   "metadata": {},
   "source": [
    "**Sintaxe:**\n",
    "\n",
    "tensor[tensor_position_start:tensor_position_end, tensor_dimension_start:tensor_dimension_end , tensor_value_start:tensor_value_end]\n",
    "\n",
    "**Parâmetros:**\n",
    "\n",
    "- tensor_position_start\n",
    "- tensor_position_end\n",
    "- tensor_dimension_start\n",
    "- tensor_dimension_stop\n",
    "- tensor_value_start\n",
    "- tensor_value_stop"
   ]
  },
  {
   "cell_type": "code",
   "execution_count": 52,
   "metadata": {},
   "outputs": [
    {
     "name": "stdout",
     "output_type": "stream",
     "text": [
      "tensor([[[5, 9, 1, 8],\n",
      "         [5, 7, 7, 7],\n",
      "         [3, 4, 1, 7]],\n",
      "\n",
      "        [[2, 0, 6, 3],\n",
      "         [2, 3, 0, 0],\n",
      "         [9, 5, 4, 2]]])\n"
     ]
    }
   ],
   "source": [
    "print(x)"
   ]
  },
  {
   "cell_type": "code",
   "execution_count": 53,
   "metadata": {},
   "outputs": [
    {
     "name": "stdout",
     "output_type": "stream",
     "text": [
      "tensor([[[5, 9, 1]]])\n",
      "\n",
      "\n",
      "torch.Size([1, 1, 3])\n"
     ]
    }
   ],
   "source": [
    "# Slicing do tensor - Quais valores serão retornados?\n",
    "# Extraímos os 3 primeiros valores da primeira dimensão da primeira posição do tensor\n",
    "fatia_1 = x[0:1, 0:1, :3]\n",
    "print(fatia_1)\n",
    "print('\\n')\n",
    "print(fatia_1.shape)"
   ]
  },
  {
   "cell_type": "code",
   "execution_count": 54,
   "metadata": {},
   "outputs": [
    {
     "name": "stdout",
     "output_type": "stream",
     "text": [
      "tensor([[[5, 9, 1, 8],\n",
      "         [5, 7, 7, 7],\n",
      "         [3, 4, 1, 7]],\n",
      "\n",
      "        [[2, 0, 6, 3],\n",
      "         [2, 3, 0, 0],\n",
      "         [9, 5, 4, 2]]])\n"
     ]
    }
   ],
   "source": [
    "print(x)"
   ]
  },
  {
   "cell_type": "code",
   "execution_count": 55,
   "metadata": {},
   "outputs": [
    {
     "name": "stdout",
     "output_type": "stream",
     "text": [
      "tensor([[[9, 1, 8],\n",
      "         [7, 7, 7]]])\n",
      "\n",
      "\n",
      "torch.Size([1, 2, 3])\n"
     ]
    }
   ],
   "source": [
    "# Slicing do tensor - Quais valores serão retornados?\n",
    "# Extraímos os valores cujo índice é de 1 a 4 das duas primeiras dimensões da primeira posição do tensor\n",
    "fatia_2 = x[0:1, 0:2, 1:4]\n",
    "print(fatia_2)\n",
    "print('\\n')\n",
    "print(fatia_2.shape)"
   ]
  },
  {
   "cell_type": "code",
   "execution_count": 56,
   "metadata": {},
   "outputs": [
    {
     "name": "stdout",
     "output_type": "stream",
     "text": [
      "tensor([[[5, 9, 1, 8],\n",
      "         [5, 7, 7, 7],\n",
      "         [3, 4, 1, 7]],\n",
      "\n",
      "        [[2, 0, 6, 3],\n",
      "         [2, 3, 0, 0],\n",
      "         [9, 5, 4, 2]]])\n"
     ]
    }
   ],
   "source": [
    "print(x)"
   ]
  },
  {
   "cell_type": "code",
   "execution_count": 57,
   "metadata": {},
   "outputs": [
    {
     "name": "stdout",
     "output_type": "stream",
     "text": [
      "tensor([[[5, 4]]])\n",
      "\n",
      "\n",
      "torch.Size([1, 1, 2])\n"
     ]
    }
   ],
   "source": [
    "# Slicing do tensor - Quais valores serão retornados?\n",
    "# Extraímos os valores cujo índice é de 1 a 3 da terceira dimensão da segunda posição do tensor\n",
    "fatia_3 = x[1:2, 2:3, 1:3]\n",
    "print(fatia_3)\n",
    "print('\\n')\n",
    "print(fatia_3.shape)"
   ]
  },
  {
   "cell_type": "markdown",
   "metadata": {},
   "source": [
    "## Slicing de Tensores 4D"
   ]
  },
  {
   "cell_type": "code",
   "execution_count": 58,
   "metadata": {},
   "outputs": [
    {
     "name": "stdout",
     "output_type": "stream",
     "text": [
      "tensor([[[[6, 0, 3, 5, 8, 3, 4],\n",
      "          [0, 3, 1, 4, 9, 6, 4],\n",
      "          [0, 8, 5, 4, 9, 3, 4],\n",
      "          [0, 0, 8, 1, 7, 0, 0]],\n",
      "\n",
      "         [[7, 8, 7, 5, 9, 1, 3],\n",
      "          [5, 8, 7, 6, 5, 5, 2],\n",
      "          [7, 8, 5, 9, 2, 8, 9],\n",
      "          [3, 4, 7, 9, 2, 8, 9]],\n",
      "\n",
      "         [[2, 1, 2, 2, 5, 0, 3],\n",
      "          [4, 6, 1, 7, 4, 5, 4],\n",
      "          [4, 9, 0, 4, 2, 9, 0],\n",
      "          [7, 5, 9, 9, 0, 4, 0]]],\n",
      "\n",
      "\n",
      "        [[[2, 5, 4, 6, 1, 4, 9],\n",
      "          [6, 2, 1, 6, 9, 5, 2],\n",
      "          [0, 7, 0, 7, 2, 9, 3],\n",
      "          [1, 2, 7, 9, 6, 9, 7]],\n",
      "\n",
      "         [[4, 4, 0, 8, 1, 5, 7],\n",
      "          [9, 2, 5, 9, 6, 1, 3],\n",
      "          [4, 0, 9, 2, 4, 7, 3],\n",
      "          [3, 0, 4, 9, 2, 9, 6]],\n",
      "\n",
      "         [[3, 5, 2, 0, 1, 1, 8],\n",
      "          [6, 2, 8, 4, 9, 1, 7],\n",
      "          [3, 6, 8, 6, 5, 5, 4],\n",
      "          [9, 5, 0, 8, 8, 7, 6]]]])\n"
     ]
    }
   ],
   "source": [
    "# Cria um tensor com valores randômicos\n",
    "torch.manual_seed(555)\n",
    "x = torch.randint(0, 10, size = (2, 3, 4, 7))\n",
    "print(x)"
   ]
  },
  {
   "cell_type": "code",
   "execution_count": 59,
   "metadata": {},
   "outputs": [
    {
     "name": "stdout",
     "output_type": "stream",
     "text": [
      "tensor([[[[6, 2, 8, 4, 9],\n",
      "          [3, 6, 8, 6, 5]]]])\n",
      "\n",
      "\n",
      "torch.Size([1, 1, 2, 5])\n"
     ]
    }
   ],
   "source": [
    "# Slicing do tensor - Quais valores serão retornados?\n",
    "# Extraímos os valores cujo índice é de 0 a 5, entre as dimensões de índice 1 a 3, da posição de índice 2 \n",
    "# e colocação de índice 1\n",
    "fatia_1 = x[1:2, 2:3, 1:3, 0:5]\n",
    "print(fatia_1)\n",
    "print('\\n')\n",
    "print(fatia_1.shape)"
   ]
  },
  {
   "cell_type": "markdown",
   "metadata": {},
   "source": [
    "## Operações com Tensores"
   ]
  },
  {
   "cell_type": "markdown",
   "metadata": {},
   "source": [
    "Fatiar um Tensor com slicing baseado em indexação é útil, mas pode ser impraticável com tensores de muitas dimensões.\n",
    "\n",
    "Para fatiar um tensor 4D no PyTorch, você pode usar o método tensor.narrow(). Este método permite especificar as dimensões ao longo das quais deseja fatiar o tensor e os índices inicial e final de cada dimensão.\n",
    "\n",
    "https://pytorch.org/docs/stable/generated/torch.narrow.html"
   ]
  },
  {
   "cell_type": "code",
   "execution_count": 60,
   "metadata": {},
   "outputs": [
    {
     "name": "stdout",
     "output_type": "stream",
     "text": [
      "tensor([[1, 2, 3],\n",
      "        [4, 5, 6],\n",
      "        [7, 8, 9]])\n"
     ]
    }
   ],
   "source": [
    "# Cria um tensor\n",
    "x = torch.tensor([[1, 2, 3], [4, 5, 6], [7, 8, 9]])\n",
    "print(x)"
   ]
  },
  {
   "cell_type": "code",
   "execution_count": 61,
   "metadata": {},
   "outputs": [
    {
     "data": {
      "text/plain": [
       "torch.Size([3, 3])"
      ]
     },
     "execution_count": 61,
     "metadata": {},
     "output_type": "execute_result"
    }
   ],
   "source": [
    "x.shape"
   ]
  },
  {
   "cell_type": "code",
   "execution_count": 62,
   "metadata": {},
   "outputs": [
    {
     "name": "stdout",
     "output_type": "stream",
     "text": [
      "tensor([[1, 2, 3],\n",
      "        [4, 5, 6]])\n"
     ]
    }
   ],
   "source": [
    "# A partir da dimensão de índice 0, retorne as dimensões de índice 0 a 2\n",
    "y = torch.narrow(x, 0, 0, 2)\n",
    "print(y)"
   ]
  },
  {
   "cell_type": "code",
   "execution_count": 63,
   "metadata": {},
   "outputs": [
    {
     "name": "stdout",
     "output_type": "stream",
     "text": [
      "torch.Size([2, 3])\n"
     ]
    }
   ],
   "source": [
    "print(y.shape)"
   ]
  },
  {
   "cell_type": "code",
   "execution_count": 64,
   "metadata": {},
   "outputs": [],
   "source": [
    "# Cria um tensor de 4 dimensões\n",
    "torch.manual_seed(333)\n",
    "tensor_4d = torch.randn(4, 3, 5, 7)"
   ]
  },
  {
   "cell_type": "code",
   "execution_count": 65,
   "metadata": {},
   "outputs": [
    {
     "data": {
      "text/plain": [
       "4"
      ]
     },
     "execution_count": 65,
     "metadata": {},
     "output_type": "execute_result"
    }
   ],
   "source": [
    "tensor_4d.dim()"
   ]
  },
  {
   "cell_type": "code",
   "execution_count": 66,
   "metadata": {},
   "outputs": [
    {
     "name": "stdout",
     "output_type": "stream",
     "text": [
      "tensor([[[[-3.2437e-01, -1.5451e+00, -9.1402e-01, -1.1615e+00,  5.3821e-02,\n",
      "            3.4462e-01,  1.2141e+00],\n",
      "          [ 7.6924e-01,  2.5891e-01, -1.2053e+00,  1.0271e+00,  1.2716e+00,\n",
      "           -8.7937e-01,  5.7370e-01],\n",
      "          [-4.4572e-01, -2.0859e+00,  1.3772e+00, -2.3690e-01,  8.3114e-01,\n",
      "           -8.0294e-01, -2.9198e-01],\n",
      "          [-1.3555e-01, -5.5118e-01,  2.2018e+00,  1.2527e+00,  8.5568e-01,\n",
      "            1.0997e+00, -7.1250e-01],\n",
      "          [-6.2668e-01,  6.2716e-01,  1.0082e+00, -8.7408e-01,  3.8900e-01,\n",
      "           -2.1616e-01,  1.1955e+00]],\n",
      "\n",
      "         [[-1.4955e+00, -1.6574e+00, -1.1984e-01,  2.4541e+00,  2.0123e+00,\n",
      "           -1.6201e-01,  1.8793e-01],\n",
      "          [-2.8668e-01, -5.6722e-01,  2.4733e-01,  8.9870e-01, -2.5355e-01,\n",
      "            1.2472e+00, -1.7954e+00],\n",
      "          [ 1.8357e+00,  9.8063e-01,  1.1877e+00,  1.5062e-01,  2.1352e-01,\n",
      "           -1.9000e+00, -1.0241e+00],\n",
      "          [-4.5493e-01,  3.6072e-01, -6.4407e-01, -9.7513e-01, -8.4540e-01,\n",
      "            1.8660e-01, -6.3210e-01],\n",
      "          [ 7.2978e-01,  1.3003e+00,  1.8480e+00,  1.2382e-01, -6.9415e-01,\n",
      "           -5.5486e-01,  1.2486e+00]],\n",
      "\n",
      "         [[-4.7512e-01, -1.5098e-01, -4.0047e-01, -2.4335e-01, -8.6111e-01,\n",
      "           -3.2387e-01,  7.5250e-01],\n",
      "          [ 6.4624e-01,  7.7375e-01,  1.2741e+00,  1.6960e+00,  1.4577e+00,\n",
      "            1.6783e-01,  9.1263e-01],\n",
      "          [ 9.3684e-01, -9.1909e-01,  1.0637e+00,  6.9383e-01, -2.0857e-01,\n",
      "            7.5144e-01, -6.0059e-02],\n",
      "          [-4.3544e-01, -1.2452e+00, -1.7764e-01, -1.0989e+00,  3.6934e-02,\n",
      "            1.2992e+00, -1.8865e-02],\n",
      "          [-1.1231e-02, -8.8953e-01, -1.7218e+00, -8.5863e-01,  1.5849e+00,\n",
      "           -8.0206e-01, -4.0424e-01]]],\n",
      "\n",
      "\n",
      "        [[[ 7.9125e-01,  5.0935e-01,  1.5738e+00,  2.5658e-01, -1.0961e-01,\n",
      "            6.4651e-01, -1.2767e-01],\n",
      "          [-7.3908e-01,  9.2761e-02, -9.9265e-02, -2.7079e-01,  8.1630e-01,\n",
      "            1.2536e+00, -8.0071e-01],\n",
      "          [ 2.0827e+00, -1.0636e+00,  1.6650e+00, -3.1337e-01,  1.8505e+00,\n",
      "           -1.3504e+00, -7.1568e-01],\n",
      "          [ 6.0838e-01, -9.6001e-01, -1.0048e+00,  5.4563e-01,  1.3652e+00,\n",
      "            1.1437e+00, -1.1256e+00],\n",
      "          [-2.4978e-01, -4.2194e-01, -1.4819e-01, -1.3900e+00, -1.8941e-02,\n",
      "            6.6654e-01,  1.9005e+00]],\n",
      "\n",
      "         [[ 1.0310e-01, -1.3156e-01, -1.4451e+00,  6.2816e-01, -1.1047e+00,\n",
      "           -8.4109e-01,  1.4037e+00],\n",
      "          [ 1.0020e-01,  1.3601e+00,  4.1493e-01,  4.5996e-01, -2.6010e-01,\n",
      "            1.9304e+00, -9.7797e-01],\n",
      "          [-7.3522e-01,  7.1585e-01, -1.4962e-01, -2.7487e+00, -1.5123e+00,\n",
      "           -1.0746e-01, -8.9469e-01],\n",
      "          [-6.3089e-01, -5.8645e-01,  7.6477e-02,  5.7283e-01,  4.1659e-01,\n",
      "            4.1125e-01,  8.6995e-02],\n",
      "          [ 5.3908e-01,  1.9088e+00, -1.0770e+00, -5.4833e-01, -2.8823e-02,\n",
      "           -8.6302e-01,  2.8070e-01]],\n",
      "\n",
      "         [[-9.6437e-01,  8.9740e-01, -1.2857e+00, -1.7260e-01,  3.8842e-01,\n",
      "            7.2638e-01, -9.4582e-01],\n",
      "          [ 3.1993e-01,  1.0818e+00, -1.2178e+00, -4.7426e-01, -3.5803e-01,\n",
      "            5.9211e-02,  1.7171e-01],\n",
      "          [-7.7415e-01, -4.4456e-01, -8.8756e-01, -2.3292e+00, -9.6596e-02,\n",
      "            5.5965e-01, -1.4190e-02],\n",
      "          [-9.1159e-02,  1.2029e+00,  6.8130e-01, -2.2217e+00,  8.6288e-01,\n",
      "            7.8781e-01, -2.0375e-02],\n",
      "          [ 2.7745e-01,  4.8690e-01, -4.8720e-01,  1.7882e+00, -1.3248e+00,\n",
      "            1.3708e+00,  8.5237e-02]]],\n",
      "\n",
      "\n",
      "        [[[ 1.0373e+00, -5.4436e-01, -1.5784e+00,  1.0717e+00,  2.2046e-02,\n",
      "           -4.0796e-01,  2.8412e-01],\n",
      "          [-1.1164e+00,  1.0833e+00,  8.8508e-01,  7.2216e-01, -8.2938e-02,\n",
      "            1.5530e-02, -1.4723e+00],\n",
      "          [-2.2357e+00,  1.2525e+00, -1.6768e+00,  1.0950e+00,  8.7878e-01,\n",
      "            4.5301e-01, -4.4471e-01],\n",
      "          [ 6.6018e-01, -6.3006e-01,  6.6025e-01, -9.4616e-02, -2.2351e-03,\n",
      "           -5.2672e-01, -2.4870e+00],\n",
      "          [-1.5675e+00,  7.1562e-01,  1.2978e+00, -1.5915e+00,  7.9555e-01,\n",
      "           -7.5722e-01, -1.6097e+00]],\n",
      "\n",
      "         [[ 1.7271e+00, -3.3080e-02,  6.7827e-01, -8.5326e-01,  1.1253e+00,\n",
      "            3.8403e-01,  7.3386e-01],\n",
      "          [ 3.3834e-02,  1.9662e-01, -1.1332e+00, -1.1622e+00, -1.7797e+00,\n",
      "            1.5026e+00, -2.3768e-01],\n",
      "          [ 7.2747e-01, -1.1708e+00, -4.6567e-01, -2.3918e-01,  2.1910e-01,\n",
      "            1.0182e+00, -1.1953e+00],\n",
      "          [ 1.4824e+00,  5.0878e-01,  1.2319e+00,  3.6942e-01,  9.7733e-01,\n",
      "            5.9397e-01, -5.1619e-02],\n",
      "          [-3.8741e-01, -5.7271e-01, -5.8891e-01,  1.0573e+00,  1.4920e+00,\n",
      "            9.5729e-01, -1.2282e-02]],\n",
      "\n",
      "         [[-5.3130e-01, -8.8897e-02, -3.3941e-01, -5.9929e-01,  6.2698e-01,\n",
      "           -1.1724e+00,  3.6002e-01],\n",
      "          [ 2.6424e-01,  9.2028e-02,  1.1315e-01,  2.5995e-02, -1.0248e+00,\n",
      "            1.6062e+00, -1.0407e-02],\n",
      "          [-1.5166e+00,  3.0913e-01, -3.1205e-02, -2.1909e+00, -5.4556e-03,\n",
      "           -2.7440e-01, -7.9929e-01],\n",
      "          [ 2.1697e-01,  1.7384e+00,  6.2847e-01, -6.5811e-02, -3.5639e+00,\n",
      "            5.0970e-01,  2.0930e+00],\n",
      "          [-6.0026e-01,  1.3843e+00, -8.2016e-01,  6.0304e-01,  8.5715e-01,\n",
      "            1.4230e+00,  7.6821e-01]]],\n",
      "\n",
      "\n",
      "        [[[ 4.5513e-01, -7.2925e-01,  1.2888e-02,  1.7020e-01, -1.5358e+00,\n",
      "           -2.1333e+00, -2.3159e+00],\n",
      "          [ 4.1181e-01,  1.4655e-01,  2.6578e-01, -1.0580e+00,  2.9889e-01,\n",
      "           -1.0058e+00,  1.4060e+00],\n",
      "          [ 3.6543e-01, -1.1127e+00, -1.2359e+00, -6.7089e-01,  9.9390e-01,\n",
      "            7.1657e-01, -2.9048e+00],\n",
      "          [ 3.4796e-01, -2.8885e-02,  6.2518e-01,  9.3694e-01,  1.0027e+00,\n",
      "            1.3608e+00,  4.7357e-01],\n",
      "          [-6.5559e-01,  9.0133e-01,  4.5642e-01,  5.8508e-01,  4.7814e-01,\n",
      "            4.0631e-01,  3.5691e-01]],\n",
      "\n",
      "         [[ 7.3866e-01, -5.4286e-02, -7.7187e-01,  3.2629e-01,  6.6669e-01,\n",
      "           -7.6247e-02, -1.7618e-01],\n",
      "          [-8.2596e-02,  1.2280e+00, -7.5950e-01,  2.0246e+00, -9.3544e-02,\n",
      "           -6.2055e-01,  9.6535e-01],\n",
      "          [-1.6156e+00,  4.9917e-01,  1.1617e+00,  7.8243e-01, -7.5846e-01,\n",
      "           -4.6069e-01, -9.8036e-01],\n",
      "          [-1.1722e+00,  1.3574e+00, -1.1007e+00, -1.9955e-01, -5.9040e-01,\n",
      "            5.7781e-02, -2.2473e+00],\n",
      "          [ 1.2535e-01, -8.3594e-01, -5.6127e-01,  9.4109e-01, -1.7890e+00,\n",
      "           -2.1846e+00, -1.5493e+00]],\n",
      "\n",
      "         [[-2.2416e+00, -1.0289e+00,  1.0272e+00, -3.9374e-02, -9.8189e-01,\n",
      "            7.8755e-01,  1.1057e+00],\n",
      "          [-1.7204e+00, -4.7016e-02, -1.6082e+00,  1.6250e+00,  7.6603e-02,\n",
      "            6.8831e-01, -1.6656e+00],\n",
      "          [ 1.0079e+00,  2.0660e+00,  4.9143e-01, -1.3444e-01,  1.5363e-02,\n",
      "           -5.3854e-01,  4.7684e-01],\n",
      "          [-7.7716e-01,  4.8596e-01, -1.0513e+00,  8.0161e-01,  1.5784e-01,\n",
      "           -9.1922e-02, -9.7969e-01],\n",
      "          [ 1.5923e+00, -2.4737e-01, -1.3132e+00, -1.0658e-01, -5.7288e-01,\n",
      "            9.8055e-01, -2.3705e+00]]]])\n"
     ]
    }
   ],
   "source": [
    "print(tensor_4d)"
   ]
  },
  {
   "cell_type": "code",
   "execution_count": 67,
   "metadata": {},
   "outputs": [],
   "source": [
    "# A partir da dimensão de índice 2, retorne as dimensões entre índices 0 e 2. \n",
    "# Faça isso em todas as posições e colocações.\n",
    "sliced_tensor_4d = tensor_4d.narrow(2, 0, 2)"
   ]
  },
  {
   "cell_type": "code",
   "execution_count": 68,
   "metadata": {},
   "outputs": [
    {
     "data": {
      "text/plain": [
       "torch.Size([4, 3, 2, 7])"
      ]
     },
     "execution_count": 68,
     "metadata": {},
     "output_type": "execute_result"
    }
   ],
   "source": [
    "sliced_tensor_4d.shape"
   ]
  },
  {
   "cell_type": "code",
   "execution_count": 69,
   "metadata": {},
   "outputs": [
    {
     "name": "stdout",
     "output_type": "stream",
     "text": [
      "tensor([[[[-0.3244, -1.5451, -0.9140, -1.1615,  0.0538,  0.3446,  1.2141],\n",
      "          [ 0.7692,  0.2589, -1.2053,  1.0271,  1.2716, -0.8794,  0.5737]],\n",
      "\n",
      "         [[-1.4955, -1.6574, -0.1198,  2.4541,  2.0123, -0.1620,  0.1879],\n",
      "          [-0.2867, -0.5672,  0.2473,  0.8987, -0.2536,  1.2472, -1.7954]],\n",
      "\n",
      "         [[-0.4751, -0.1510, -0.4005, -0.2434, -0.8611, -0.3239,  0.7525],\n",
      "          [ 0.6462,  0.7737,  1.2741,  1.6960,  1.4577,  0.1678,  0.9126]]],\n",
      "\n",
      "\n",
      "        [[[ 0.7912,  0.5094,  1.5738,  0.2566, -0.1096,  0.6465, -0.1277],\n",
      "          [-0.7391,  0.0928, -0.0993, -0.2708,  0.8163,  1.2536, -0.8007]],\n",
      "\n",
      "         [[ 0.1031, -0.1316, -1.4451,  0.6282, -1.1047, -0.8411,  1.4037],\n",
      "          [ 0.1002,  1.3601,  0.4149,  0.4600, -0.2601,  1.9304, -0.9780]],\n",
      "\n",
      "         [[-0.9644,  0.8974, -1.2857, -0.1726,  0.3884,  0.7264, -0.9458],\n",
      "          [ 0.3199,  1.0818, -1.2178, -0.4743, -0.3580,  0.0592,  0.1717]]],\n",
      "\n",
      "\n",
      "        [[[ 1.0373, -0.5444, -1.5784,  1.0717,  0.0220, -0.4080,  0.2841],\n",
      "          [-1.1164,  1.0833,  0.8851,  0.7222, -0.0829,  0.0155, -1.4723]],\n",
      "\n",
      "         [[ 1.7271, -0.0331,  0.6783, -0.8533,  1.1253,  0.3840,  0.7339],\n",
      "          [ 0.0338,  0.1966, -1.1332, -1.1622, -1.7797,  1.5026, -0.2377]],\n",
      "\n",
      "         [[-0.5313, -0.0889, -0.3394, -0.5993,  0.6270, -1.1724,  0.3600],\n",
      "          [ 0.2642,  0.0920,  0.1132,  0.0260, -1.0248,  1.6062, -0.0104]]],\n",
      "\n",
      "\n",
      "        [[[ 0.4551, -0.7292,  0.0129,  0.1702, -1.5358, -2.1333, -2.3159],\n",
      "          [ 0.4118,  0.1465,  0.2658, -1.0580,  0.2989, -1.0058,  1.4060]],\n",
      "\n",
      "         [[ 0.7387, -0.0543, -0.7719,  0.3263,  0.6667, -0.0762, -0.1762],\n",
      "          [-0.0826,  1.2280, -0.7595,  2.0246, -0.0935, -0.6205,  0.9653]],\n",
      "\n",
      "         [[-2.2416, -1.0289,  1.0272, -0.0394, -0.9819,  0.7876,  1.1057],\n",
      "          [-1.7204, -0.0470, -1.6082,  1.6250,  0.0766,  0.6883, -1.6656]]]])\n"
     ]
    }
   ],
   "source": [
    "print(sliced_tensor_4d)"
   ]
  },
  {
   "cell_type": "code",
   "execution_count": 70,
   "metadata": {},
   "outputs": [
    {
     "data": {
      "text/plain": [
       "5"
      ]
     },
     "execution_count": 70,
     "metadata": {},
     "output_type": "execute_result"
    }
   ],
   "source": [
    "# Cria um tensor de 5 dimensões\n",
    "torch.manual_seed(222)\n",
    "tensor_5d = torch.randn(4, 3, 5, 7, 3)\n",
    "tensor_5d.dim()"
   ]
  },
  {
   "cell_type": "code",
   "execution_count": 71,
   "metadata": {},
   "outputs": [
    {
     "name": "stdout",
     "output_type": "stream",
     "text": [
      "tensor([[[[[-1.4609e+00,  7.5284e-01,  7.8715e-01],\n",
      "           [ 1.2646e+00, -6.3714e-01, -1.1649e+00],\n",
      "           [-8.3920e-01, -1.1444e+00,  2.0679e-01],\n",
      "           ...,\n",
      "           [-2.2334e+00,  7.5494e-02,  4.4784e-01],\n",
      "           [-1.2305e+00,  6.4900e-01, -8.6484e-03],\n",
      "           [-1.3489e+00,  6.3523e-01,  1.3309e+00]],\n",
      "\n",
      "          [[ 1.8371e+00, -3.5801e-01,  1.9123e-01],\n",
      "           [ 1.0761e-01,  8.6465e-01,  3.0508e-02],\n",
      "           [ 1.1851e+00,  1.4213e-01, -9.4899e-02],\n",
      "           ...,\n",
      "           [ 1.6631e-01, -4.7617e-01, -1.0917e+00],\n",
      "           [ 5.8131e-01, -1.2279e-01, -7.6770e-02],\n",
      "           [-7.9447e-01, -8.0380e-01, -1.3444e-01]],\n",
      "\n",
      "          [[-9.1836e-01, -3.7776e-01,  4.5677e-01],\n",
      "           [ 7.6520e-01,  4.8849e-01, -2.1489e+00],\n",
      "           [-8.5332e-01,  5.7984e-01, -6.4183e-01],\n",
      "           ...,\n",
      "           [ 2.7101e-01, -1.5007e+00,  1.1534e+00],\n",
      "           [ 2.9236e-01, -1.8282e-01,  5.4359e-01],\n",
      "           [-1.1346e+00, -6.5239e-01, -1.0586e+00]],\n",
      "\n",
      "          [[ 4.1766e-01, -5.1919e-01,  5.7884e-01],\n",
      "           [-2.9708e-01, -6.0644e-01, -1.2248e+00],\n",
      "           [-2.0160e+00,  1.0453e+00,  4.1145e-01],\n",
      "           ...,\n",
      "           [ 1.0562e-01,  8.6055e-01,  9.5128e-01],\n",
      "           [-3.6999e-01, -1.6828e+00, -1.4876e+00],\n",
      "           [ 7.6582e-01,  8.9076e-02, -8.8550e-01]],\n",
      "\n",
      "          [[ 3.0020e-01,  1.7604e-01, -9.7505e-01],\n",
      "           [-1.8220e+00, -9.3564e-01,  8.3833e-01],\n",
      "           [-4.5458e-02, -8.9865e-01,  8.3413e-01],\n",
      "           ...,\n",
      "           [ 1.2569e+00, -5.9114e-01,  3.8181e-01],\n",
      "           [-5.9152e-01,  6.2583e-02,  7.5592e-01],\n",
      "           [ 3.4066e-01, -1.6109e+00,  1.0241e-01]]],\n",
      "\n",
      "\n",
      "         [[[-2.0924e+00, -7.6374e-02,  6.0525e-01],\n",
      "           [ 6.9033e-01,  1.4234e+00,  1.3235e+00],\n",
      "           [ 3.4384e-01, -4.4831e-01,  4.7655e-01],\n",
      "           ...,\n",
      "           [ 5.3790e-01, -2.4354e-02,  5.6613e-01],\n",
      "           [-1.4083e+00, -1.1757e-02,  1.2112e+00],\n",
      "           [-1.3738e-01,  1.0839e+00, -1.3650e+00]],\n",
      "\n",
      "          [[-1.1573e+00, -4.9814e-02,  1.5634e+00],\n",
      "           [-1.7298e+00, -5.7171e-01,  1.8469e+00],\n",
      "           [ 6.2279e-01, -2.8551e-01, -9.6685e-02],\n",
      "           ...,\n",
      "           [-9.5484e-01, -2.5305e+00, -3.2215e-02],\n",
      "           [ 2.4324e-01,  9.2635e-01,  3.5821e-01],\n",
      "           [-9.5094e-01, -1.6307e+00, -2.7432e-01]],\n",
      "\n",
      "          [[ 1.1743e+00,  2.5940e-01, -3.2316e-01],\n",
      "           [ 9.0040e-01, -1.1019e-01, -1.1299e-01],\n",
      "           [-1.8758e+00, -2.1057e-02,  5.2762e-01],\n",
      "           ...,\n",
      "           [-2.3902e-02,  1.0582e+00,  8.7870e-01],\n",
      "           [ 3.8586e-01,  2.6203e-01, -1.8771e+00],\n",
      "           [-2.7809e-01,  1.0303e+00, -2.0342e-01]],\n",
      "\n",
      "          [[-1.2090e+00,  3.1192e-01, -1.2300e-01],\n",
      "           [-9.9111e-01, -4.0107e-01, -1.8377e-01],\n",
      "           [ 6.1165e-01,  8.5482e-01, -6.5038e-01],\n",
      "           ...,\n",
      "           [ 8.7188e-01, -9.3623e-01,  1.4547e+00],\n",
      "           [-9.5716e-01,  8.6431e-02, -8.9981e-01],\n",
      "           [-7.4399e-01, -4.9358e-01,  1.4211e+00]],\n",
      "\n",
      "          [[-7.2951e-01, -2.0467e+00, -1.3607e+00],\n",
      "           [ 2.7716e-01,  7.1049e-01,  1.3140e-01],\n",
      "           [-2.3454e+00, -1.6052e-02, -2.2947e+00],\n",
      "           ...,\n",
      "           [-1.6345e+00, -1.9824e-01, -1.3638e+00],\n",
      "           [-1.2007e-01, -3.9499e-01,  4.8601e-01],\n",
      "           [-1.5138e+00,  1.0452e-01, -8.6403e-01]]],\n",
      "\n",
      "\n",
      "         [[[ 5.9718e-01,  6.7312e-01, -4.0792e-01],\n",
      "           [ 4.1685e-01,  7.4225e-01,  3.1540e-01],\n",
      "           [-1.3457e-01,  1.0418e-01, -9.7626e-01],\n",
      "           ...,\n",
      "           [ 9.1420e-01,  1.4643e+00, -1.4234e+00],\n",
      "           [ 2.6443e-03,  4.1949e-01,  1.8959e-01],\n",
      "           [-4.3784e-01,  3.9322e-01, -2.9146e-01]],\n",
      "\n",
      "          [[-1.0041e+00,  6.8629e-01,  2.6605e-01],\n",
      "           [ 3.3405e-02,  4.8146e-03, -2.5363e-02],\n",
      "           [ 5.0076e-01, -6.0252e-01, -1.3466e+00],\n",
      "           ...,\n",
      "           [-6.4053e-01,  6.0251e-01,  3.3219e-02],\n",
      "           [-1.4659e+00,  1.4122e+00, -7.5418e-01],\n",
      "           [-4.1988e-01, -9.4675e-01, -1.0284e+00]],\n",
      "\n",
      "          [[ 1.2076e+00,  3.4332e-01, -4.1482e-01],\n",
      "           [ 8.7682e-01, -1.9799e-01,  4.1142e-01],\n",
      "           [-2.2135e-01, -9.1651e-02,  3.4556e-01],\n",
      "           ...,\n",
      "           [-2.8603e-01, -1.3964e-01, -1.5957e+00],\n",
      "           [-2.4760e-01, -1.8642e-01,  1.4147e+00],\n",
      "           [-2.5082e-01,  1.8968e+00,  1.6848e+00]],\n",
      "\n",
      "          [[ 3.9494e-01, -5.8236e-01, -3.8931e-01],\n",
      "           [ 1.3193e+00,  5.9717e-01, -1.7085e+00],\n",
      "           [-1.6939e+00,  8.2830e-01, -1.5307e+00],\n",
      "           ...,\n",
      "           [ 8.8983e-02, -4.7956e-01, -3.0628e+00],\n",
      "           [-1.6937e+00,  1.0376e+00, -6.1732e-01],\n",
      "           [ 2.7204e-01,  7.1658e-01,  2.1826e+00]],\n",
      "\n",
      "          [[-1.1688e+00, -4.9393e-01,  1.7921e+00],\n",
      "           [ 8.1281e-01,  1.1785e+00,  7.0172e-02],\n",
      "           [-1.1433e+00, -5.1817e-01, -7.4951e-01],\n",
      "           ...,\n",
      "           [ 1.2593e-01, -6.2477e-01, -3.1557e-01],\n",
      "           [ 1.0749e+00,  6.8457e-01, -3.9876e-02],\n",
      "           [ 8.5817e-01, -1.1029e+00,  1.0161e+00]]]],\n",
      "\n",
      "\n",
      "\n",
      "        [[[[ 2.3882e-01,  5.5173e-01, -2.7778e-01],\n",
      "           [-3.0989e-01, -2.1419e+00, -9.0013e-01],\n",
      "           [-1.1504e-01,  1.0329e+00,  1.2606e-01],\n",
      "           ...,\n",
      "           [ 3.5111e-01, -7.2331e-01,  2.0447e+00],\n",
      "           [ 8.3836e-01, -1.4119e-01, -9.4077e-02],\n",
      "           [ 1.2460e+00, -3.5712e+00, -4.9582e-02]],\n",
      "\n",
      "          [[-1.4953e+00,  2.1872e-03, -1.6831e-03],\n",
      "           [ 7.1819e-01,  1.4071e+00,  8.7770e-01],\n",
      "           [-1.1696e-01,  3.9336e-01,  1.5468e+00],\n",
      "           ...,\n",
      "           [-1.0518e+00, -2.2507e+00, -1.1009e-01],\n",
      "           [ 5.8528e-03, -6.4653e-01,  5.2278e-01],\n",
      "           [-1.6588e-01, -8.4721e-01, -1.0338e-01]],\n",
      "\n",
      "          [[ 1.2923e+00,  6.2887e-01, -1.3064e-01],\n",
      "           [ 5.4365e-01, -2.7507e-01,  1.0960e+00],\n",
      "           [ 3.4015e-02, -1.1078e+00, -1.4502e+00],\n",
      "           ...,\n",
      "           [ 1.7296e+00,  9.8364e-01, -1.7373e-01],\n",
      "           [ 9.3177e-01, -5.7567e-02, -1.3370e+00],\n",
      "           [ 1.1696e+00,  8.2240e-01,  4.5437e-01]],\n",
      "\n",
      "          [[ 4.4216e-01,  5.0442e-01, -9.9844e-01],\n",
      "           [ 1.2389e+00,  1.4588e+00, -7.6856e-02],\n",
      "           [ 8.1432e-01,  7.5639e-01,  4.6699e-01],\n",
      "           ...,\n",
      "           [-7.0751e-02,  1.3812e+00, -3.4220e-01],\n",
      "           [-1.5731e+00,  1.3029e-01, -2.0231e-01],\n",
      "           [ 1.3796e+00,  2.7243e-01,  9.8998e-01]],\n",
      "\n",
      "          [[-3.6002e-01,  6.2837e-01,  4.0384e-01],\n",
      "           [ 1.9059e-01,  4.2522e-01, -2.1827e+00],\n",
      "           [-5.1799e-01, -4.8852e-01, -5.2442e-01],\n",
      "           ...,\n",
      "           [-2.4665e-01,  4.3114e-01, -6.5033e-01],\n",
      "           [-1.8192e+00, -1.3110e-01, -2.6853e+00],\n",
      "           [ 3.7687e-01,  3.4354e-01,  1.3181e+00]]],\n",
      "\n",
      "\n",
      "         [[[ 2.7022e-01,  9.3350e-01, -9.8980e-01],\n",
      "           [ 2.5170e+00,  5.2412e-01,  1.1738e+00],\n",
      "           [-4.3601e-02,  9.3647e-02, -1.3474e+00],\n",
      "           ...,\n",
      "           [-3.2244e-01,  4.6427e-01,  6.9933e-02],\n",
      "           [-1.0100e+00, -8.5830e-01,  1.2075e+00],\n",
      "           [-7.5781e-02, -7.7614e-01, -7.6975e-01]],\n",
      "\n",
      "          [[ 6.3325e-01, -1.7086e-01, -3.4387e-01],\n",
      "           [ 2.9765e-01, -1.2223e-01, -3.3773e-01],\n",
      "           [-1.7955e+00, -1.1405e+00,  1.5330e+00],\n",
      "           ...,\n",
      "           [ 2.7938e+00,  2.6159e-01, -7.3070e-01],\n",
      "           [ 4.6008e-01,  8.5640e-01,  8.3050e-01],\n",
      "           [-9.9236e-02, -1.2685e+00, -1.2521e+00]],\n",
      "\n",
      "          [[ 1.4587e+00,  1.0343e+00, -1.0623e+00],\n",
      "           [ 5.4757e-01,  2.6493e-01,  9.8217e-01],\n",
      "           [-5.7030e-01, -1.9963e+00,  6.9579e-01],\n",
      "           ...,\n",
      "           [ 1.2102e+00,  2.2387e+00,  3.1028e-01],\n",
      "           [ 4.9717e-01, -4.4544e-01, -1.9215e+00],\n",
      "           [ 5.5473e-02, -2.2080e+00,  8.3227e-01]],\n",
      "\n",
      "          [[ 9.9824e-02,  1.8266e+00,  1.9524e-01],\n",
      "           [-6.7839e-01, -1.0783e-01,  4.5629e-01],\n",
      "           [-5.6022e-01,  3.5014e-01,  4.5026e-01],\n",
      "           ...,\n",
      "           [-3.3303e-01, -1.3728e+00,  2.0604e+00],\n",
      "           [ 1.1677e+00, -1.4920e+00,  8.7476e-01],\n",
      "           [-5.5047e-01,  1.6150e-04,  7.0192e-01]],\n",
      "\n",
      "          [[-5.4431e-01,  1.4386e+00,  2.2215e-04],\n",
      "           [ 8.9691e-01, -2.4108e-02, -2.8141e-01],\n",
      "           [-7.0851e-01, -7.3166e-01, -9.2538e-01],\n",
      "           ...,\n",
      "           [-1.2379e+00,  8.1289e-01,  1.3201e-01],\n",
      "           [ 1.1317e+00, -2.3599e-01, -5.2068e-01],\n",
      "           [-2.6412e-01, -2.2738e-01, -2.0180e+00]]],\n",
      "\n",
      "\n",
      "         [[[-1.1463e+00,  1.8098e+00,  2.1723e+00],\n",
      "           [-4.0497e-02,  1.0712e+00,  9.2301e-01],\n",
      "           [-2.3376e+00, -6.0710e-01,  2.1480e+00],\n",
      "           ...,\n",
      "           [ 6.7839e-01, -1.4629e+00,  7.3448e-03],\n",
      "           [-1.3611e+00, -9.1503e-01,  2.4631e+00],\n",
      "           [-6.4290e-01,  1.3389e+00,  9.7042e-01]],\n",
      "\n",
      "          [[-1.0050e+00, -1.2665e+00,  4.9268e-01],\n",
      "           [-1.6155e+00, -1.0521e+00,  6.7764e-01],\n",
      "           [ 2.1321e-03,  4.2708e-02, -6.5659e-01],\n",
      "           ...,\n",
      "           [ 2.1456e-01,  9.8489e-01,  3.6620e-01],\n",
      "           [ 1.9360e+00, -4.7602e-02,  9.5865e-01],\n",
      "           [-8.1090e-01, -2.7027e-02, -1.6473e-01]],\n",
      "\n",
      "          [[-7.2202e-01,  5.1920e-01,  1.5366e+00],\n",
      "           [-1.2306e+00,  2.1428e-01, -6.8519e-01],\n",
      "           [-8.0020e-01, -1.9707e-01, -3.6225e-01],\n",
      "           ...,\n",
      "           [-1.5348e-01, -1.0850e+00, -9.3066e-01],\n",
      "           [-7.1638e-01, -2.3494e+00, -3.7560e-01],\n",
      "           [-7.4578e-01,  1.0849e+00,  2.6510e+00]],\n",
      "\n",
      "          [[-4.0872e-02,  1.2159e+00,  5.6726e-01],\n",
      "           [-1.4577e+00, -3.7431e-01, -1.9662e-02],\n",
      "           [-3.3741e-01,  9.8190e-01, -8.8113e-01],\n",
      "           ...,\n",
      "           [ 4.9162e-01, -1.6308e-01, -9.3512e-01],\n",
      "           [ 2.0173e+00,  1.0172e+00, -1.5538e+00],\n",
      "           [ 1.4907e+00,  1.3666e-01,  1.1636e-01]],\n",
      "\n",
      "          [[ 3.6103e-01, -2.5564e+00,  2.3860e-01],\n",
      "           [-1.9000e-01, -3.6432e-01, -1.3510e-01],\n",
      "           [ 4.5553e-01, -2.5264e-01, -5.8500e-01],\n",
      "           ...,\n",
      "           [-3.4780e-01, -1.5157e+00, -1.1433e+00],\n",
      "           [-5.2466e-01,  7.9974e-01,  2.1601e+00],\n",
      "           [ 1.0872e+00, -7.1880e-01, -2.5185e+00]]]],\n",
      "\n",
      "\n",
      "\n",
      "        [[[[-1.6539e+00,  8.6558e-01, -2.7307e-01],\n",
      "           [-1.1659e+00, -1.6447e-01, -7.7397e-01],\n",
      "           [-5.9704e-01, -7.4105e-01, -1.3886e+00],\n",
      "           ...,\n",
      "           [ 1.6228e+00, -1.2038e+00, -2.2258e-02],\n",
      "           [-1.1191e+00, -4.8821e-01,  1.5172e+00],\n",
      "           [-7.3506e-01,  8.6063e-01,  3.4532e-01]],\n",
      "\n",
      "          [[-4.3748e-01,  9.7695e-01, -5.3268e-01],\n",
      "           [ 1.3549e-01,  1.2204e+00, -2.0991e-01],\n",
      "           [-5.3156e-01,  1.6633e+00,  3.9331e-01],\n",
      "           ...,\n",
      "           [-7.6697e-01, -1.2730e-01,  4.3252e-01],\n",
      "           [ 1.5260e+00, -1.1280e+00,  1.1329e+00],\n",
      "           [ 6.4785e-01,  9.1808e-01, -1.0627e+00]],\n",
      "\n",
      "          [[-1.7846e+00,  6.1467e-01,  2.6580e+00],\n",
      "           [-2.6347e-01, -2.2870e-01, -8.2514e-01],\n",
      "           [-2.6142e-01, -8.9320e-01, -7.9231e-02],\n",
      "           ...,\n",
      "           [ 2.2492e-01, -1.9444e+00, -2.4738e-01],\n",
      "           [-5.3417e-01,  3.4977e-01,  1.0957e+00],\n",
      "           [-3.1997e-01,  1.4889e+00, -8.7358e-02]],\n",
      "\n",
      "          [[ 2.1532e-01, -2.9437e-01, -1.8403e+00],\n",
      "           [-1.4916e-01, -8.1851e-01,  3.9465e-02],\n",
      "           [ 3.5428e-01, -9.1513e-01,  8.9753e-01],\n",
      "           ...,\n",
      "           [ 2.0785e+00,  1.2633e+00, -6.9438e-01],\n",
      "           [ 5.0723e-01,  6.8224e-01, -1.5095e+00],\n",
      "           [-2.1165e+00, -3.4025e-01, -3.7940e-01]],\n",
      "\n",
      "          [[ 6.3287e-01, -1.8059e-01, -9.5848e-01],\n",
      "           [ 4.9998e-01,  9.5998e-02, -9.3579e-01],\n",
      "           [ 8.8776e-01, -2.5562e+00,  9.1886e-01],\n",
      "           ...,\n",
      "           [ 1.1563e+00,  3.8274e-02,  1.4064e+00],\n",
      "           [ 1.6246e+00,  2.2226e-01,  8.2361e-01],\n",
      "           [-8.6577e-01, -1.0419e+00,  1.0714e+00]]],\n",
      "\n",
      "\n",
      "         [[[ 1.1074e-01, -6.0120e-01,  4.3687e-01],\n",
      "           [ 1.7552e+00,  5.0952e-01, -3.8448e-01],\n",
      "           [-5.0419e-01,  7.4366e-01, -8.7043e-01],\n",
      "           ...,\n",
      "           [ 9.1777e-01,  6.5815e-01, -2.1552e-01],\n",
      "           [-1.1905e-01,  6.5125e-01, -8.0042e-01],\n",
      "           [ 2.2010e-01, -8.9227e-01, -1.8861e+00]],\n",
      "\n",
      "          [[-2.3962e-02, -1.1959e-01, -1.5339e-01],\n",
      "           [ 1.8447e-01,  6.2022e-01, -1.1141e+00],\n",
      "           [-4.4962e-01,  6.2636e-01,  2.5480e-01],\n",
      "           ...,\n",
      "           [-1.0872e-01, -1.0175e+00,  1.7582e+00],\n",
      "           [-5.0892e-01, -7.5895e-01,  1.1302e+00],\n",
      "           [-1.1687e+00, -3.7047e-01, -1.3683e-01]],\n",
      "\n",
      "          [[-9.2029e-01, -6.7624e-01, -1.9511e+00],\n",
      "           [ 9.4981e-01, -1.7902e+00,  8.1324e-01],\n",
      "           [-2.6919e-01,  3.8223e-01, -5.5878e-02],\n",
      "           ...,\n",
      "           [-1.4026e+00,  1.6911e+00,  5.9474e-02],\n",
      "           [ 5.3832e-01, -2.5261e-01, -5.6718e-01],\n",
      "           [-9.6339e-02, -8.5928e-01, -1.1458e-01]],\n",
      "\n",
      "          [[ 9.6724e-01, -2.1859e-01, -1.0310e+00],\n",
      "           [ 2.7545e+00, -6.1212e-01, -1.1893e+00],\n",
      "           [ 1.0797e+00, -2.3662e+00, -1.1554e+00],\n",
      "           ...,\n",
      "           [-5.5369e-01, -6.2957e-01,  5.1593e-01],\n",
      "           [-3.7849e-01,  6.6683e-01,  1.0885e+00],\n",
      "           [-7.9926e-02,  8.1211e-01, -2.5538e-01]],\n",
      "\n",
      "          [[ 3.0502e-01, -4.8607e-01,  8.7258e-01],\n",
      "           [ 6.1558e-01,  3.1274e+00,  5.8266e-01],\n",
      "           [ 7.1205e-01, -1.1503e+00, -1.4598e+00],\n",
      "           ...,\n",
      "           [ 1.9624e-01, -8.2199e-01,  1.7290e+00],\n",
      "           [ 1.1796e+00,  8.7302e-02,  1.6410e+00],\n",
      "           [ 8.1182e-01, -5.0050e-01, -1.9198e+00]]],\n",
      "\n",
      "\n",
      "         [[[ 1.4203e+00, -2.8448e-01, -1.8986e-01],\n",
      "           [ 1.3232e+00, -1.9473e-01, -5.5218e-01],\n",
      "           [-2.8399e-01,  7.8928e-02, -9.7283e-01],\n",
      "           ...,\n",
      "           [ 1.3920e-02,  1.3208e+00,  6.1281e-01],\n",
      "           [ 1.5868e+00,  5.1035e-01,  6.0655e-01],\n",
      "           [-1.8921e+00, -9.8138e-01,  3.1600e-01]],\n",
      "\n",
      "          [[-9.2793e-01, -3.8490e-01, -8.9402e-01],\n",
      "           [-2.7878e-01,  5.7646e-01,  9.9939e-02],\n",
      "           [-7.4303e-01, -1.8721e+00, -1.7159e-01],\n",
      "           ...,\n",
      "           [-7.5158e-01, -2.7663e-01, -1.0668e+00],\n",
      "           [-2.0062e+00,  4.1845e-02,  7.3716e-01],\n",
      "           [-8.7736e-01,  8.4468e-01,  9.0297e-01]],\n",
      "\n",
      "          [[ 9.0439e-02, -3.6651e-01,  1.4068e+00],\n",
      "           [-6.2314e-01,  3.7218e-01,  2.3335e-01],\n",
      "           [-5.4192e-01, -2.0062e-01, -6.0654e-01],\n",
      "           ...,\n",
      "           [ 1.6794e+00,  3.0314e-02,  2.1175e+00],\n",
      "           [-1.1657e+00,  2.0499e-01, -1.6243e+00],\n",
      "           [-4.2848e-01, -4.2430e-01, -7.1480e-01]],\n",
      "\n",
      "          [[-1.9313e-01, -8.2022e-01,  1.0163e+00],\n",
      "           [-9.1072e-01, -1.4659e+00, -5.9049e-01],\n",
      "           [-6.6091e-02, -1.5916e+00,  9.6375e-02],\n",
      "           ...,\n",
      "           [ 3.8835e-01,  5.0860e-01,  9.1030e-01],\n",
      "           [ 5.2020e-01, -1.0124e-01,  2.0435e+00],\n",
      "           [ 4.2309e-01,  8.5604e-01,  3.2614e-02]],\n",
      "\n",
      "          [[-1.0844e+00, -8.9883e-01,  5.2368e-01],\n",
      "           [-9.0684e-01, -1.1877e+00, -1.9630e-01],\n",
      "           [ 8.0160e-02,  1.0454e-01, -1.4057e+00],\n",
      "           ...,\n",
      "           [-4.5226e-01, -5.7550e-01,  4.5199e-02],\n",
      "           [-1.1812e+00,  5.0155e-01,  5.2281e-01],\n",
      "           [-1.4911e+00,  3.8565e-01, -1.6762e-01]]]],\n",
      "\n",
      "\n",
      "\n",
      "        [[[[ 4.3289e-01, -7.0524e-01,  9.2749e-01],\n",
      "           [ 4.8130e-02, -1.4081e+00,  3.1047e-01],\n",
      "           [-1.1190e+00, -7.4072e-01, -4.8800e-01],\n",
      "           ...,\n",
      "           [ 8.8456e-02, -6.2094e-02,  1.6978e+00],\n",
      "           [-6.6776e-01, -1.3866e+00, -1.4071e+00],\n",
      "           [ 4.9503e-01,  7.1310e-01, -4.2425e-01]],\n",
      "\n",
      "          [[ 5.5176e-02, -7.6556e-01,  4.3892e-01],\n",
      "           [ 4.7866e-01, -4.2460e-01, -1.7542e-01],\n",
      "           [-1.2013e+00, -7.2524e-01, -9.3382e-01],\n",
      "           ...,\n",
      "           [ 2.6186e-01, -7.4720e-01,  8.9309e-01],\n",
      "           [ 1.9496e+00, -1.1315e-01, -9.6003e-01],\n",
      "           [ 1.4190e-02, -1.3969e-01,  1.5268e+00]],\n",
      "\n",
      "          [[ 3.7039e-01, -5.4275e-01, -3.3964e-02],\n",
      "           [-1.4943e+00,  1.0808e+00,  3.6518e-01],\n",
      "           [ 6.7124e-01, -1.4915e+00, -1.0297e+00],\n",
      "           ...,\n",
      "           [-3.5177e-01, -1.9123e-01,  1.7876e-01],\n",
      "           [-1.3328e+00, -1.2022e+00,  4.7448e-01],\n",
      "           [-8.9548e-01, -4.6364e-01, -1.5211e+00]],\n",
      "\n",
      "          [[ 7.9638e-01,  7.7031e-02,  2.0235e+00],\n",
      "           [ 6.3120e-01,  9.9914e-02,  1.0631e-01],\n",
      "           [ 1.6068e+00, -7.4024e-01,  9.2835e-01],\n",
      "           ...,\n",
      "           [-8.1511e-01, -3.6306e-01,  4.8445e-01],\n",
      "           [-3.8154e-01,  4.2898e-01, -5.2258e-01],\n",
      "           [ 7.1072e-02,  2.3580e-01,  3.2637e-01]],\n",
      "\n",
      "          [[ 7.6019e-01,  2.8049e-01,  2.3839e+00],\n",
      "           [ 3.1354e-01, -1.1507e+00, -1.0024e+00],\n",
      "           [ 3.6216e-01, -7.0300e-01, -2.1880e-01],\n",
      "           ...,\n",
      "           [ 1.3255e+00, -6.9926e-01, -6.6023e-01],\n",
      "           [-1.8260e+00, -8.9434e-02, -4.7491e-01],\n",
      "           [-8.2383e-01, -2.8008e-01,  5.5010e-02]]],\n",
      "\n",
      "\n",
      "         [[[-6.5944e-01, -1.0637e+00,  6.7064e-01],\n",
      "           [ 2.9862e-01,  1.4917e+00,  8.3126e-01],\n",
      "           [-7.6627e-01,  1.5634e+00, -1.5581e+00],\n",
      "           ...,\n",
      "           [-3.9255e-01,  5.4624e-01, -2.1416e-01],\n",
      "           [-4.2448e-01, -1.4215e+00,  9.7900e-01],\n",
      "           [ 1.2644e-01, -4.2796e-01, -3.0098e+00]],\n",
      "\n",
      "          [[ 1.3663e-01, -2.7446e-01,  1.9069e-01],\n",
      "           [ 1.8363e+00,  1.4240e+00, -1.2476e-01],\n",
      "           [-2.9895e-01,  3.8112e-01, -7.4732e-01],\n",
      "           ...,\n",
      "           [ 1.4358e+00,  1.2184e+00,  1.1793e+00],\n",
      "           [ 3.9006e-01,  1.2654e-01, -4.7862e-01],\n",
      "           [-2.6873e-01, -3.5997e-01, -1.9671e-01]],\n",
      "\n",
      "          [[-1.3051e+00, -1.4538e+00, -1.8404e-01],\n",
      "           [ 1.8896e+00,  7.1437e-01,  5.3580e-01],\n",
      "           [ 1.3843e+00, -9.1465e-01, -2.6920e-01],\n",
      "           ...,\n",
      "           [-8.7059e-01, -3.6598e-01, -1.3094e-01],\n",
      "           [ 3.1116e-01, -1.0435e+00, -2.7737e-01],\n",
      "           [-1.6659e+00,  1.0314e-01,  1.0387e+00]],\n",
      "\n",
      "          [[-1.1998e+00,  8.6299e-01, -1.0829e+00],\n",
      "           [ 2.9992e-01,  9.8287e-01, -6.8713e-01],\n",
      "           [-1.5914e+00, -9.7620e-02, -7.4083e-02],\n",
      "           ...,\n",
      "           [-8.0644e-01,  4.4861e-01,  8.1438e-02],\n",
      "           [ 1.1160e+00,  5.6259e-01,  1.2095e+00],\n",
      "           [ 5.9490e-02, -1.5235e-01, -3.9390e-01]],\n",
      "\n",
      "          [[ 1.7576e-01,  5.1259e-01,  9.9935e-01],\n",
      "           [ 6.3002e-01, -1.2259e+00,  1.0638e+00],\n",
      "           [-1.7285e+00,  5.2960e-01, -4.8597e-01],\n",
      "           ...,\n",
      "           [-1.2762e-01,  4.5546e-01, -3.1426e-01],\n",
      "           [-1.8927e-01, -3.8454e-01,  1.5121e+00],\n",
      "           [ 1.1473e+00, -1.9663e-01,  1.7708e-03]]],\n",
      "\n",
      "\n",
      "         [[[ 4.1753e-01, -1.8565e+00, -1.4344e+00],\n",
      "           [-4.1374e-01, -1.9121e+00,  3.0785e-01],\n",
      "           [ 9.5239e-01,  2.3143e+00, -1.1337e+00],\n",
      "           ...,\n",
      "           [-8.2111e-01, -8.6824e-01, -7.4641e-01],\n",
      "           [ 3.0450e-01, -2.2084e-01,  1.1264e+00],\n",
      "           [ 9.4807e-01,  2.9818e-01,  1.7287e+00]],\n",
      "\n",
      "          [[-2.7017e-01, -9.5486e-01,  9.2770e-01],\n",
      "           [ 5.1620e-01,  9.1486e-01,  4.6697e-01],\n",
      "           [-3.8334e-01, -1.9062e+00,  8.1700e-01],\n",
      "           ...,\n",
      "           [-1.0558e+00,  1.3167e+00, -8.7669e-01],\n",
      "           [-8.6536e-01, -4.3586e-01,  3.4176e-01],\n",
      "           [ 3.7562e-01,  2.5057e+00, -1.0661e+00]],\n",
      "\n",
      "          [[ 7.7781e-01,  2.4083e-01, -7.9993e-01],\n",
      "           [-8.8797e-01,  1.2833e+00, -8.0855e-01],\n",
      "           [-2.0429e+00, -6.6968e-01, -2.9400e-01],\n",
      "           ...,\n",
      "           [-8.6870e-01,  1.2168e+00, -1.4168e-01],\n",
      "           [-1.8073e-01, -1.3767e+00,  2.0100e+00],\n",
      "           [ 1.2281e+00,  8.8288e-01, -3.0594e-01]],\n",
      "\n",
      "          [[-4.2724e-01, -2.5510e-01, -6.9820e-01],\n",
      "           [-9.9447e-01, -1.1908e+00,  9.7072e-01],\n",
      "           [ 1.7233e+00,  1.0697e+00, -1.7890e+00],\n",
      "           ...,\n",
      "           [-3.4992e-01, -1.1270e-01,  2.5876e-01],\n",
      "           [ 1.4378e-01, -4.9086e-01,  8.5655e-01],\n",
      "           [-3.7953e-01,  5.6559e-01, -3.4712e-01]],\n",
      "\n",
      "          [[ 4.2016e-01, -8.5206e-01,  5.6770e-01],\n",
      "           [-6.6675e-01,  3.3270e-01,  3.0388e-01],\n",
      "           [-6.9454e-01,  5.4423e-01,  7.5417e-02],\n",
      "           ...,\n",
      "           [-1.3467e+00, -1.3568e+00, -6.5489e-01],\n",
      "           [-3.4860e-01,  4.0674e-01, -1.1576e+00],\n",
      "           [-8.5419e-01, -3.7940e-01,  4.9879e-01]]]]])\n"
     ]
    }
   ],
   "source": [
    "print(tensor_5d)"
   ]
  },
  {
   "cell_type": "code",
   "execution_count": 72,
   "metadata": {},
   "outputs": [],
   "source": [
    "# A partir da dimensão de índice 2, retorne as dimensões entre índices 0 e 2. \n",
    "# Faça isso em todas as posições e colocações.\n",
    "# Depois disso, a partir da dimensão de índice 3, retorne as dimensões os índices 0 e 1 (ou seja, somente índice 0)\n",
    "sliced_tensor_5d = tensor_5d.narrow(2, 0, 2).narrow(3, 0, 1)"
   ]
  },
  {
   "cell_type": "code",
   "execution_count": 73,
   "metadata": {},
   "outputs": [
    {
     "data": {
      "text/plain": [
       "torch.Size([4, 3, 2, 1, 3])"
      ]
     },
     "execution_count": 73,
     "metadata": {},
     "output_type": "execute_result"
    }
   ],
   "source": [
    "sliced_tensor_5d.shape"
   ]
  },
  {
   "cell_type": "code",
   "execution_count": 74,
   "metadata": {},
   "outputs": [
    {
     "name": "stdout",
     "output_type": "stream",
     "text": [
      "tensor([[[[[-1.4609e+00,  7.5284e-01,  7.8715e-01]],\n",
      "\n",
      "          [[ 1.8371e+00, -3.5801e-01,  1.9123e-01]]],\n",
      "\n",
      "\n",
      "         [[[-2.0924e+00, -7.6374e-02,  6.0525e-01]],\n",
      "\n",
      "          [[-1.1573e+00, -4.9814e-02,  1.5634e+00]]],\n",
      "\n",
      "\n",
      "         [[[ 5.9718e-01,  6.7312e-01, -4.0792e-01]],\n",
      "\n",
      "          [[-1.0041e+00,  6.8629e-01,  2.6605e-01]]]],\n",
      "\n",
      "\n",
      "\n",
      "        [[[[ 2.3882e-01,  5.5173e-01, -2.7778e-01]],\n",
      "\n",
      "          [[-1.4953e+00,  2.1872e-03, -1.6831e-03]]],\n",
      "\n",
      "\n",
      "         [[[ 2.7022e-01,  9.3350e-01, -9.8980e-01]],\n",
      "\n",
      "          [[ 6.3325e-01, -1.7086e-01, -3.4387e-01]]],\n",
      "\n",
      "\n",
      "         [[[-1.1463e+00,  1.8098e+00,  2.1723e+00]],\n",
      "\n",
      "          [[-1.0050e+00, -1.2665e+00,  4.9268e-01]]]],\n",
      "\n",
      "\n",
      "\n",
      "        [[[[-1.6539e+00,  8.6558e-01, -2.7307e-01]],\n",
      "\n",
      "          [[-4.3748e-01,  9.7695e-01, -5.3268e-01]]],\n",
      "\n",
      "\n",
      "         [[[ 1.1074e-01, -6.0120e-01,  4.3687e-01]],\n",
      "\n",
      "          [[-2.3962e-02, -1.1959e-01, -1.5339e-01]]],\n",
      "\n",
      "\n",
      "         [[[ 1.4203e+00, -2.8448e-01, -1.8986e-01]],\n",
      "\n",
      "          [[-9.2793e-01, -3.8490e-01, -8.9402e-01]]]],\n",
      "\n",
      "\n",
      "\n",
      "        [[[[ 4.3289e-01, -7.0524e-01,  9.2749e-01]],\n",
      "\n",
      "          [[ 5.5176e-02, -7.6556e-01,  4.3892e-01]]],\n",
      "\n",
      "\n",
      "         [[[-6.5944e-01, -1.0637e+00,  6.7064e-01]],\n",
      "\n",
      "          [[ 1.3663e-01, -2.7446e-01,  1.9069e-01]]],\n",
      "\n",
      "\n",
      "         [[[ 4.1753e-01, -1.8565e+00, -1.4344e+00]],\n",
      "\n",
      "          [[-2.7017e-01, -9.5486e-01,  9.2770e-01]]]]])\n"
     ]
    }
   ],
   "source": [
    "print(sliced_tensor_5d)"
   ]
  },
  {
   "cell_type": "markdown",
   "metadata": {},
   "source": [
    "> Vejamos agora aritmética com os tensores."
   ]
  },
  {
   "cell_type": "code",
   "execution_count": 75,
   "metadata": {},
   "outputs": [
    {
     "data": {
      "text/plain": [
       "torch.Size([2, 3])"
      ]
     },
     "execution_count": 75,
     "metadata": {},
     "output_type": "execute_result"
    }
   ],
   "source": [
    "# Cria 1 tensor de dimensões 2x3\n",
    "t1 = torch.Tensor(2, 3) \n",
    "t1.shape"
   ]
  },
  {
   "cell_type": "code",
   "execution_count": 76,
   "metadata": {},
   "outputs": [
    {
     "name": "stdout",
     "output_type": "stream",
     "text": [
      "tensor([[ 0.0000e+00,  2.0000e+00, -1.3144e+29],\n",
      "        [ 1.5849e+29,  3.0000e+00,  2.0000e+00]])\n"
     ]
    }
   ],
   "source": [
    "# De onde vieram os dados do Tensor?\n",
    "# CUIDADO: Um objeto Tensor não inicializado contém dados de lixo de memória!\n",
    "print(t1)"
   ]
  },
  {
   "cell_type": "code",
   "execution_count": 77,
   "metadata": {},
   "outputs": [
    {
     "data": {
      "text/plain": [
       "torch.Size([2, 3])"
      ]
     },
     "execution_count": 77,
     "metadata": {},
     "output_type": "execute_result"
    }
   ],
   "source": [
    "# Cria 1 tensor de dimensões 2x3 inicializado com valores randômicos. Isso não é lixo de memória.\n",
    "t2 = torch.rand(2, 3)   \n",
    "t2.shape"
   ]
  },
  {
   "cell_type": "code",
   "execution_count": 78,
   "metadata": {},
   "outputs": [
    {
     "name": "stdout",
     "output_type": "stream",
     "text": [
      "tensor([[0.0245, 0.0339, 0.9955],\n",
      "        [0.7114, 0.6539, 0.6480]])\n"
     ]
    }
   ],
   "source": [
    "print(t2)"
   ]
  },
  {
   "cell_type": "code",
   "execution_count": 79,
   "metadata": {},
   "outputs": [],
   "source": [
    "# Cria 2 tensores\n",
    "x = torch.rand(2, 3) \n",
    "y = torch.rand(2, 3) "
   ]
  },
  {
   "cell_type": "code",
   "execution_count": 80,
   "metadata": {},
   "outputs": [
    {
     "name": "stdout",
     "output_type": "stream",
     "text": [
      "tensor([[1.1690, 0.4706, 0.9240],\n",
      "        [0.4824, 1.6059, 0.6935]])\n"
     ]
    }
   ],
   "source": [
    "# Operação de soma\n",
    "z1 = x + y\n",
    "print(z1) "
   ]
  },
  {
   "cell_type": "code",
   "execution_count": 81,
   "metadata": {},
   "outputs": [
    {
     "name": "stdout",
     "output_type": "stream",
     "text": [
      "tensor([[1.1690, 0.4706, 0.9240],\n",
      "        [0.4824, 1.6059, 0.6935]])\n"
     ]
    }
   ],
   "source": [
    "# Operação de soma\n",
    "z2 = torch.add(x, y)  \n",
    "print(z2) "
   ]
  },
  {
   "cell_type": "code",
   "execution_count": 82,
   "metadata": {},
   "outputs": [
    {
     "name": "stdout",
     "output_type": "stream",
     "text": [
      "tensor([[1.1641, 0.4706, 0.9240],\n",
      "        [0.4824, 1.6059, 0.6935]])\n"
     ]
    }
   ],
   "source": [
    "# Podemos atribuir o resultado da operação a uma variável. \n",
    "# Como alternativa, todos os métodos de operação possuem um parâmetro out para armazenar o resultado.\n",
    "v1 = torch.Tensor(2, 3)\n",
    "print(v1)"
   ]
  },
  {
   "cell_type": "code",
   "execution_count": 83,
   "metadata": {},
   "outputs": [
    {
     "data": {
      "text/plain": [
       "tensor([[1.1690, 0.4706, 0.9240],\n",
       "        [0.4824, 1.6059, 0.6935]])"
      ]
     },
     "execution_count": 83,
     "metadata": {},
     "output_type": "execute_result"
    }
   ],
   "source": [
    "torch.add(x, y, out = v1)  "
   ]
  },
  {
   "cell_type": "code",
   "execution_count": 84,
   "metadata": {},
   "outputs": [
    {
     "name": "stdout",
     "output_type": "stream",
     "text": [
      "tensor([[1.1690, 0.4706, 0.9240],\n",
      "        [0.4824, 1.6059, 0.6935]])\n"
     ]
    }
   ],
   "source": [
    "print(v1)"
   ]
  },
  {
   "cell_type": "code",
   "execution_count": 85,
   "metadata": {},
   "outputs": [
    {
     "data": {
      "text/plain": [
       "tensor([[1.1690, 0.4706, 0.9240],\n",
       "        [0.4824, 1.6059, 0.6935]])"
      ]
     },
     "execution_count": 85,
     "metadata": {},
     "output_type": "execute_result"
    }
   ],
   "source": [
    "# In-place operation\n",
    "# Mesmo que: x = x + y\n",
    "x.add_(y)        "
   ]
  },
  {
   "cell_type": "markdown",
   "metadata": {},
   "source": [
    "> O padrão de indexação no PyTorch é o mesmo usado no NumPy."
   ]
  },
  {
   "cell_type": "code",
   "execution_count": 86,
   "metadata": {},
   "outputs": [
    {
     "name": "stdout",
     "output_type": "stream",
     "text": [
      "tensor([[0.0000, 0.4706, 0.9240],\n",
      "        [0.0000, 1.6059, 0.6935]])\n"
     ]
    }
   ],
   "source": [
    "# Indexação (mesmo padrão do NumPy)\n",
    "x[:, 1]                          \n",
    "x[:, 0] = 0     \n",
    "print(x)"
   ]
  },
  {
   "cell_type": "code",
   "execution_count": 87,
   "metadata": {},
   "outputs": [
    {
     "name": "stdout",
     "output_type": "stream",
     "text": [
      "tensor([[10.0000, 10.4706, 10.9240],\n",
      "        [10.0000, 11.6059, 10.6935]])\n"
     ]
    }
   ],
   "source": [
    "# Adiciona o valor 10 a todos os elementos do Tensor x\n",
    "r = torch.add(x, 10)\n",
    "print(r)"
   ]
  },
  {
   "cell_type": "code",
   "execution_count": 88,
   "metadata": {},
   "outputs": [
    {
     "name": "stdout",
     "output_type": "stream",
     "text": [
      "tensor([0, 1, 2, 3, 4])\n"
     ]
    }
   ],
   "source": [
    "# Criando tensores com range de valores\n",
    "v = torch.arange(5)             # Similar a range(5) mas criando um Tensor\n",
    "v = torch.arange(0, 5, step = 1)  # Size 5. Similar a range(0, 5, 1)\n",
    "print(v)"
   ]
  },
  {
   "cell_type": "code",
   "execution_count": 89,
   "metadata": {},
   "outputs": [
    {
     "name": "stdout",
     "output_type": "stream",
     "text": [
      "tensor([0, 1, 2, 3, 4, 5, 6, 7, 8])\n"
     ]
    }
   ],
   "source": [
    "# Cria um tensor de 1 dimensão\n",
    "v = torch.arange(9)\n",
    "print(v)"
   ]
  },
  {
   "cell_type": "code",
   "execution_count": 90,
   "metadata": {},
   "outputs": [
    {
     "data": {
      "text/plain": [
       "torch.Size([9])"
      ]
     },
     "execution_count": 90,
     "metadata": {},
     "output_type": "execute_result"
    }
   ],
   "source": [
    "v.shape"
   ]
  },
  {
   "cell_type": "code",
   "execution_count": 91,
   "metadata": {},
   "outputs": [
    {
     "data": {
      "text/plain": [
       "1"
      ]
     },
     "execution_count": 91,
     "metadata": {},
     "output_type": "execute_result"
    }
   ],
   "source": [
    "v.dim()"
   ]
  },
  {
   "cell_type": "code",
   "execution_count": 92,
   "metadata": {},
   "outputs": [
    {
     "name": "stdout",
     "output_type": "stream",
     "text": [
      "tensor([[0, 1, 2],\n",
      "        [3, 4, 5],\n",
      "        [6, 7, 8]])\n"
     ]
    }
   ],
   "source": [
    "# Converte o vetor v para duas dimensões\n",
    "v = v.view(3, 3)\n",
    "print(v)"
   ]
  },
  {
   "cell_type": "code",
   "execution_count": 93,
   "metadata": {},
   "outputs": [
    {
     "data": {
      "text/plain": [
       "torch.Size([3, 3])"
      ]
     },
     "execution_count": 93,
     "metadata": {},
     "output_type": "execute_result"
    }
   ],
   "source": [
    "v.shape"
   ]
  },
  {
   "cell_type": "code",
   "execution_count": 94,
   "metadata": {},
   "outputs": [
    {
     "data": {
      "text/plain": [
       "2"
      ]
     },
     "execution_count": 94,
     "metadata": {},
     "output_type": "execute_result"
    }
   ],
   "source": [
    "v.dim()"
   ]
  },
  {
   "cell_type": "code",
   "execution_count": 95,
   "metadata": {},
   "outputs": [
    {
     "name": "stdout",
     "output_type": "stream",
     "text": [
      "tensor([ 1.,  2.,  3.,  4.,  5.,  6.,  7.,  8.,  9., 10.])\n"
     ]
    }
   ],
   "source": [
    "# Inicializa um tensor linear\n",
    "# Cria um tensor com 10 pontos lineares de (1, 10) inclusive\n",
    "v = torch.linspace(1, 10, steps = 10) \n",
    "print(v)"
   ]
  },
  {
   "cell_type": "code",
   "execution_count": 96,
   "metadata": {},
   "outputs": [
    {
     "name": "stdout",
     "output_type": "stream",
     "text": [
      "tensor([1.0000e-10, 1.0000e-05, 1.0000e+00, 1.0000e+05, 1.0000e+10])\n"
     ]
    }
   ],
   "source": [
    "# Inicializar um tensor de escala de log\n",
    "# Size 5: 1.0e-10 1.0e-05 1.0e+00, 1.0e+05, 1.0e+10\n",
    "v = torch.logspace(start = -10, end = 10, steps = 5) \n",
    "print(v)"
   ]
  },
  {
   "cell_type": "code",
   "execution_count": 97,
   "metadata": {},
   "outputs": [
    {
     "name": "stdout",
     "output_type": "stream",
     "text": [
      "tensor([1., 2., 3.])\n"
     ]
    }
   ],
   "source": [
    "# Cria um Tensor de valores absolutos\n",
    "f = torch.FloatTensor([-1, -2, 3])\n",
    "r = torch.abs(f)     \n",
    "print(r)"
   ]
  },
  {
   "cell_type": "markdown",
   "metadata": {},
   "source": [
    "## Mais Operações (Calculando Estatísticas dos Tensores)"
   ]
  },
  {
   "cell_type": "code",
   "execution_count": 98,
   "metadata": {},
   "outputs": [
    {
     "name": "stdout",
     "output_type": "stream",
     "text": [
      "tensor([[1., 2., 3.],\n",
      "        [4., 5., 6.],\n",
      "        [7., 8., 9.]])\n",
      "2\n",
      "torch.float32\n"
     ]
    }
   ],
   "source": [
    "# Cria 1 tensor\n",
    "x = torch.Tensor([[1, 2, 3], [4, 5, 6], [7, 8, 9]])\n",
    "print(x)\n",
    "print(x.dim())\n",
    "print(x.dtype)"
   ]
  },
  {
   "cell_type": "code",
   "execution_count": 99,
   "metadata": {},
   "outputs": [
    {
     "name": "stdout",
     "output_type": "stream",
     "text": [
      "tensor([[ 1.,  2.,  3.],\n",
      "        [ 5.,  7.,  9.],\n",
      "        [12., 15., 18.]])\n"
     ]
    }
   ],
   "source": [
    "# Soma acumulada por coluna\n",
    "r = torch.cumsum(x, dim = 0)\n",
    "print(r)"
   ]
  },
  {
   "cell_type": "code",
   "execution_count": 100,
   "metadata": {},
   "outputs": [
    {
     "name": "stdout",
     "output_type": "stream",
     "text": [
      "tensor([[1., 2., 3.],\n",
      "        [4., 5., 6.],\n",
      "        [7., 8., 9.]])\n"
     ]
    }
   ],
   "source": [
    "print(x)"
   ]
  },
  {
   "cell_type": "code",
   "execution_count": 101,
   "metadata": {},
   "outputs": [
    {
     "name": "stdout",
     "output_type": "stream",
     "text": [
      "tensor([[ 1.,  3.,  6.],\n",
      "        [ 4.,  9., 15.],\n",
      "        [ 7., 15., 24.]])\n"
     ]
    }
   ],
   "source": [
    "# Soma acumulada por linha\n",
    "r = torch.cumsum(x, dim = 1)\n",
    "print(r)"
   ]
  },
  {
   "cell_type": "code",
   "execution_count": 102,
   "metadata": {},
   "outputs": [
    {
     "name": "stdout",
     "output_type": "stream",
     "text": [
      "tensor([[1., 2., 3.],\n",
      "        [4., 5., 6.],\n",
      "        [7., 8., 9.]])\n"
     ]
    }
   ],
   "source": [
    "print(x)"
   ]
  },
  {
   "cell_type": "code",
   "execution_count": 103,
   "metadata": {},
   "outputs": [
    {
     "name": "stdout",
     "output_type": "stream",
     "text": [
      "tensor(5.)\n"
     ]
    }
   ],
   "source": [
    "# Média dos valores do Tensor\n",
    "r = torch.mean(x)       \n",
    "print(r)"
   ]
  },
  {
   "cell_type": "code",
   "execution_count": 104,
   "metadata": {},
   "outputs": [
    {
     "name": "stdout",
     "output_type": "stream",
     "text": [
      "tensor([[1., 2., 3.],\n",
      "        [4., 5., 6.],\n",
      "        [7., 8., 9.]])\n"
     ]
    }
   ],
   "source": [
    "print(x)"
   ]
  },
  {
   "cell_type": "code",
   "execution_count": 105,
   "metadata": {},
   "outputs": [
    {
     "name": "stdout",
     "output_type": "stream",
     "text": [
      "tensor([4., 5., 6.])\n"
     ]
    }
   ],
   "source": [
    "# Média por coluna\n",
    "r = torch.mean(x, 0) \n",
    "print(r)"
   ]
  },
  {
   "cell_type": "code",
   "execution_count": 106,
   "metadata": {},
   "outputs": [
    {
     "name": "stdout",
     "output_type": "stream",
     "text": [
      "tensor([[1., 2., 3.],\n",
      "        [4., 5., 6.],\n",
      "        [7., 8., 9.]])\n"
     ]
    }
   ],
   "source": [
    "print(x)"
   ]
  },
  {
   "cell_type": "code",
   "execution_count": 107,
   "metadata": {},
   "outputs": [
    {
     "name": "stdout",
     "output_type": "stream",
     "text": [
      "tensor([2., 5., 8.])\n"
     ]
    }
   ],
   "source": [
    "# Média por linha\n",
    "r = torch.mean(x, 1) \n",
    "print(r)"
   ]
  },
  {
   "cell_type": "code",
   "execution_count": 108,
   "metadata": {},
   "outputs": [
    {
     "data": {
      "text/plain": [
       "tensor([2., 5., 8.])"
      ]
     },
     "execution_count": 108,
     "metadata": {},
     "output_type": "execute_result"
    }
   ],
   "source": [
    "# Média por linha\n",
    "x.mean(dim = 1)"
   ]
  },
  {
   "cell_type": "code",
   "execution_count": 109,
   "metadata": {},
   "outputs": [
    {
     "name": "stdout",
     "output_type": "stream",
     "text": [
      "tensor([[1., 2., 3.],\n",
      "        [4., 5., 6.],\n",
      "        [7., 8., 9.]])\n"
     ]
    }
   ],
   "source": [
    "print(x)"
   ]
  },
  {
   "cell_type": "code",
   "execution_count": 110,
   "metadata": {},
   "outputs": [
    {
     "data": {
      "text/plain": [
       "tensor([1., 1., 1.])"
      ]
     },
     "execution_count": 110,
     "metadata": {},
     "output_type": "execute_result"
    }
   ],
   "source": [
    "# Desvio Padrão por linha\n",
    "x.std(dim = 1)"
   ]
  },
  {
   "cell_type": "code",
   "execution_count": 111,
   "metadata": {},
   "outputs": [
    {
     "name": "stdout",
     "output_type": "stream",
     "text": [
      "tensor([[1., 2., 3.],\n",
      "        [4., 5., 6.],\n",
      "        [7., 8., 9.]])\n"
     ]
    }
   ],
   "source": [
    "print(x)"
   ]
  },
  {
   "cell_type": "code",
   "execution_count": 112,
   "metadata": {},
   "outputs": [
    {
     "name": "stdout",
     "output_type": "stream",
     "text": [
      "tensor(45.)\n"
     ]
    }
   ],
   "source": [
    "# Soma total\n",
    "r = torch.sum(x)         \n",
    "print(r)"
   ]
  },
  {
   "cell_type": "code",
   "execution_count": 113,
   "metadata": {},
   "outputs": [
    {
     "name": "stdout",
     "output_type": "stream",
     "text": [
      "tensor([12., 15., 18.])\n"
     ]
    }
   ],
   "source": [
    "# Soma por coluna\n",
    "r = torch.sum(x, 0)         \n",
    "print(r)"
   ]
  },
  {
   "cell_type": "code",
   "execution_count": 114,
   "metadata": {},
   "outputs": [
    {
     "name": "stdout",
     "output_type": "stream",
     "text": [
      "tensor([ 6., 15., 24.])\n"
     ]
    }
   ],
   "source": [
    "# Soma por linha\n",
    "r = torch.sum(x, 1)         \n",
    "print(r)"
   ]
  },
  {
   "cell_type": "markdown",
   "metadata": {},
   "source": [
    "## Multiplicação de Matrizes"
   ]
  },
  {
   "cell_type": "markdown",
   "metadata": {},
   "source": [
    "### Multiplicação Element-Wise"
   ]
  },
  {
   "cell_type": "markdown",
   "metadata": {},
   "source": [
    "![](imagens/elementwise.jpg)"
   ]
  },
  {
   "cell_type": "code",
   "execution_count": 115,
   "metadata": {},
   "outputs": [
    {
     "name": "stdout",
     "output_type": "stream",
     "text": [
      "tensor([[1., 2.],\n",
      "        [3., 4.]])\n",
      "\n",
      "\n",
      "tensor([[5., 2.],\n",
      "        [4., 5.]])\n"
     ]
    }
   ],
   "source": [
    "# Cria 2 tensores\n",
    "x = torch.Tensor([[1, 2],[3, 4]])  \n",
    "y = torch.Tensor([[5, 2],[4, 5]])   \n",
    "print(x)\n",
    "print('\\n')\n",
    "print(y)"
   ]
  },
  {
   "cell_type": "code",
   "execution_count": 116,
   "metadata": {},
   "outputs": [
    {
     "name": "stdout",
     "output_type": "stream",
     "text": [
      "tensor([[ 5.,  4.],\n",
      "        [12., 20.]])\n"
     ]
    }
   ],
   "source": [
    "# Multiplicação Element-wise \n",
    "r = torch.mul(x, y)\n",
    "print(r)"
   ]
  },
  {
   "cell_type": "code",
   "execution_count": 117,
   "metadata": {},
   "outputs": [
    {
     "name": "stdout",
     "output_type": "stream",
     "text": [
      "tensor([[0.2000, 1.0000],\n",
      "        [0.7500, 0.8000]])\n"
     ]
    }
   ],
   "source": [
    "# Divisão Element-wise \n",
    "r = torch.div(x, y)\n",
    "print(r)"
   ]
  },
  {
   "cell_type": "markdown",
   "metadata": {},
   "source": [
    "### Multiplicação Dot Product"
   ]
  },
  {
   "cell_type": "markdown",
   "metadata": {},
   "source": [
    "![](imagens/dotproduct.png)"
   ]
  },
  {
   "cell_type": "code",
   "execution_count": 118,
   "metadata": {},
   "outputs": [
    {
     "name": "stdout",
     "output_type": "stream",
     "text": [
      "tensor([4., 2.])\n",
      "tensor([3., 1.])\n"
     ]
    }
   ],
   "source": [
    "# Cria 2 tensores\n",
    "t1 = torch.Tensor([4, 2])\n",
    "t2 = torch.Tensor([3, 1])\n",
    "print(t1)\n",
    "print(t2)"
   ]
  },
  {
   "cell_type": "code",
   "execution_count": 119,
   "metadata": {},
   "outputs": [
    {
     "name": "stdout",
     "output_type": "stream",
     "text": [
      "tensor(14.)\n"
     ]
    }
   ],
   "source": [
    "# Dot product de 2 tensores\n",
    "r = torch.dot(t1, t2) \n",
    "print(r)"
   ]
  },
  {
   "cell_type": "markdown",
   "metadata": {},
   "source": [
    "### Multiplicação Cross Product"
   ]
  },
  {
   "cell_type": "code",
   "execution_count": 120,
   "metadata": {},
   "outputs": [
    {
     "name": "stdout",
     "output_type": "stream",
     "text": [
      "tensor([[-1.7080, -0.3037,  1.3164,  1.2044],\n",
      "        [ 1.2922,  1.1397, -1.2459, -0.3942]])\n",
      "\n",
      "\n",
      "tensor([-0.0451,  0.1341, -0.3346,  1.2914])\n"
     ]
    }
   ],
   "source": [
    "# Matriz e vetor\n",
    "mat = torch.randn(2, 4)\n",
    "vec = torch.randn(4)\n",
    "print(mat)\n",
    "print('\\n')\n",
    "print(vec)"
   ]
  },
  {
   "cell_type": "markdown",
   "metadata": {},
   "source": [
    "https://pytorch.org/docs/stable/generated/torch.mv.html"
   ]
  },
  {
   "cell_type": "code",
   "execution_count": 121,
   "metadata": {},
   "outputs": [
    {
     "name": "stdout",
     "output_type": "stream",
     "text": [
      "tensor([1.1510, 0.0025])\n",
      "torch.Size([2])\n"
     ]
    }
   ],
   "source": [
    "# Multiplicação entre Matriz e Vetor\n",
    "# Resultado Size 2\n",
    "r = torch.mv(mat, vec)\n",
    "print(r)\n",
    "print(r.size())"
   ]
  },
  {
   "cell_type": "code",
   "execution_count": 122,
   "metadata": {},
   "outputs": [
    {
     "name": "stdout",
     "output_type": "stream",
     "text": [
      "tensor([-2.2990,  1.6959])\n",
      "torch.Size([2])\n"
     ]
    }
   ],
   "source": [
    "# Multiplicação entre Matriz e Vetor e ao resultado somamos outro vetor.\n",
    "# Vetor + (Matriz X Vetor)\n",
    "# Resultado Size 2\n",
    "V = torch.randn(2)\n",
    "mat = torch.randn(2, 3)\n",
    "vec = torch.randn(3)\n",
    "r = torch.addmv(V, mat, vec)\n",
    "print(r)\n",
    "print(r.size())"
   ]
  },
  {
   "cell_type": "code",
   "execution_count": 123,
   "metadata": {},
   "outputs": [
    {
     "name": "stdout",
     "output_type": "stream",
     "text": [
      "tensor([[-1.6708,  2.9806, -0.7627, -0.8813],\n",
      "        [ 2.9832,  3.0540,  0.2457, -1.4659]])\n",
      "torch.Size([2, 4])\n"
     ]
    }
   ],
   "source": [
    "# Multiplicação entre Matrizes\n",
    "# Matriz x Matriz\n",
    "# Resultado Size 2x4\n",
    "mat1 = torch.randn(2, 3)\n",
    "mat2 = torch.randn(3, 4)\n",
    "r = torch.mm(mat1, mat2)\n",
    "print(r)\n",
    "print(r.size())"
   ]
  },
  {
   "cell_type": "code",
   "execution_count": 124,
   "metadata": {},
   "outputs": [
    {
     "name": "stdout",
     "output_type": "stream",
     "text": [
      "torch.Size([3, 4])\n",
      "tensor([[-3.0702,  1.6162,  0.9646,  2.3618],\n",
      "        [ 3.6785,  1.7036, -0.1096, -1.0848],\n",
      "        [-1.4636, -1.8469, -0.5077,  1.0749]])\n"
     ]
    }
   ],
   "source": [
    "# Multiplicação entre Matrizes e ao resultado soma-se outra matriz\n",
    "# Matriz + (Matriz X Matriz)\n",
    "# Resultado Size 3x4\n",
    "M = torch.randn(3, 4)\n",
    "mat1 = torch.randn(3, 2)\n",
    "mat2 = torch.randn(2, 4)\n",
    "r = torch.addmm(M, mat1, mat2)\n",
    "print(r.size())\n",
    "print(r)"
   ]
  },
  {
   "cell_type": "code",
   "execution_count": 125,
   "metadata": {},
   "outputs": [
    {
     "name": "stdout",
     "output_type": "stream",
     "text": [
      "tensor([[-0.1738, -0.0345, -0.0572,  0.3233, -0.4872],\n",
      "        [-0.1076,  0.1440, -0.0981, -0.2192,  0.5506],\n",
      "        [ 0.3282,  0.0057,  0.1053, -0.4603, -0.1457]])\n",
      "torch.Size([3, 5])\n"
     ]
    }
   ],
   "source": [
    "# # Multiplicação entre Matrizes com produto cruzado (cross product)\n",
    "# Matriz X Matriz\n",
    "# Resultado Size 3x5\n",
    "m1 = torch.rand(3, 5)\n",
    "m2 = torch.rand(3, 5)\n",
    "r = torch.cross(m1, m2)\n",
    "print(r)\n",
    "print(r.size())"
   ]
  },
  {
   "cell_type": "markdown",
   "metadata": {},
   "source": [
    "## Aplicação Prática das Operações com Tensores - Batch Matrix Multiplication"
   ]
  },
  {
   "cell_type": "markdown",
   "metadata": {},
   "source": [
    "Uma importante arquitetura de Deep Learning, a seq2seq, será usada para demonstrar a operação a seguir. Essa arquitetura recebe como entrada uma sequência (de texto, por exemplo) e entrega uma sequência de saída. É bastante usada em modelos de tradução de idiomas.\n",
    "\n",
    "No modelo seq2seq, o encoder codifica as sequências de entrada fornecidas em mini-lotes. Digamos, por exemplo, a entrada é B x S x d, em que B é o tamanho do lote, S é o comprimento máximo da sequência e d é a dimensão do word embedding (matriz numérica com a representação dos dados de texto). Em seguida, a saída do encoder é B x S x h, em que h é o tamanho do estado oculto do encoder (que é uma RNN).\n",
    "\n",
    "Agora, durante a decodificação (durante o treinamento), as sequências de entrada são dadas uma de cada vez; portanto, a entrada é B x 1 x d e o decodificador produz um tensor de forma B x 1 x h. Para calcular o vetor de contexto, precisamos comparar esse decodificador de estado oculto com os estados codificados pelo encoder.\n",
    "\n",
    "Portanto, considere que você tem dois tensores da forma: \n",
    "\n",
    "- T1 = B x S x h\n",
    "- T2 = B x 1 x h \n",
    "\n",
    "Podemos então fazer a Multiplicação de Matriz em Batch (lote) da seguinte maneira:\n",
    "\n",
    "torch.bmm(T1, T2.transpose(1, 2))\n",
    "\n",
    "Executamos um *batch matrix-matrix product* de matrizes do lote1 e lote2, sendo que lote1 e lote2 devem ser tensores tridimensionais.\n",
    "\n",
    "Se o lote1 for um tensor (b × n × m), o lote2 for um tensor (b × m × p), a saída será um tensor (b × n × p). Abaixo a arquitetura do modelo.\n",
    "\n",
    "![](imagens/rnn.png)\n",
    "\n",
    "Essencialmente, você está multiplicando um tensor de forma B x S x h por um tensor de forma B x h x 1 e isso resultará em B x S x 1, que é o peso para cada lote.\n",
    "\n",
    "Aqui, os pesos B x S x 1 representam uma pontuação de similaridade entre o estado oculto atual do decodificador e todos os estados ocultos do codificador. Agora você pode levar em consideração os pesos para multiplicar com o estado oculto do codificador B x S x h, transpondo primeiro, e isso resultará em um tensor da forma B x h x 1. E se você pressionar em dim = 2, obterá um tensor de forma B x h, que é o seu vetor de contexto.\n",
    "\n",
    "Esse vetor de contexto (B x h) geralmente é concatenado ao estado oculto do decodificador (B x 1 x h, squeeze dim = 1) para prever o próximo token.\n",
    "\n",
    "Veremos essa arquitetura em projetos de Deep Learning."
   ]
  },
  {
   "cell_type": "code",
   "execution_count": 126,
   "metadata": {},
   "outputs": [
    {
     "name": "stdout",
     "output_type": "stream",
     "text": [
      "torch.Size([3, 2])\n",
      "tensor([[  0.8448,  -1.4044],\n",
      "        [ -3.5515, -13.9480],\n",
      "        [  2.3362,  -0.5150]])\n"
     ]
    }
   ],
   "source": [
    "# Multiplicação de Matrizes em Batch (Lote) e o resultado somado à outra Matriz\n",
    "# Matriz + (Batch x Batch)\n",
    "# Resultado Size 3x2 =  3x2 + (5x3x4 X 5x4x2) \n",
    "M = torch.randn(3, 2)\n",
    "batch1 = torch.randn(5, 3, 4)\n",
    "batch2 = torch.randn(5, 4, 2)\n",
    "r = torch.addbmm(M, batch1, batch2)\n",
    "print(r.size())\n",
    "print(r)"
   ]
  },
  {
   "cell_type": "markdown",
   "metadata": {},
   "source": [
    "## Manipulação de Tensores (Concatenação, Expansão, Junção, Chunk, Squeeze)"
   ]
  },
  {
   "cell_type": "code",
   "execution_count": 127,
   "metadata": {},
   "outputs": [
    {
     "name": "stdout",
     "output_type": "stream",
     "text": [
      "torch.Size([3, 3])\n",
      "tensor([[1., 0., 0.],\n",
      "        [0., 1., 0.],\n",
      "        [0., 0., 1.]])\n"
     ]
    }
   ],
   "source": [
    "# Matriz Diagonal\n",
    "# Size 3x3\n",
    "v = torch.ones(3)\n",
    "r = torch.diag(v)\n",
    "print(r.size())\n",
    "print(r)"
   ]
  },
  {
   "cell_type": "code",
   "execution_count": 128,
   "metadata": {},
   "outputs": [
    {
     "data": {
      "text/plain": [
       "torch.Size([3, 1])"
      ]
     },
     "execution_count": 128,
     "metadata": {},
     "output_type": "execute_result"
    }
   ],
   "source": [
    "# Criando um tensor\n",
    "x = torch.tensor([[1], [2], [3]])\n",
    "x.size()"
   ]
  },
  {
   "cell_type": "code",
   "execution_count": 129,
   "metadata": {},
   "outputs": [
    {
     "name": "stdout",
     "output_type": "stream",
     "text": [
      "tensor([[1],\n",
      "        [2],\n",
      "        [3]])\n"
     ]
    }
   ],
   "source": [
    "print(x)"
   ]
  },
  {
   "cell_type": "code",
   "execution_count": 130,
   "metadata": {},
   "outputs": [
    {
     "data": {
      "text/plain": [
       "tensor([[1, 1, 1, 1],\n",
       "        [2, 2, 2, 2],\n",
       "        [3, 3, 3, 3]])"
      ]
     },
     "execution_count": 130,
     "metadata": {},
     "output_type": "execute_result"
    }
   ],
   "source": [
    "# Expandindo um tensor\n",
    "x.expand(3, 4)"
   ]
  },
  {
   "cell_type": "code",
   "execution_count": 131,
   "metadata": {},
   "outputs": [
    {
     "name": "stdout",
     "output_type": "stream",
     "text": [
      "tensor([[-0.2978, -0.1338,  0.3793],\n",
      "        [ 0.1784,  0.0252,  1.5046],\n",
      "        [ 0.3995, -0.5081, -1.2709],\n",
      "        [-0.0448,  0.1269,  1.2877],\n",
      "        [-0.9574,  0.6766,  0.4984]])\n",
      "torch.float32\n"
     ]
    }
   ],
   "source": [
    "# Definindo o tipo de tensor\n",
    "x = torch.randn(5, 3).type(torch.FloatTensor)\n",
    "print(x)\n",
    "print(x.dtype)"
   ]
  },
  {
   "cell_type": "code",
   "execution_count": 132,
   "metadata": {},
   "outputs": [
    {
     "name": "stdout",
     "output_type": "stream",
     "text": [
      "tensor([[-1,  0,  0],\n",
      "        [ 1,  0,  1],\n",
      "        [ 0,  0, -1],\n",
      "        [ 0,  0,  1],\n",
      "        [ 0,  1,  0]], dtype=torch.int8)\n",
      "torch.int8\n"
     ]
    }
   ],
   "source": [
    "# Definindo o tipo de tensor\n",
    "y = torch.randn(5, 3).type(torch.int8)\n",
    "print(y)\n",
    "print(y.dtype)"
   ]
  },
  {
   "cell_type": "code",
   "execution_count": 133,
   "metadata": {},
   "outputs": [
    {
     "name": "stdout",
     "output_type": "stream",
     "text": [
      "tensor([0, 1, 2, 3, 4, 5, 6, 7, 8])\n",
      "1\n"
     ]
    }
   ],
   "source": [
    "# Tensor com 9 elementos de 1 dimensão\n",
    "v = torch.arange(9)\n",
    "print(v)\n",
    "print(v.dim())"
   ]
  },
  {
   "cell_type": "code",
   "execution_count": 134,
   "metadata": {},
   "outputs": [
    {
     "name": "stdout",
     "output_type": "stream",
     "text": [
      "tensor([[0, 1, 2],\n",
      "        [3, 4, 5],\n",
      "        [6, 7, 8]])\n",
      "2\n"
     ]
    }
   ],
   "source": [
    "# Converte o tensor com 9 elementos de 1 dimensão, em um tensor de 9 elementos com duas dimensões\n",
    "v = v.view(3, 3)\n",
    "print(v)\n",
    "print(v.dim())"
   ]
  },
  {
   "cell_type": "code",
   "execution_count": 135,
   "metadata": {},
   "outputs": [
    {
     "name": "stdout",
     "output_type": "stream",
     "text": [
      "tensor([[ 0.4629, -0.8110,  0.8181],\n",
      "        [ 0.9109,  0.5023,  0.4285],\n",
      "        [ 0.2464,  1.5979,  0.3294],\n",
      "        [ 0.5698,  0.2243, -0.9846],\n",
      "        [ 0.8206,  0.1066,  2.1351]])\n",
      "2\n",
      "torch.Size([5, 3])\n"
     ]
    }
   ],
   "source": [
    "# Tensor x\n",
    "x = torch.randn(5, 3).type(torch.FloatTensor)\n",
    "print(x)\n",
    "print(x.dim())\n",
    "print(x.shape)"
   ]
  },
  {
   "cell_type": "code",
   "execution_count": 136,
   "metadata": {},
   "outputs": [
    {
     "name": "stdout",
     "output_type": "stream",
     "text": [
      "tensor([[ 0.4629, -0.8110,  0.8181],\n",
      "        [ 0.9109,  0.5023,  0.4285],\n",
      "        [ 0.2464,  1.5979,  0.3294],\n",
      "        [ 0.5698,  0.2243, -0.9846],\n",
      "        [ 0.8206,  0.1066,  2.1351],\n",
      "        [ 0.4629, -0.8110,  0.8181],\n",
      "        [ 0.9109,  0.5023,  0.4285],\n",
      "        [ 0.2464,  1.5979,  0.3294],\n",
      "        [ 0.5698,  0.2243, -0.9846],\n",
      "        [ 0.8206,  0.1066,  2.1351],\n",
      "        [ 0.4629, -0.8110,  0.8181],\n",
      "        [ 0.9109,  0.5023,  0.4285],\n",
      "        [ 0.2464,  1.5979,  0.3294],\n",
      "        [ 0.5698,  0.2243, -0.9846],\n",
      "        [ 0.8206,  0.1066,  2.1351]])\n",
      "2\n",
      "torch.Size([15, 3])\n",
      "torch.float32\n"
     ]
    }
   ],
   "source": [
    "# Concatenação por linha\n",
    "x3_linha = torch.cat((x, x, x), 0)     \n",
    "print(x3_linha)\n",
    "print(x3_linha.dim())\n",
    "print(x3_linha.shape)\n",
    "print(x3_linha.dtype)"
   ]
  },
  {
   "cell_type": "code",
   "execution_count": 137,
   "metadata": {},
   "outputs": [
    {
     "name": "stdout",
     "output_type": "stream",
     "text": [
      "tensor([[ 0.4629, -0.8110,  0.8181,  0.4629, -0.8110,  0.8181,  0.4629, -0.8110,\n",
      "          0.8181],\n",
      "        [ 0.9109,  0.5023,  0.4285,  0.9109,  0.5023,  0.4285,  0.9109,  0.5023,\n",
      "          0.4285],\n",
      "        [ 0.2464,  1.5979,  0.3294,  0.2464,  1.5979,  0.3294,  0.2464,  1.5979,\n",
      "          0.3294],\n",
      "        [ 0.5698,  0.2243, -0.9846,  0.5698,  0.2243, -0.9846,  0.5698,  0.2243,\n",
      "         -0.9846],\n",
      "        [ 0.8206,  0.1066,  2.1351,  0.8206,  0.1066,  2.1351,  0.8206,  0.1066,\n",
      "          2.1351]])\n",
      "2\n",
      "torch.Size([5, 9])\n",
      "torch.float32\n"
     ]
    }
   ],
   "source": [
    "# Concatenação por coluna\n",
    "x3_coluna = torch.cat((x, x, x), 1)     \n",
    "print(x3_coluna)\n",
    "print(x3_coluna.dim())\n",
    "print(x3_coluna.shape)\n",
    "print(x3_coluna.dtype)"
   ]
  },
  {
   "cell_type": "code",
   "execution_count": 138,
   "metadata": {},
   "outputs": [
    {
     "name": "stdout",
     "output_type": "stream",
     "text": [
      "tensor([[0, 1, 2],\n",
      "        [3, 4, 5],\n",
      "        [6, 7, 8]])\n",
      "2\n",
      "torch.Size([3, 3])\n"
     ]
    }
   ],
   "source": [
    "# Vetor v\n",
    "v = v.view(3, 3)\n",
    "print(v)\n",
    "print(v.dim())\n",
    "print(v.shape)"
   ]
  },
  {
   "cell_type": "markdown",
   "metadata": {},
   "source": [
    "https://pytorch.org/docs/stable/generated/torch.stack.html"
   ]
  },
  {
   "cell_type": "code",
   "execution_count": 139,
   "metadata": {},
   "outputs": [
    {
     "name": "stdout",
     "output_type": "stream",
     "text": [
      "tensor([[[0, 1, 2],\n",
      "         [3, 4, 5],\n",
      "         [6, 7, 8]],\n",
      "\n",
      "        [[0, 1, 2],\n",
      "         [3, 4, 5],\n",
      "         [6, 7, 8]]])\n",
      "3\n",
      "torch.Size([2, 3, 3])\n"
     ]
    }
   ],
   "source": [
    "# Stack\n",
    "v2 = torch.stack((v, v))\n",
    "print(v2)\n",
    "print(v2.dim())\n",
    "print(v2.shape)"
   ]
  },
  {
   "cell_type": "code",
   "execution_count": 140,
   "metadata": {},
   "outputs": [
    {
     "data": {
      "text/plain": [
       "tensor([[0, 1],\n",
       "        [4, 3],\n",
       "        [8, 7]])"
      ]
     },
     "execution_count": 140,
     "metadata": {},
     "output_type": "execute_result"
    }
   ],
   "source": [
    "# Reorganizando os elementos\n",
    "torch.gather(v, 1, torch.LongTensor([[0,1],[1,0],[2,1]]))"
   ]
  },
  {
   "cell_type": "code",
   "execution_count": 141,
   "metadata": {},
   "outputs": [
    {
     "data": {
      "text/plain": [
       "(tensor([[0, 1, 2]]), tensor([[3, 4, 5]]), tensor([[6, 7, 8]]))"
      ]
     },
     "execution_count": 141,
     "metadata": {},
     "output_type": "execute_result"
    }
   ],
   "source": [
    "# Split do tensor\n",
    "torch.chunk(v, 3)"
   ]
  },
  {
   "cell_type": "code",
   "execution_count": 142,
   "metadata": {},
   "outputs": [
    {
     "name": "stdout",
     "output_type": "stream",
     "text": [
      "tensor([[[ 0.8153,  1.2214,  0.6518, -0.9783, -0.0581],\n",
      "         [-0.2516, -0.0360, -0.4132, -0.8980,  1.1420],\n",
      "         [ 0.6712,  1.4064, -0.3066, -0.0086, -0.4114],\n",
      "         [-0.5606,  0.6014,  1.6480,  0.3144, -0.7736]],\n",
      "\n",
      "        [[-1.0051, -1.3375,  0.7166, -0.4955, -1.5560],\n",
      "         [ 0.4941, -1.2910, -0.1800, -0.9751, -0.2938],\n",
      "         [ 0.4948, -1.6103, -0.4397, -1.0301,  0.7314],\n",
      "         [ 0.4981,  1.8640,  0.5131,  0.5381,  2.0679]],\n",
      "\n",
      "        [[-0.1813, -0.2658,  0.5076, -0.9129, -0.4980],\n",
      "         [ 0.2767,  0.8329, -0.0515, -0.3057, -1.4514],\n",
      "         [-0.4759, -0.5143, -0.1133,  0.8626,  0.8621],\n",
      "         [-0.0034, -0.1057, -0.4437,  0.8800,  0.1002]],\n",
      "\n",
      "        [[-0.0058,  3.0303, -0.7131,  0.1368, -0.0802],\n",
      "         [ 0.4600,  0.9137,  0.7381,  0.4148, -0.7246],\n",
      "         [ 1.8533, -0.4255,  0.6529,  0.6782,  0.2269],\n",
      "         [-1.5950,  0.8594,  1.2985,  0.5154, -0.2987]],\n",
      "\n",
      "        [[ 1.0046, -0.1026,  0.7736,  0.1060,  0.5819],\n",
      "         [ 1.3674,  1.3832,  1.8597,  0.0566, -1.8099],\n",
      "         [ 0.6896,  1.7248,  0.1284,  1.9037,  0.0803],\n",
      "         [ 0.4671,  0.3867,  1.0956, -0.3184,  0.5818]],\n",
      "\n",
      "        [[-0.5712,  0.6867, -0.8053, -1.4926,  0.1485],\n",
      "         [-0.3620, -0.2016,  0.3549, -0.7201, -0.6913],\n",
      "         [-1.1164,  0.5419, -0.4111, -0.0933,  0.9277],\n",
      "         [ 1.3530,  1.2980,  0.8072, -0.5893, -0.9920]],\n",
      "\n",
      "        [[ 0.0097, -2.7040, -1.1418,  0.4939, -0.2199],\n",
      "         [-0.2296, -0.0842,  1.4560,  0.1955, -0.6437],\n",
      "         [-0.5029, -0.3977, -0.9372,  0.6199,  1.3953],\n",
      "         [ 0.3467,  0.8192, -0.3040,  0.0795,  1.0144]],\n",
      "\n",
      "        [[ 0.3817,  0.8947, -0.1603,  2.0041,  1.4054],\n",
      "         [ 0.2145, -0.6269,  0.5280, -0.6612,  1.8704],\n",
      "         [-0.1837,  1.7990, -1.3804,  1.5035, -0.6181],\n",
      "         [-0.6380, -0.9014, -0.4201, -1.7876, -0.0839]],\n",
      "\n",
      "        [[-0.4279, -1.0448, -0.3183,  0.1132, -0.7699],\n",
      "         [ 0.2859,  0.7868, -0.7274,  0.5767,  1.2539],\n",
      "         [ 0.9871, -1.0706, -1.5913, -0.0445,  0.3346],\n",
      "         [ 0.4310,  0.5175,  1.1359, -1.1462, -0.7565]],\n",
      "\n",
      "        [[ 2.1975,  1.8465,  1.0440, -0.1990, -0.2504],\n",
      "         [ 0.2574, -1.1001,  2.1760, -0.1815,  0.6156],\n",
      "         [-0.1763,  0.0036,  0.8216,  0.1055,  0.7551],\n",
      "         [ 0.0640,  1.8261,  0.9559,  0.1459, -1.4229]]])\n"
     ]
    }
   ],
   "source": [
    "q = torch.randn(10, 4, 5)\n",
    "print(q)"
   ]
  },
  {
   "cell_type": "code",
   "execution_count": 143,
   "metadata": {},
   "outputs": [
    {
     "data": {
      "text/plain": [
       "tensor([[[-0.2516, -0.0360, -0.4132, -0.8980,  1.1420],\n",
       "         [ 0.6712,  1.4064, -0.3066, -0.0086, -0.4114]],\n",
       "\n",
       "        [[ 0.4941, -1.2910, -0.1800, -0.9751, -0.2938],\n",
       "         [ 0.4948, -1.6103, -0.4397, -1.0301,  0.7314]],\n",
       "\n",
       "        [[ 0.2767,  0.8329, -0.0515, -0.3057, -1.4514],\n",
       "         [-0.4759, -0.5143, -0.1133,  0.8626,  0.8621]],\n",
       "\n",
       "        [[ 0.4600,  0.9137,  0.7381,  0.4148, -0.7246],\n",
       "         [ 1.8533, -0.4255,  0.6529,  0.6782,  0.2269]],\n",
       "\n",
       "        [[ 1.3674,  1.3832,  1.8597,  0.0566, -1.8099],\n",
       "         [ 0.6896,  1.7248,  0.1284,  1.9037,  0.0803]],\n",
       "\n",
       "        [[-0.3620, -0.2016,  0.3549, -0.7201, -0.6913],\n",
       "         [-1.1164,  0.5419, -0.4111, -0.0933,  0.9277]],\n",
       "\n",
       "        [[-0.2296, -0.0842,  1.4560,  0.1955, -0.6437],\n",
       "         [-0.5029, -0.3977, -0.9372,  0.6199,  1.3953]],\n",
       "\n",
       "        [[ 0.2145, -0.6269,  0.5280, -0.6612,  1.8704],\n",
       "         [-0.1837,  1.7990, -1.3804,  1.5035, -0.6181]],\n",
       "\n",
       "        [[ 0.2859,  0.7868, -0.7274,  0.5767,  1.2539],\n",
       "         [ 0.9871, -1.0706, -1.5913, -0.0445,  0.3346]],\n",
       "\n",
       "        [[ 0.2574, -1.1001,  2.1760, -0.1815,  0.6156],\n",
       "         [-0.1763,  0.0036,  0.8216,  0.1055,  0.7551]]])"
      ]
     },
     "execution_count": 143,
     "metadata": {},
     "output_type": "execute_result"
    }
   ],
   "source": [
    "# Usando máscaras para busca no tensor\n",
    "indices = torch.LongTensor([1, 2])\n",
    "torch.index_select(q, 1, indices) # Seleciona elementos de índice 1 e 2 para cada dimensão 1."
   ]
  },
  {
   "cell_type": "code",
   "execution_count": 144,
   "metadata": {},
   "outputs": [
    {
     "name": "stdout",
     "output_type": "stream",
     "text": [
      "tensor([[[[1.],\n",
      "          [1.]]],\n",
      "\n",
      "\n",
      "        [[[1.],\n",
      "          [1.]]]])\n",
      "4\n",
      "torch.Size([2, 1, 2, 1])\n",
      "\n",
      "\n",
      "tensor([[1., 1.],\n",
      "        [1., 1.]])\n",
      "2\n",
      "torch.Size([2, 2])\n",
      "\n",
      "\n",
      "tensor([[[1.],\n",
      "         [1.]],\n",
      "\n",
      "        [[1.],\n",
      "         [1.]]])\n",
      "3\n",
      "torch.Size([2, 2, 1])\n"
     ]
    }
   ],
   "source": [
    "# Squeeze\n",
    "t = torch.ones(2,1,2,1)  # Size 2x1x2x1\n",
    "r = torch.squeeze(t)     # Size 2x2\n",
    "p = torch.squeeze(t, 1)  # Squeeze pela dimensão 1: Size 2x2x1\n",
    "print(t)\n",
    "print(t.dim())\n",
    "print(t.shape)\n",
    "print(\"\\n\")\n",
    "print(r)\n",
    "print(r.dim())\n",
    "print(r.shape)\n",
    "print(\"\\n\")\n",
    "print(p)\n",
    "print(p.dim())\n",
    "print(p.shape)"
   ]
  },
  {
   "cell_type": "code",
   "execution_count": 145,
   "metadata": {},
   "outputs": [
    {
     "name": "stdout",
     "output_type": "stream",
     "text": [
      "tensor([1., 2., 3.])\n",
      "1\n",
      "torch.Size([3])\n",
      "\n",
      "\n",
      "tensor([[1., 2., 3.]])\n",
      "2\n",
      "torch.Size([1, 3])\n",
      "\n",
      "\n",
      "tensor([[1.],\n",
      "        [2.],\n",
      "        [3.]])\n",
      "2\n",
      "torch.Size([3, 1])\n"
     ]
    }
   ],
   "source": [
    "# Unsqueeze \n",
    "u = torch.Tensor([1, 2, 3])\n",
    "s = torch.unsqueeze(u, 0)       # Size: 1x3\n",
    "w = torch.unsqueeze(u, 1)       # Size: 3x1\n",
    "print(u)\n",
    "print(u.dim())\n",
    "print(u.shape)\n",
    "print(\"\\n\")\n",
    "print(s)\n",
    "print(s.dim())\n",
    "print(s.shape)\n",
    "print(\"\\n\")\n",
    "print(w)\n",
    "print(w.dim())\n",
    "print(w.shape)"
   ]
  },
  {
   "cell_type": "markdown",
   "metadata": {},
   "source": [
    "## Distribuições Estatísticas no PyTorch"
   ]
  },
  {
   "cell_type": "code",
   "execution_count": 146,
   "metadata": {},
   "outputs": [
    {
     "data": {
      "text/plain": [
       "tensor([[0.9384, 0.1638],\n",
       "        [0.7433, 0.2724]])"
      ]
     },
     "execution_count": 146,
     "metadata": {},
     "output_type": "execute_result"
    }
   ],
   "source": [
    "# Distribuição Uniforme Para Matriz com Range (0, 1)\n",
    "torch.Tensor(2, 2).uniform_(0, 1)"
   ]
  },
  {
   "cell_type": "code",
   "execution_count": 147,
   "metadata": {},
   "outputs": [
    {
     "data": {
      "text/plain": [
       "tensor([[1., 1.],\n",
       "        [1., 1.]])"
      ]
     },
     "execution_count": 147,
     "metadata": {},
     "output_type": "execute_result"
    }
   ],
   "source": [
    "# Distribuição de Bernoulli\n",
    "torch.bernoulli(r)   "
   ]
  },
  {
   "cell_type": "code",
   "execution_count": 148,
   "metadata": {},
   "outputs": [
    {
     "data": {
      "text/plain": [
       "tensor([2, 3, 2, 1])"
      ]
     },
     "execution_count": 148,
     "metadata": {},
     "output_type": "execute_result"
    }
   ],
   "source": [
    "# Distribuição Multinomial\n",
    "w = torch.Tensor([0, 4, 8, 2])\n",
    "torch.multinomial(w, 4, replacement = True) "
   ]
  },
  {
   "cell_type": "code",
   "execution_count": 149,
   "metadata": {},
   "outputs": [
    {
     "name": "stdout",
     "output_type": "stream",
     "text": [
      "2\n",
      "tensor([[0.9996],\n",
      "        [0.9988],\n",
      "        [0.9994],\n",
      "        [1.0001],\n",
      "        [1.0011],\n",
      "        [1.0023],\n",
      "        [0.9987],\n",
      "        [1.0001],\n",
      "        [1.0004],\n",
      "        [1.0002],\n",
      "        [1.0002],\n",
      "        [0.9997],\n",
      "        [0.9975],\n",
      "        [0.9981],\n",
      "        [1.0025],\n",
      "        [1.0004],\n",
      "        [0.9999],\n",
      "        [1.0000],\n",
      "        [0.9997],\n",
      "        [0.9980],\n",
      "        [1.0009],\n",
      "        [1.0002],\n",
      "        [0.9987],\n",
      "        [1.0004],\n",
      "        [1.0015],\n",
      "        [0.9991],\n",
      "        [0.9986],\n",
      "        [0.9999],\n",
      "        [0.9999],\n",
      "        [1.0003],\n",
      "        [1.0006],\n",
      "        [0.9998],\n",
      "        [0.9995],\n",
      "        [1.0009],\n",
      "        [0.9994],\n",
      "        [0.9999],\n",
      "        [1.0020],\n",
      "        [0.9991],\n",
      "        [0.9985],\n",
      "        [0.9990],\n",
      "        [0.9977],\n",
      "        [1.0006],\n",
      "        [1.0011],\n",
      "        [1.0018],\n",
      "        [1.0004],\n",
      "        [1.0001],\n",
      "        [1.0011],\n",
      "        [1.0013],\n",
      "        [1.0000],\n",
      "        [1.0002],\n",
      "        [0.9997],\n",
      "        [1.0019],\n",
      "        [1.0008],\n",
      "        [0.9989],\n",
      "        [1.0007],\n",
      "        [0.9999],\n",
      "        [1.0004],\n",
      "        [0.9996],\n",
      "        [1.0020],\n",
      "        [1.0003],\n",
      "        [0.9984],\n",
      "        [0.9994],\n",
      "        [0.9989],\n",
      "        [1.0002],\n",
      "        [0.9992],\n",
      "        [0.9997],\n",
      "        [1.0002],\n",
      "        [1.0017],\n",
      "        [1.0022],\n",
      "        [1.0009],\n",
      "        [0.9996],\n",
      "        [0.9994],\n",
      "        [0.9979],\n",
      "        [0.9986],\n",
      "        [1.0012],\n",
      "        [0.9998],\n",
      "        [1.0002],\n",
      "        [0.9996],\n",
      "        [1.0001],\n",
      "        [0.9995],\n",
      "        [1.0003],\n",
      "        [1.0012],\n",
      "        [0.9984],\n",
      "        [1.0005],\n",
      "        [1.0007],\n",
      "        [0.9997],\n",
      "        [1.0003],\n",
      "        [0.9995],\n",
      "        [0.9998],\n",
      "        [0.9987],\n",
      "        [1.0008],\n",
      "        [0.9996],\n",
      "        [1.0009],\n",
      "        [0.9996],\n",
      "        [1.0005],\n",
      "        [1.0002],\n",
      "        [0.9990],\n",
      "        [0.9996],\n",
      "        [1.0005],\n",
      "        [0.9993]])\n"
     ]
    }
   ],
   "source": [
    "# Distribuição Normal\n",
    "import torch.distributions as tdist\n",
    "dist = tdist.Normal(torch.tensor([1.0]), torch.tensor([0.001]))\n",
    "amostra = dist.sample((100,))\n",
    "print(amostra.dim())\n",
    "print(amostra)"
   ]
  },
  {
   "cell_type": "code",
   "execution_count": 150,
   "metadata": {},
   "outputs": [
    {
     "data": {
      "text/plain": [
       "torch.Tensor"
      ]
     },
     "execution_count": 150,
     "metadata": {},
     "output_type": "execute_result"
    }
   ],
   "source": [
    "type(amostra)"
   ]
  },
  {
   "cell_type": "code",
   "execution_count": 151,
   "metadata": {},
   "outputs": [
    {
     "data": {
      "text/plain": [
       "array([0.99964994, 0.99881136, 0.9994334 , 1.0001258 , 1.0010669 ,\n",
       "       1.0022868 , 0.99865335, 1.0000907 , 1.0004433 , 1.0002149 ,\n",
       "       1.0001968 , 0.9996638 , 0.99749345, 0.9981208 , 1.002531  ,\n",
       "       1.0004445 , 0.9998579 , 1.0000182 , 0.9997194 , 0.9979755 ,\n",
       "       1.0009431 , 1.0002133 , 0.99870723, 1.0003743 , 1.0014838 ,\n",
       "       0.99910146, 0.99860907, 0.9998676 , 0.9999297 , 1.0002692 ,\n",
       "       1.0005952 , 0.99975365, 0.9994598 , 1.0009078 , 0.99941164,\n",
       "       0.99994045, 1.0020261 , 0.99905455, 0.9984726 , 0.99899846,\n",
       "       0.9977389 , 1.0006135 , 1.0011219 , 1.001759  , 1.0004002 ,\n",
       "       1.000093  , 1.0010843 , 1.0013472 , 0.9999678 , 1.0001763 ,\n",
       "       0.9996902 , 1.0019006 , 1.0007981 , 0.99887794, 1.0006757 ,\n",
       "       0.9999373 , 1.000447  , 0.9995865 , 1.0020329 , 1.0002999 ,\n",
       "       0.99839956, 0.99942493, 0.998935  , 1.0001838 , 0.99917865,\n",
       "       0.99973506, 1.0001956 , 1.0017375 , 1.002227  , 1.000855  ,\n",
       "       0.9996496 , 0.9993621 , 0.9979465 , 0.99862456, 1.0012248 ,\n",
       "       0.999796  , 1.0001658 , 0.99956995, 1.0000995 , 0.99948657,\n",
       "       1.0002935 , 1.0012131 , 0.99838954, 1.0004982 , 1.0007108 ,\n",
       "       0.9997254 , 1.0003248 , 0.99946487, 0.9997733 , 0.9987228 ,\n",
       "       1.0007563 , 0.9995779 , 1.0009478 , 0.99959326, 1.00045   ,\n",
       "       1.000236  , 0.9989861 , 0.99963486, 1.000516  , 0.99927855],\n",
       "      dtype=float32)"
      ]
     },
     "execution_count": 151,
     "metadata": {},
     "output_type": "execute_result"
    }
   ],
   "source": [
    "# Convertemos o array em um vetor\n",
    "elementos = amostra.numpy().flatten()\n",
    "elementos"
   ]
  },
  {
   "cell_type": "code",
   "execution_count": 152,
   "metadata": {},
   "outputs": [
    {
     "data": {
      "text/plain": [
       "(array([ 4.,  4., 10., 11., 21., 24., 11.,  7.,  4.,  4.]),\n",
       " array([0.99749345, 0.9979972 , 0.99850094, 0.9990047 , 0.9995085 ,\n",
       "        1.0000123 , 1.000516  , 1.0010197 , 1.0015235 , 1.0020273 ,\n",
       "        1.002531  ], dtype=float32),\n",
       " <BarContainer object of 10 artists>)"
      ]
     },
     "execution_count": 152,
     "metadata": {},
     "output_type": "execute_result"
    },
    {
     "data": {
      "image/png": "[encoded data removed]",
      "text/plain": [
       "<Figure size 640x480 with 1 Axes>"
      ]
     },
     "metadata": {},
     "output_type": "display_data"
    }
   ],
   "source": [
    "# Histograma\n",
    "plt.hist(elementos)"
   ]
  },
  {
   "cell_type": "code",
   "execution_count": 153,
   "metadata": {},
   "outputs": [
    {
     "name": "stdout",
     "output_type": "stream",
     "text": [
      "Author: Data Science Academy\n",
      "\n",
      "numpy            : 1.21.5\n",
      "torch            : 1.13.0\n",
      "matplotlib       : 3.5.2\n",
      "pandas           : 1.4.4\n",
      "pytorch_lightning: 1.8.3\n",
      "\n"
     ]
    }
   ],
   "source": [
    "# Versões dos pacotes usados neste jupyter notebook\n",
    "%reload_ext watermark\n",
    "%watermark -a \"Data Science Academy\" --iversions"
   ]
  },
  {
   "cell_type": "markdown",
   "metadata": {},
   "source": [
    "# Fim"
   ]
  }
 ],
 "metadata": {
  "kernelspec": {
   "display_name": "Python 3 (ipykernel)",
   "language": "python",
   "name": "python3"
  },
  "language_info": {
   "codemirror_mode": {
    "name": "ipython",
    "version": 3
   },
   "file_extension": ".py",
   "mimetype": "text/x-python",
   "name": "python",
   "nbconvert_exporter": "python",
   "pygments_lexer": "ipython3",
   "version": "3.9.13"
  }
 },
 "nbformat": 4,
 "nbformat_minor": 2
}
