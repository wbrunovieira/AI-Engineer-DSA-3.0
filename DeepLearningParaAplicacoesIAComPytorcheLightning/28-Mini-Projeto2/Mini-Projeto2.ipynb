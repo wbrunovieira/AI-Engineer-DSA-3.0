{
 "cells": [
  {
   "cell_type": "markdown",
   "id": "60f7bf99",
   "metadata": {},
   "source": [
    "# <font color='blue'>Data Science Academy</font>\n",
    "# <font color='blue'>Deep Learning Para Aplicações de IA com PyTorch e Lightning</font>\n",
    "\n",
    "## <font color='blue'>Mini-Projeto 2</font>\n",
    "### <font color='blue'>Sistema de Recomendação de Aplicativos de Contabilidade com Graph Attention Network - GAT</font>"
   ]
  },
  {
   "cell_type": "markdown",
   "id": "e6c735b7",
   "metadata": {},
   "source": [
    "![DSA](imagens/MP2.png)"
   ]
  },
  {
   "cell_type": "markdown",
   "id": "284f4765",
   "metadata": {},
   "source": [
    "## Instalando e Carregando os Pacotes"
   ]
  },
  {
   "cell_type": "code",
   "execution_count": 1,
   "id": "82e21ec2",
   "metadata": {},
   "outputs": [
    {
     "name": "stdout",
     "output_type": "stream",
     "text": [
      "Versão da Linguagem Python Usada Neste Jupyter Notebook: 3.9.13\n"
     ]
    }
   ],
   "source": [
    "# Versão da Linguagem Python\n",
    "from platform import python_version\n",
    "print('Versão da Linguagem Python Usada Neste Jupyter Notebook:', python_version())"
   ]
  },
  {
   "cell_type": "code",
   "execution_count": 2,
   "id": "f8678661",
   "metadata": {},
   "outputs": [],
   "source": [
    "# Para atualizar um pacote, execute o comando abaixo no terminal ou prompt de comando:\n",
    "# pip install -U nome_pacote\n",
    "\n",
    "# Para instalar a versão exata de um pacote, execute o comando abaixo no terminal ou prompt de comando:\n",
    "# !pip install nome_pacote==versão_desejada\n",
    "\n",
    "# Depois de instalar ou atualizar o pacote, reinicie o jupyter notebook.\n",
    "\n",
    "# Instala o pacote watermark. \n",
    "# Esse pacote é usado para gravar as versões de outros pacotes usados neste jupyter notebook.\n",
    "#!pip install -q -U watermark"
   ]
  },
  {
   "cell_type": "code",
   "execution_count": 3,
   "id": "8cdcb07b",
   "metadata": {},
   "outputs": [],
   "source": [
    "!pip install -q torch==2.0.0"
   ]
  },
  {
   "cell_type": "markdown",
   "id": "dfced936",
   "metadata": {},
   "source": [
    "https://pytorch-geometric.readthedocs.io/en/latest/"
   ]
  },
  {
   "cell_type": "code",
   "execution_count": 4,
   "id": "d6ae2d5e",
   "metadata": {},
   "outputs": [],
   "source": [
    "!pip install -q torch_geometric==2.3.1"
   ]
  },
  {
   "cell_type": "code",
   "execution_count": 5,
   "id": "a973577c",
   "metadata": {},
   "outputs": [],
   "source": [
    "# Imports\n",
    "import pandas as pd\n",
    "import numpy as np\n",
    "import sklearn\n",
    "import torch\n",
    "import torch_geometric\n",
    "import torch.nn.functional as F\n",
    "from torch_geometric.data import Data\n",
    "from torch_geometric.nn import GATConv, global_mean_pool\n",
    "from torch_geometric.utils import to_undirected\n",
    "from torch_geometric.loader import DataLoader\n",
    "from sklearn.model_selection import train_test_split\n",
    "import warnings\n",
    "warnings.filterwarnings('ignore')"
   ]
  },
  {
   "cell_type": "code",
   "execution_count": 6,
   "id": "68256bdf",
   "metadata": {},
   "outputs": [
    {
     "name": "stdout",
     "output_type": "stream",
     "text": [
      "Author: Data Science Academy\n",
      "\n",
      "pandas         : 1.4.4\n",
      "numpy          : 1.23.5\n",
      "torch_geometric: 2.3.1\n",
      "sklearn        : 1.0.2\n",
      "torch          : 2.0.0\n",
      "\n"
     ]
    }
   ],
   "source": [
    "# Versões dos pacotes usados neste jupyter notebook\n",
    "%reload_ext watermark\n",
    "%watermark -a \"Data Science Academy\" --iversions"
   ]
  },
  {
   "cell_type": "markdown",
   "id": "2443e460",
   "metadata": {},
   "source": [
    "## Preparando o Conjunto de Dados\n",
    "\n",
    "Aqui, você deve carregar seus próprios dados de usuários, aplicativos (ou qualquer outra coisa) e avaliações. Como exemplo, criaremos um dataset fictício."
   ]
  },
  {
   "cell_type": "code",
   "execution_count": 7,
   "id": "8a178555",
   "metadata": {},
   "outputs": [],
   "source": [
    "# Dataframe de usuários\n",
    "users = pd.DataFrame({\"user_id\": [0, 1, 2, 3]})\n",
    "\n",
    "# Dataframe de apps\n",
    "aplicativos = pd.DataFrame({\"app_id\": [0, 1, 2]})\n",
    "\n",
    "# Dataframe de avaliações (ratings)\n",
    "ratings = pd.DataFrame({\"user_id\": [0, 1, 1, 2, 3],\n",
    "                        \"app_id\": [0, 0, 1, 2, 2],\n",
    "                        \"rating\": [4, 5, 3, 2, 4]})"
   ]
  },
  {
   "cell_type": "code",
   "execution_count": 8,
   "id": "627d60f9",
   "metadata": {},
   "outputs": [
    {
     "data": {
      "text/html": [
       "<div>\n",
       "<style scoped>\n",
       "    .dataframe tbody tr th:only-of-type {\n",
       "        vertical-align: middle;\n",
       "    }\n",
       "\n",
       "    .dataframe tbody tr th {\n",
       "        vertical-align: top;\n",
       "    }\n",
       "\n",
       "    .dataframe thead th {\n",
       "        text-align: right;\n",
       "    }\n",
       "</style>\n",
       "<table border=\"1\" class=\"dataframe\">\n",
       "  <thead>\n",
       "    <tr style=\"text-align: right;\">\n",
       "      <th></th>\n",
       "      <th>user_id</th>\n",
       "    </tr>\n",
       "  </thead>\n",
       "  <tbody>\n",
       "    <tr>\n",
       "      <th>0</th>\n",
       "      <td>0</td>\n",
       "    </tr>\n",
       "    <tr>\n",
       "      <th>1</th>\n",
       "      <td>1</td>\n",
       "    </tr>\n",
       "    <tr>\n",
       "      <th>2</th>\n",
       "      <td>2</td>\n",
       "    </tr>\n",
       "    <tr>\n",
       "      <th>3</th>\n",
       "      <td>3</td>\n",
       "    </tr>\n",
       "  </tbody>\n",
       "</table>\n",
       "</div>"
      ],
      "text/plain": [
       "   user_id\n",
       "0        0\n",
       "1        1\n",
       "2        2\n",
       "3        3"
      ]
     },
     "execution_count": 8,
     "metadata": {},
     "output_type": "execute_result"
    }
   ],
   "source": [
    "users"
   ]
  },
  {
   "cell_type": "code",
   "execution_count": 9,
   "id": "d0cf4f2e",
   "metadata": {},
   "outputs": [
    {
     "data": {
      "text/html": [
       "<div>\n",
       "<style scoped>\n",
       "    .dataframe tbody tr th:only-of-type {\n",
       "        vertical-align: middle;\n",
       "    }\n",
       "\n",
       "    .dataframe tbody tr th {\n",
       "        vertical-align: top;\n",
       "    }\n",
       "\n",
       "    .dataframe thead th {\n",
       "        text-align: right;\n",
       "    }\n",
       "</style>\n",
       "<table border=\"1\" class=\"dataframe\">\n",
       "  <thead>\n",
       "    <tr style=\"text-align: right;\">\n",
       "      <th></th>\n",
       "      <th>app_id</th>\n",
       "    </tr>\n",
       "  </thead>\n",
       "  <tbody>\n",
       "    <tr>\n",
       "      <th>0</th>\n",
       "      <td>0</td>\n",
       "    </tr>\n",
       "    <tr>\n",
       "      <th>1</th>\n",
       "      <td>1</td>\n",
       "    </tr>\n",
       "    <tr>\n",
       "      <th>2</th>\n",
       "      <td>2</td>\n",
       "    </tr>\n",
       "  </tbody>\n",
       "</table>\n",
       "</div>"
      ],
      "text/plain": [
       "   app_id\n",
       "0       0\n",
       "1       1\n",
       "2       2"
      ]
     },
     "execution_count": 9,
     "metadata": {},
     "output_type": "execute_result"
    }
   ],
   "source": [
    "aplicativos"
   ]
  },
  {
   "cell_type": "code",
   "execution_count": 10,
   "id": "8d6b3616",
   "metadata": {},
   "outputs": [
    {
     "data": {
      "text/html": [
       "<div>\n",
       "<style scoped>\n",
       "    .dataframe tbody tr th:only-of-type {\n",
       "        vertical-align: middle;\n",
       "    }\n",
       "\n",
       "    .dataframe tbody tr th {\n",
       "        vertical-align: top;\n",
       "    }\n",
       "\n",
       "    .dataframe thead th {\n",
       "        text-align: right;\n",
       "    }\n",
       "</style>\n",
       "<table border=\"1\" class=\"dataframe\">\n",
       "  <thead>\n",
       "    <tr style=\"text-align: right;\">\n",
       "      <th></th>\n",
       "      <th>user_id</th>\n",
       "      <th>app_id</th>\n",
       "      <th>rating</th>\n",
       "    </tr>\n",
       "  </thead>\n",
       "  <tbody>\n",
       "    <tr>\n",
       "      <th>0</th>\n",
       "      <td>0</td>\n",
       "      <td>0</td>\n",
       "      <td>4</td>\n",
       "    </tr>\n",
       "    <tr>\n",
       "      <th>1</th>\n",
       "      <td>1</td>\n",
       "      <td>0</td>\n",
       "      <td>5</td>\n",
       "    </tr>\n",
       "    <tr>\n",
       "      <th>2</th>\n",
       "      <td>1</td>\n",
       "      <td>1</td>\n",
       "      <td>3</td>\n",
       "    </tr>\n",
       "    <tr>\n",
       "      <th>3</th>\n",
       "      <td>2</td>\n",
       "      <td>2</td>\n",
       "      <td>2</td>\n",
       "    </tr>\n",
       "    <tr>\n",
       "      <th>4</th>\n",
       "      <td>3</td>\n",
       "      <td>2</td>\n",
       "      <td>4</td>\n",
       "    </tr>\n",
       "  </tbody>\n",
       "</table>\n",
       "</div>"
      ],
      "text/plain": [
       "   user_id  app_id  rating\n",
       "0        0       0       4\n",
       "1        1       0       5\n",
       "2        1       1       3\n",
       "3        2       2       2\n",
       "4        3       2       4"
      ]
     },
     "execution_count": 10,
     "metadata": {},
     "output_type": "execute_result"
    }
   ],
   "source": [
    "ratings"
   ]
  },
  {
   "cell_type": "code",
   "execution_count": 11,
   "id": "cbc432bb",
   "metadata": {},
   "outputs": [],
   "source": [
    "# Converta os IDs dos aplicativos para evitar confusão com os IDs dos usuários\n",
    "ratings[\"app_id\"] += users.shape[0] - 1"
   ]
  },
  {
   "cell_type": "code",
   "execution_count": 12,
   "id": "1f90976c",
   "metadata": {},
   "outputs": [
    {
     "data": {
      "text/html": [
       "<div>\n",
       "<style scoped>\n",
       "    .dataframe tbody tr th:only-of-type {\n",
       "        vertical-align: middle;\n",
       "    }\n",
       "\n",
       "    .dataframe tbody tr th {\n",
       "        vertical-align: top;\n",
       "    }\n",
       "\n",
       "    .dataframe thead th {\n",
       "        text-align: right;\n",
       "    }\n",
       "</style>\n",
       "<table border=\"1\" class=\"dataframe\">\n",
       "  <thead>\n",
       "    <tr style=\"text-align: right;\">\n",
       "      <th></th>\n",
       "      <th>user_id</th>\n",
       "      <th>app_id</th>\n",
       "      <th>rating</th>\n",
       "    </tr>\n",
       "  </thead>\n",
       "  <tbody>\n",
       "    <tr>\n",
       "      <th>0</th>\n",
       "      <td>0</td>\n",
       "      <td>3</td>\n",
       "      <td>4</td>\n",
       "    </tr>\n",
       "    <tr>\n",
       "      <th>1</th>\n",
       "      <td>1</td>\n",
       "      <td>3</td>\n",
       "      <td>5</td>\n",
       "    </tr>\n",
       "    <tr>\n",
       "      <th>2</th>\n",
       "      <td>1</td>\n",
       "      <td>4</td>\n",
       "      <td>3</td>\n",
       "    </tr>\n",
       "    <tr>\n",
       "      <th>3</th>\n",
       "      <td>2</td>\n",
       "      <td>5</td>\n",
       "      <td>2</td>\n",
       "    </tr>\n",
       "    <tr>\n",
       "      <th>4</th>\n",
       "      <td>3</td>\n",
       "      <td>5</td>\n",
       "      <td>4</td>\n",
       "    </tr>\n",
       "  </tbody>\n",
       "</table>\n",
       "</div>"
      ],
      "text/plain": [
       "   user_id  app_id  rating\n",
       "0        0       3       4\n",
       "1        1       3       5\n",
       "2        1       4       3\n",
       "3        2       5       2\n",
       "4        3       5       4"
      ]
     },
     "execution_count": 12,
     "metadata": {},
     "output_type": "execute_result"
    }
   ],
   "source": [
    "ratings"
   ]
  },
  {
   "cell_type": "markdown",
   "id": "58fe7ba6",
   "metadata": {},
   "source": [
    "## Pré-Processamento dos Dados no Formato de Grafo"
   ]
  },
  {
   "cell_type": "code",
   "execution_count": 13,
   "id": "82452690",
   "metadata": {},
   "outputs": [],
   "source": [
    "# Divide os dados em conjuntos de treinamento e teste\n",
    "train_ratings, test_ratings = train_test_split(ratings, test_size = 0.2, random_state = 42)"
   ]
  },
  {
   "cell_type": "code",
   "execution_count": 14,
   "id": "8cbd9868",
   "metadata": {},
   "outputs": [],
   "source": [
    "# Prepara os nodes de treino\n",
    "train_source_nodes = torch.tensor(train_ratings[\"user_id\"].values, dtype = torch.long)\n",
    "train_target_nodes = torch.tensor(train_ratings[\"app_id\"].values, dtype = torch.long)"
   ]
  },
  {
   "cell_type": "code",
   "execution_count": 15,
   "id": "3942b087",
   "metadata": {},
   "outputs": [
    {
     "data": {
      "text/plain": [
       "tensor([3, 1, 0, 2])"
      ]
     },
     "execution_count": 15,
     "metadata": {},
     "output_type": "execute_result"
    }
   ],
   "source": [
    "train_source_nodes"
   ]
  },
  {
   "cell_type": "code",
   "execution_count": 16,
   "id": "3a0148c6",
   "metadata": {},
   "outputs": [
    {
     "data": {
      "text/plain": [
       "tensor([5, 4, 3, 5])"
      ]
     },
     "execution_count": 16,
     "metadata": {},
     "output_type": "execute_result"
    }
   ],
   "source": [
    "train_target_nodes"
   ]
  },
  {
   "cell_type": "code",
   "execution_count": 17,
   "id": "d8bd2506",
   "metadata": {},
   "outputs": [],
   "source": [
    "# Prepara os edges (arestas) de treino\n",
    "train_edge_index = torch.stack([train_source_nodes, train_target_nodes], dim = 0)\n",
    "train_edge_index = to_undirected(train_edge_index)\n",
    "train_edge_attr = torch.tensor(train_ratings[\"rating\"].values, dtype = torch.float32).view(-1, 1)"
   ]
  },
  {
   "cell_type": "markdown",
   "id": "43fe41d0",
   "metadata": {},
   "source": [
    "A função to_undirected tem como objetivo converter um grafo direcionado em um grafo não direcionado. Em outras palavras, ela garante que todas as arestas do grafo sejam bidirecionais, isto é, para cada aresta de A para B, existe também uma aresta de B para A.\n",
    "\n",
    "Esta função pode ser útil em várias aplicações de aprendizado de máquina envolvendo grafos, onde os grafos não direcionados são necessários. Por exemplo, em problemas de clusterização de comunidades em redes sociais, análise de redes de coautoria, recomendação de itens e detecção de fraudes, pode ser necessário trabalhar com grafos não direcionados."
   ]
  },
  {
   "cell_type": "code",
   "execution_count": 18,
   "id": "80b4f524",
   "metadata": {},
   "outputs": [
    {
     "data": {
      "text/plain": [
       "tensor([[0, 1, 2, 3, 3, 4, 5, 5],\n",
       "        [3, 4, 5, 0, 5, 1, 2, 3]])"
      ]
     },
     "execution_count": 18,
     "metadata": {},
     "output_type": "execute_result"
    }
   ],
   "source": [
    "train_edge_index"
   ]
  },
  {
   "cell_type": "code",
   "execution_count": 19,
   "id": "3c76a2f0",
   "metadata": {},
   "outputs": [
    {
     "data": {
      "text/plain": [
       "tensor([[4.],\n",
       "        [3.],\n",
       "        [4.],\n",
       "        [2.]])"
      ]
     },
     "execution_count": 19,
     "metadata": {},
     "output_type": "execute_result"
    }
   ],
   "source": [
    "train_edge_attr"
   ]
  },
  {
   "cell_type": "code",
   "execution_count": 20,
   "id": "17a5cfca",
   "metadata": {},
   "outputs": [],
   "source": [
    "# Repete o processo anterior para os dados de teste\n",
    "test_source_nodes = torch.tensor(test_ratings[\"user_id\"].values, dtype = torch.long)\n",
    "test_target_nodes = torch.tensor(test_ratings[\"app_id\"].values, dtype = torch.long)\n",
    "test_edge_index = torch.stack([test_source_nodes, test_target_nodes], dim = 0)\n",
    "test_edge_index = to_undirected(test_edge_index)\n",
    "test_edge_attr = torch.tensor(test_ratings[\"rating\"].values, dtype = torch.float32).view(-1, 1)"
   ]
  },
  {
   "cell_type": "code",
   "execution_count": 21,
   "id": "8bbc08f0",
   "metadata": {},
   "outputs": [],
   "source": [
    "# Número de nodes\n",
    "num_nodes = users.shape[0] + aplicativos.shape[0]"
   ]
  },
  {
   "cell_type": "code",
   "execution_count": 22,
   "id": "6e730554",
   "metadata": {},
   "outputs": [
    {
     "data": {
      "text/plain": [
       "7"
      ]
     },
     "execution_count": 22,
     "metadata": {},
     "output_type": "execute_result"
    }
   ],
   "source": [
    "num_nodes"
   ]
  },
  {
   "cell_type": "markdown",
   "id": "ca23c7b1",
   "metadata": {},
   "source": [
    "![DSA](imagens/grafo.png)"
   ]
  },
  {
   "cell_type": "code",
   "execution_count": 23,
   "id": "8d101b09",
   "metadata": {},
   "outputs": [],
   "source": [
    "# Cria os atributos de aresta do conjunto de treinamento\n",
    "train_data = Data(x = torch.eye(num_nodes, dtype = torch.float32), \n",
    "                  edge_index = train_edge_index, \n",
    "                  edge_attr = train_edge_attr, \n",
    "                  y = train_edge_attr)"
   ]
  },
  {
   "cell_type": "code",
   "execution_count": 24,
   "id": "f793c356",
   "metadata": {},
   "outputs": [
    {
     "data": {
      "text/plain": [
       "Data(x=[7, 7], edge_index=[2, 8], edge_attr=[4, 1], y=[4, 1])"
      ]
     },
     "execution_count": 24,
     "metadata": {},
     "output_type": "execute_result"
    }
   ],
   "source": [
    "train_data"
   ]
  },
  {
   "cell_type": "markdown",
   "id": "72b39276",
   "metadata": {},
   "source": [
    "Essa representação acima é típica de um objeto Data do PyTorch Geometric, que armazena as informações de um grafo em um formato específico. Vamos entender cada componente dessa representação:\n",
    "\n",
    "x=[7, 7]: Essa é a matriz de atributos dos nós. O primeiro valor (7) indica o número de nós no grafo, e o segundo valor (7) representa o número de atributos (características) para cada nó. Portanto, a matriz de atributos dos nós terá dimensões 7x7.\n",
    "\n",
    "edge_index=[2, 8]: Essa é a matriz de índices de arestas, que indica as conexões entre os nós. A matriz tem duas linhas (valor 2), onde cada coluna representa uma aresta. O número 8 indica que existem 8 arestas no grafo.\n",
    "\n",
    "edge_attr=[4, 1]: Essa é a matriz de atributos das arestas. O primeiro valor (4) indica o número de arestas no grafo, e o segundo valor (1) representa o número de atributos (características) para cada aresta. \n",
    "\n",
    "y=[4, 1]: Essa é a matriz de rótulos (labels) dos nós ou arestas, geralmente usada como a variável alvo (target) em problemas de aprendizado supervisionado. O primeiro valor (4) indica o número de rótulos, e o segundo valor (1) indica que cada rótulo é unidimensional (escalar). "
   ]
  },
  {
   "cell_type": "code",
   "execution_count": 25,
   "id": "419e3267",
   "metadata": {},
   "outputs": [],
   "source": [
    "# Cria os atributos de aresta do conjunto de teste\n",
    "test_data = Data(x = torch.eye(num_nodes, dtype = torch.float32), \n",
    "                 edge_index = test_edge_index, \n",
    "                 edge_attr = test_edge_attr, \n",
    "                 y = test_edge_attr)"
   ]
  },
  {
   "cell_type": "code",
   "execution_count": 26,
   "id": "8e46fad3",
   "metadata": {},
   "outputs": [
    {
     "data": {
      "text/plain": [
       "Data(x=[7, 7], edge_index=[2, 2], edge_attr=[1, 1], y=[1, 1])"
      ]
     },
     "execution_count": 26,
     "metadata": {},
     "output_type": "execute_result"
    }
   ],
   "source": [
    "test_data"
   ]
  },
  {
   "cell_type": "code",
   "execution_count": 27,
   "id": "3ba847e0",
   "metadata": {},
   "outputs": [],
   "source": [
    "# Cria os dataloaders (o que é requerido pelo PyTorch)\n",
    "train_data_loader = DataLoader([train_data], batch_size = 1)\n",
    "test_data_loader = DataLoader([test_data], batch_size = 1)"
   ]
  },
  {
   "cell_type": "markdown",
   "id": "d3438e45",
   "metadata": {},
   "source": [
    "## Construção do Modelo\n",
    "\n",
    "https://arxiv.org/abs/1710.10903"
   ]
  },
  {
   "cell_type": "code",
   "execution_count": 28,
   "id": "05ac664d",
   "metadata": {},
   "outputs": [],
   "source": [
    "# Classe do modelo\n",
    "class RecommenderGAT(torch.nn.Module):\n",
    "    \n",
    "    # Método construtor\n",
    "    def __init__(self, num_nodes, hidden_dim = 32, output_dim = 1, heads = 2):\n",
    "        \n",
    "        super(RecommenderGAT, self).__init__()\n",
    "        \n",
    "        # Primeira camada convolucional de atenção do grafo (GATConv)\n",
    "        self.conv1 = GATConv(num_nodes, hidden_dim, heads = heads)\n",
    "        \n",
    "        # Segunda camada convolucional de atenção do grafo (GATConv)\n",
    "        self.conv2 = GATConv(hidden_dim * heads, hidden_dim, heads = heads)\n",
    "        \n",
    "        # Camada linear (fully connected) para produzir a saída final\n",
    "        self.linear = torch.nn.Linear(hidden_dim * heads, output_dim)\n",
    "\n",
    "    # Método forward\n",
    "    def forward(self, data):\n",
    "        \n",
    "        # Extração dos atributos dos nós e da matriz de índices de arestas do objeto Data\n",
    "        x, edge_index = data.x, data.edge_index\n",
    "\n",
    "        # Aplicação da primeira camada GAT (self.conv1) seguida de uma função de ativação \n",
    "        x = self.conv1(x, edge_index)\n",
    "        \n",
    "        # Exponential Linear Unit (ELU)\n",
    "        x = F.elu(x)\n",
    "        \n",
    "        # Aplicação de dropout para regularização (com probabilidade de 0,5)\n",
    "        x = F.dropout(x, p = 0.5, training = self.training)\n",
    "\n",
    "        x = self.conv2(x, edge_index)\n",
    "        \n",
    "        x = F.elu(x)\n",
    "\n",
    "        # Agregação global para criar uma representação geral do grafo\n",
    "        x = global_mean_pool(x, torch.zeros(1, dtype = torch.long))\n",
    "\n",
    "        # Camada linear (self.linear) para gerar a saída final \n",
    "        x = self.linear(x)\n",
    "\n",
    "        return x"
   ]
  },
  {
   "cell_type": "code",
   "execution_count": 29,
   "id": "18717609",
   "metadata": {},
   "outputs": [],
   "source": [
    "# Cria instância do modelo\n",
    "model = RecommenderGAT(num_nodes = num_nodes)"
   ]
  },
  {
   "cell_type": "code",
   "execution_count": 30,
   "id": "0347e70b",
   "metadata": {},
   "outputs": [
    {
     "data": {
      "text/plain": [
       "<bound method Module.modules of RecommenderGAT(\n",
       "  (conv1): GATConv(7, 32, heads=2)\n",
       "  (conv2): GATConv(64, 32, heads=2)\n",
       "  (linear): Linear(in_features=64, out_features=1, bias=True)\n",
       ")>"
      ]
     },
     "execution_count": 30,
     "metadata": {},
     "output_type": "execute_result"
    }
   ],
   "source": [
    "# Camadas do modelo\n",
    "model.modules"
   ]
  },
  {
   "cell_type": "code",
   "execution_count": 31,
   "id": "65fc40b5",
   "metadata": {},
   "outputs": [],
   "source": [
    "# Função de erro\n",
    "loss_fn = torch.nn.MSELoss()"
   ]
  },
  {
   "cell_type": "code",
   "execution_count": 32,
   "id": "aa0e834c",
   "metadata": {},
   "outputs": [],
   "source": [
    "# Otimizador\n",
    "optimizer = torch.optim.Adam(model.parameters(), lr = 0.01)"
   ]
  },
  {
   "cell_type": "code",
   "execution_count": 33,
   "id": "776a2555",
   "metadata": {},
   "outputs": [],
   "source": [
    "# Número de épocas\n",
    "num_epochs = 100"
   ]
  },
  {
   "cell_type": "markdown",
   "id": "52066de0",
   "metadata": {},
   "source": [
    "## Treinamento e Avaliação do Modelo"
   ]
  },
  {
   "cell_type": "code",
   "execution_count": 34,
   "id": "522a54f3",
   "metadata": {},
   "outputs": [
    {
     "data": {
      "text/plain": [
       "RecommenderGAT(\n",
       "  (conv1): GATConv(7, 32, heads=2)\n",
       "  (conv2): GATConv(64, 32, heads=2)\n",
       "  (linear): Linear(in_features=64, out_features=1, bias=True)\n",
       ")"
      ]
     },
     "execution_count": 34,
     "metadata": {},
     "output_type": "execute_result"
    }
   ],
   "source": [
    "# Coloca o modelo em modo de treino\n",
    "model.train()"
   ]
  },
  {
   "cell_type": "code",
   "execution_count": 35,
   "id": "a843652c",
   "metadata": {},
   "outputs": [
    {
     "name": "stdout",
     "output_type": "stream",
     "text": [
      "Epoch: 10, Loss: 2.941605806350708\n",
      "Epoch: 20, Loss: 0.7767531871795654\n",
      "Epoch: 30, Loss: 1.1417573690414429\n",
      "Epoch: 40, Loss: 0.8151289224624634\n",
      "Epoch: 50, Loss: 0.7017707824707031\n",
      "Epoch: 60, Loss: 1.8063551187515259\n",
      "Epoch: 70, Loss: 0.7335324287414551\n",
      "Epoch: 80, Loss: 0.8187775015830994\n",
      "Epoch: 90, Loss: 0.705970823764801\n",
      "Epoch: 100, Loss: 0.7176841497421265\n"
     ]
    }
   ],
   "source": [
    "# Loop de treino\n",
    "for epoch in range(num_epochs):\n",
    "    total_loss = 0\n",
    "    for batch in train_data_loader:\n",
    "        optimizer.zero_grad()\n",
    "        predictions = model(batch)\n",
    "        loss = loss_fn(predictions, batch.y)\n",
    "        loss.backward()\n",
    "        optimizer.step()\n",
    "        total_loss += loss.item()\n",
    "    \n",
    "    if (epoch + 1) % 10 == 0:\n",
    "        print(f'Epoch: {epoch + 1}, Loss: {total_loss / len(train_data_loader)}')"
   ]
  },
  {
   "cell_type": "code",
   "execution_count": 36,
   "id": "739db106",
   "metadata": {},
   "outputs": [
    {
     "data": {
      "text/plain": [
       "RecommenderGAT(\n",
       "  (conv1): GATConv(7, 32, heads=2)\n",
       "  (conv2): GATConv(64, 32, heads=2)\n",
       "  (linear): Linear(in_features=64, out_features=1, bias=True)\n",
       ")"
      ]
     },
     "execution_count": 36,
     "metadata": {},
     "output_type": "execute_result"
    }
   ],
   "source": [
    "# Coloca o modelo em modo de avaliação\n",
    "model.eval()"
   ]
  },
  {
   "cell_type": "code",
   "execution_count": 37,
   "id": "4cdae88c",
   "metadata": {},
   "outputs": [],
   "source": [
    "# Faz previsões no conjunto de teste\n",
    "with torch.no_grad():\n",
    "    test_predictions = model(test_data).numpy()"
   ]
  },
  {
   "cell_type": "code",
   "execution_count": 38,
   "id": "f9b47406",
   "metadata": {},
   "outputs": [
    {
     "name": "stdout",
     "output_type": "stream",
     "text": [
      "RMSE no conjunto de teste: 2.102858304977417\n"
     ]
    }
   ],
   "source": [
    "# Calcula o RMSE comparando as previsões com as avaliações reais\n",
    "rmse = np.sqrt(np.mean((test_predictions.flatten() - test_data.y.numpy().flatten()) ** 2))\n",
    "print(f'RMSE no conjunto de teste: {rmse}')"
   ]
  },
  {
   "cell_type": "markdown",
   "id": "cd5dcc74",
   "metadata": {},
   "source": [
    "## Deploy e Teste do Sistema de Recomendação"
   ]
  },
  {
   "cell_type": "code",
   "execution_count": 39,
   "id": "bbf6eb6c",
   "metadata": {},
   "outputs": [],
   "source": [
    "# Faz a previsão com base nos dados de teste\n",
    "with torch.no_grad():\n",
    "    previsao = model(test_data).numpy()"
   ]
  },
  {
   "cell_type": "code",
   "execution_count": 40,
   "id": "009fac57",
   "metadata": {},
   "outputs": [
    {
     "name": "stdout",
     "output_type": "stream",
     "text": [
      "[[2.8971417]]\n"
     ]
    }
   ],
   "source": [
    "print(previsao)"
   ]
  },
  {
   "cell_type": "code",
   "execution_count": 41,
   "id": "ab6993d1",
   "metadata": {},
   "outputs": [],
   "source": [
    "# Cria um DataFrame com as previsões\n",
    "df_previsoes = pd.DataFrame({\n",
    "    \"user_id\": test_ratings[\"user_id\"].values,\n",
    "    \"app_id\": test_ratings[\"app_id\"].values,\n",
    "    \"predicted_rating\": np.round(previsao.flatten(), 0)\n",
    "})"
   ]
  },
  {
   "cell_type": "code",
   "execution_count": 42,
   "id": "0b7b71de",
   "metadata": {},
   "outputs": [
    {
     "name": "stdout",
     "output_type": "stream",
     "text": [
      "   user_id  app_id  predicted_rating\n",
      "0        1       3               3.0\n"
     ]
    }
   ],
   "source": [
    "# Exibe a previsão\n",
    "print(df_previsoes)"
   ]
  },
  {
   "cell_type": "code",
   "execution_count": 43,
   "id": "26b1587f",
   "metadata": {},
   "outputs": [
    {
     "name": "stdout",
     "output_type": "stream",
     "text": [
      "Recomendamos o aplicativo 3.0 para o usuário 1.0.\n"
     ]
    }
   ],
   "source": [
    "# Itera sobre as linhas do DataFrame\n",
    "for index, row in df_previsoes.iterrows():\n",
    "    if row[\"predicted_rating\"] >= 3:\n",
    "        print(f\"Recomendamos o aplicativo {row['app_id']} para o usuário {row['user_id']}.\")\n",
    "    else:\n",
    "        print(f\"Não recomendamos o aplicativo {row['app_id']} para o usuário {row['user_id']}.\")"
   ]
  },
  {
   "cell_type": "markdown",
   "id": "a6d869bb",
   "metadata": {},
   "source": [
    "# Fim"
   ]
  }
 ],
 "metadata": {
  "kernelspec": {
   "display_name": "Python 3 (ipykernel)",
   "language": "python",
   "name": "python3"
  },
  "language_info": {
   "codemirror_mode": {
    "name": "ipython",
    "version": 3
   },
   "file_extension": ".py",
   "mimetype": "text/x-python",
   "name": "python",
   "nbconvert_exporter": "python",
   "pygments_lexer": "ipython3",
   "version": "3.9.13"
  }
 },
 "nbformat": 4,
 "nbformat_minor": 5
}
